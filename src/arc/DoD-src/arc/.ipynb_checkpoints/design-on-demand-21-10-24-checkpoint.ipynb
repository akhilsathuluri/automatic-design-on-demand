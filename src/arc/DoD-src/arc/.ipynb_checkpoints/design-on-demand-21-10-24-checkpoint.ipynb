{
 "cells": [
  {
   "cell_type": "markdown",
   "metadata": {},
   "source": [
    "# URDF experiments for design on demand\n",
    "\n",
    "URDF units are written and joined with the help of the ODIO URDF library and constructed robots are played around with using the teleop from pydrake"
   ]
  },
  {
   "cell_type": "code",
   "execution_count": 1,
   "metadata": {},
   "outputs": [],
   "source": [
    "# python libraries\n",
    "import numpy as np\n",
    "import matplotlib.pyplot as plt\n",
    "from IPython.display import HTML\n",
    "\n",
    "# pydrake imports\n",
    "from pydrake.all import (MultibodyPlant, AddMultibodyPlantSceneGraph,\n",
    "                         DiagramBuilder, Parser, VectorSystem, SignalLogger,\n",
    "                         Simulator, PlanarSceneGraphVisualizer, Multiplexer,\n",
    "                         plot_system_graphviz, MatrixGain, InverseKinematics, )\n",
    "\n",
    "import pydrake.solvers.mathematicalprogram as mp"
   ]
  },
  {
   "cell_type": "code",
   "execution_count": 2,
   "metadata": {},
   "outputs": [],
   "source": [
    "import meshcat\n",
    "import pydrake.systems.meshcat_visualizer as meshcat_visualizer "
   ]
  },
  {
   "cell_type": "code",
   "execution_count": 3,
   "metadata": {},
   "outputs": [],
   "source": [
    "import os\n",
    "from IPython.display import display\n",
    "from ipywidgets import Textarea"
   ]
  },
  {
   "cell_type": "code",
   "execution_count": 4,
   "metadata": {},
   "outputs": [],
   "source": [
    "from pydrake.all import RigidTransform, RotationMatrix, RollPitchYaw\n",
    "\n",
    "import pydrake.multibody.jupyter_widgets\n",
    "import pydrake.systems.jupyter_widgets\n",
    "\n",
    "from manipulation.jupyter_widgets import MakePoseSlidersThatPublishOnCallback"
   ]
  },
  {
   "cell_type": "code",
   "execution_count": 5,
   "metadata": {},
   "outputs": [],
   "source": [
    "from odio_urdf import *\n",
    "import math\n",
    "import sys\n",
    "from operator import add"
   ]
  },
  {
   "cell_type": "code",
   "execution_count": 6,
   "metadata": {},
   "outputs": [],
   "source": [
    "# Loading the joint module\n",
    "\n",
    "builder = DiagramBuilder()\n",
    "jmod, scene_graph = AddMultibodyPlantSceneGraph(builder, time_step=0.001)\n",
    "# urdf_path = 'l2_module.urdf'\n",
    "# Parser(jmod).AddModelFromFile('l3_module.urdf')\n",
    "# Parser(jmod).AddModelFromFile('l2_module.urdf')\n",
    "# Parser(jmod).AddModelFromFile('l1_module.urdf')\n",
    "# Parser(jmod).AddModelFromFile('j_module.urdf')\n",
    "Parser(jmod).AddModelFromFile('test.urdf')\n",
    "jmod.Finalize()\n",
    "\n",
    "diagram = builder.Build()"
   ]
  },
  {
   "cell_type": "code",
   "execution_count": 7,
   "metadata": {},
   "outputs": [],
   "source": [
    "# diagram.set_name('RobotDoD testing')\n",
    "# plot_system_graphviz(diagram)"
   ]
  },
  {
   "cell_type": "code",
   "execution_count": 8,
   "metadata": {},
   "outputs": [],
   "source": [
    "diagram_context = diagram.CreateDefaultContext()\n",
    "plant_context = diagram.GetSubsystemContext(jmod, diagram_context)"
   ]
  },
  {
   "cell_type": "code",
   "execution_count": 9,
   "metadata": {
    "scrolled": true
   },
   "outputs": [
    {
     "name": "stdout",
     "output_type": "stream",
     "text": [
      "You can open the visualizer by visiting the following URL:\n",
      "http://127.0.0.1:7000/static/\n"
     ]
    }
   ],
   "source": [
    "meshcat.Visualizer().delete()"
   ]
  },
  {
   "cell_type": "code",
   "execution_count": 10,
   "metadata": {
    "scrolled": true
   },
   "outputs": [
    {
     "name": "stdout",
     "output_type": "stream",
     "text": [
      "Connecting to meshcat-server at zmq_url=tcp://127.0.0.1:6000...\n",
      "You can open the visualizer by visiting the following URL:\n",
      "http://127.0.0.1:7000/static/\n",
      "Connected to meshcat-server.\n"
     ]
    }
   ],
   "source": [
    "# delete_prefix_on_load=True removes any previous meshes when a new one is loaded\n",
    "visualizer = meshcat_visualizer.ConnectMeshcatVisualizer(\n",
    "        builder, \n",
    "        scene_graph, \n",
    "        delete_prefix_on_load=True)"
   ]
  },
  {
   "cell_type": "code",
   "execution_count": 11,
   "metadata": {},
   "outputs": [],
   "source": [
    "visualizer.load()"
   ]
  },
  {
   "cell_type": "code",
   "execution_count": 15,
   "metadata": {},
   "outputs": [],
   "source": [
    "# Now we need a data structure to capture the tree data to pass on\n",
    "# to the URDF constructor"
   ]
  },
  {
   "cell_type": "code",
   "execution_count": 241,
   "metadata": {},
   "outputs": [],
   "source": [
    "OJAB = np.array([[[0,0,0],[0,0,-1]],[[0.031, 0, 0.0556],[1,0,0]]])\n",
    "OL1AB = np.array([[[0,0,0],[1,0,0]],[[0,0,.040],[1,0,0]]])"
   ]
  },
  {
   "cell_type": "code",
   "execution_count": 304,
   "metadata": {},
   "outputs": [],
   "source": [
    "# Initiate the tree structure with a base\n",
    "\n",
    "# Decided to use numpy for array manipulation\n",
    "\n",
    "# Need to setup good connection rules for both origin and orientation\n",
    "# And then setup joints\n",
    "\n",
    "class robotDoD:\n",
    "    def __init__(self, name):\n",
    "        self.name = name\n",
    "        self.materials = Group(\n",
    "            Material(\"blue\", Color(rgba=\"0 0 0.8 1.0\")),\n",
    "            Material(\"red\", Color(rgba=\"0.8 0 0 1.0\")))\n",
    "        self.robot = Robot(self.name, self.materials)\n",
    "        # The tree contains all the interface data and the robot architecture data        \n",
    "        self.tree = {}\n",
    "        \n",
    "        # Interface position and orientation for the connection rules\n",
    "        # Each component has two interfaces A and B and the position \n",
    "        # and orientation of the faces A and B are given below\n",
    "        self.ORAB = np.array([[[0,0,0],[0,0,-1]],[[0.01,0,0],[0,0,1]]])\n",
    "        self.OJAB = np.array([[[0,0,0],[0,0,-1]],[[0.031, 0, 0.0556],[1,0,0]]])\n",
    "        self.OL1AB = np.array([[[0,0,0],[1,0,0]],[[0,0,.040],[1,0,0]]])\n",
    "        self.OL2AB = np.array([[[0,0,0],[1,0,0]],[[-.040, 0, .150],[0,0,1]]])\n",
    "        self.OL3AB = np.array([[[0,0,0],[0,0,-1]],[[.040, 0, .150],[1,0,0]]])\n",
    "        \n",
    "        # Could have a global prev module to handle memory of the previous module\n",
    "        \n",
    "    def list2space(self, com):\n",
    "        return str(com[0])+' '+str(com[1])+' '+str(com[2])\n",
    "    \n",
    "    def rotZ(self, angle):\n",
    "        return np.array([[np.cos(angle), -np.sin(angle), 0],[np.sin(angle), np.cos(angle), 0],[0,0,1]])\n",
    "    \n",
    "    def rotY(self, angle):\n",
    "        return np.array([[np.cos(angle), 0, np.sin(angle)],[0, 1, 0],[-np.sin(angle), 0, np.cos(angle)]])\n",
    "\n",
    "    def rotX(self, angle):\n",
    "        return np.array([[1,0,0], [0, np.cos(angle), -np.sin(angle)],[0, np.sin(angle), np.cos(angle)]])\n",
    "    \n",
    "    def transform_vector(self, axis, angle, vector):\n",
    "        if axis == 0:\n",
    "            return self.rotX(angle).dot(vector)\n",
    "        if axis == 1:\n",
    "            return self.rotY(angle).dot(vector)\n",
    "        if axis == 2:\n",
    "            return self.rotZ(angle).dot(vector)\n",
    "        else:\n",
    "            raise AssertionError(\"Error: Rotation about unknown axis requested\") \n",
    "    \n",
    "    def add_root(self):        \n",
    "        root_link = Link(\n",
    "                    Visual(\n",
    "                        Origin(rpy = \"0 0 0\", xyz = \"0 0 0\"),\n",
    "                        Material (name = \"red\"),\n",
    "                        Geometry(Cylinder(length = 0.02, radius = 0.05))),\n",
    "                    name = \"root_link\")\n",
    "        \n",
    "        self.robot(root_link)\n",
    "        self.tree['root_link'] = self.ORAB\n",
    "        \n",
    "        # Update previous module data to the latest data\n",
    "        self.prev_module = self.ORAB\n",
    "        \n",
    "    def add_jmod(self):\n",
    "        # Always start from the root module which initates the self.prev_module\n",
    "        if self.tree == {}:\n",
    "            raise AssertionError(\"Error: Add root module first before initiating the tree\")\n",
    "            \n",
    "        # Origin for the current module based on the previous modules B interface\n",
    "        current_origin = self.prev_module[1][0] + self.OJAB[0][0]\n",
    "        current_origin, current_orientation, next_origin, next_orientation = self.computeConnection(self.OJAB)\n",
    "        \n",
    "        # Add joint to the robot URDF\n",
    "        joint = Link(\n",
    "                 Visual(\n",
    "                    Origin(xyz = list2space(next_origin), rpy = list2space(next_orientation)),\n",
    "                    Material(name = \"red\"),\n",
    "                    Geometry(Mesh(filename = \"./meshes/j_module.obj\", scale = \"0.001 0.001 0.001\"))),\n",
    "                name='joint_'+str(len(self.tree.keys())))\n",
    "        \n",
    "        self.robot(joint)\n",
    "        \n",
    "        name='joint_'+str(len(self.tree.keys()))\n",
    "        # Add joint to tree\n",
    "        self.tree[name] = self.prev_module;\n",
    "        pass\n",
    "        \n",
    "    def add_l1mod(self):\n",
    "        pass\n",
    "        # This would be the origin for the next module in the tree\n",
    "#         print(self.tree)\n",
    "#         next_origin = list(map(add, list(self.tree.values())[-1][0], OL1B));\n",
    "#         next_orientation = list(map(add, list(self.tree.values())[-1][1], [0,0,0]));\n",
    "        \n",
    "#         # current origin and orientation\n",
    "#         j_orientation = list(map(add, list(self.tree.values())[-1][1], [1.5708,0,0]));\n",
    "#         # Add joint to the robot URDF\n",
    "#         link = Link(\n",
    "#                     Visual(\n",
    "#                     Origin(xyz = list2space([*self.tree.values()][-1][0]), rpy = list2space(j_orientation)),\n",
    "#                     Material(name = \"red\"),\n",
    "#                     Geometry(Mesh(filename = \"./meshes/l1_module.obj\", scale = \"0.001 0.001 0.001\"))),\n",
    "#                 name='l1_link_'+str(len(self.tree.keys())))\n",
    "        \n",
    "#         name='joint_'+str(len(self.tree.keys()))\n",
    "#         # Add joint to tree\n",
    "#         self.tree[name] = [next_origin, next_orientation];\n",
    "                          \n",
    "    def add_l2mod(self):\n",
    "        pass\n",
    "    def add_l3mod(self):\n",
    "        pass\n",
    "    def constructURDF(self):\n",
    "        # Later replace the name of the URDF to the given name\n",
    "        name = 'test.urdf'\n",
    "        with open(name, 'w') as f:\n",
    "            print(self.robot, file=f)\n",
    "            print('Robot design successfully saved as '+name)\n",
    "        \n",
    "    def computeConnection(self, current_module):\n",
    "        # Compute origin of the current module\n",
    "        current_origin = self.prev_module[1][0] + current_module[0][0]\n",
    "        next_origin = current_origin + current_module[1][0]\n",
    "        current_orientation = np.zeros(3)\n",
    "        # Compute the orientation of the current module\n",
    "        # Add rules to compute rotations between complicated modules later\n",
    "        # Check if they are already aligned, in which case do nothing\n",
    "        if np.all(self.prev_module[1][1]+current_module[0][1] == 0):\n",
    "#             Fix a way to represent orientation either a angles about axis or the direction vector of the face\n",
    "            next_orientation = current_module[1][1]\n",
    "            self.prev_module = np.array([[current_origin, current_orientation],[next_origin, next_orientation]])\n",
    "            return current_origin, current_orientation, next_origin, next_orientation\n",
    "        # if not aligned find the alignment rotation axis and angle\n",
    "        # Assuming that only one rotation is sufficient for simple modules in the current work\n",
    "        else:\n",
    "            # Find the angle between them using cross and dot products\n",
    "            angle_prev_curr = np.cross(self.prev_module[1][1], current_module[0][1])\n",
    "            # Check if they are aligned\n",
    "            if np.all(angle_prev_curr == 0):\n",
    "                # Aligned, implies rotate pi about any other axis\n",
    "                # This logic can only handle simple axis generally perpendicular to each other\n",
    "                axis = np.where(self.prev_module[1][1] + current_module[0][1] == 0)[0][0]\n",
    "                current_orientation[axis] = 3.1416\n",
    "                # Need a routine for rotation matrix and the angle\n",
    "                next_orientation = np.round(self.transform_vector(axis, 3.1416, current_module[1][1]))\n",
    "                self.prev_module = np.array([[current_origin, current_orientation],[next_origin, next_orientation]])\n",
    "                return current_origin, current_orientation, next_origin, next_orientation\n",
    "            else:\n",
    "                pass\n",
    "        pass"
   ]
  },
  {
   "cell_type": "code",
   "execution_count": 305,
   "metadata": {},
   "outputs": [],
   "source": [
    "roboDoD = robotDoD(\"test\");\n",
    "roboDoD.robot\n",
    "roboDoD.add_root()\n",
    "roboDoD.add_jmod()\n",
    "roboDoD.add_l1mod()\n",
    "prev = roboDoD.prev_module"
   ]
  },
  {
   "cell_type": "code",
   "execution_count": 306,
   "metadata": {},
   "outputs": [
    {
     "data": {
      "text/plain": [
       "<robot  name=\"test\" >\n",
       " <material  name=\"blue\" >\n",
       "  <color  rgba=\"0 0 0.8 1.0\" />\n",
       " </material>\n",
       " <material  name=\"red\" >\n",
       "  <color  rgba=\"0.8 0 0 1.0\" />\n",
       " </material>\n",
       " <link  name=\"root_link\" >\n",
       "  <visual >\n",
       "   <origin  xyz=\"0 0 0\"  rpy=\"0 0 0\" />\n",
       "   <material  name=\"red\" />\n",
       "   <geometry >\n",
       "    <cylinder  length=\"0.02\"  radius=\"0.05\" />\n",
       "   </geometry>\n",
       "  </visual>\n",
       " </link>\n",
       " <link  name=\"joint_1\" >\n",
       "  <visual >\n",
       "   <origin  xyz=\"0.041 0.0 0.0556\"  rpy=\"1.0 0.0 0.0\" />\n",
       "   <material  name=\"red\" />\n",
       "   <geometry >\n",
       "    <mesh  filename=\"./meshes/j_module.obj\"  scale=\"0.001 0.001 0.001\" />\n",
       "   </geometry>\n",
       "  </visual>\n",
       " </link>\n",
       "</robot>"
      ]
     },
     "execution_count": 306,
     "metadata": {},
     "output_type": "execute_result"
    }
   ],
   "source": [
    "roboDoD.robot"
   ]
  },
  {
   "cell_type": "code",
   "execution_count": 297,
   "metadata": {},
   "outputs": [
    {
     "name": "stdout",
     "output_type": "stream",
     "text": [
      "Robot design successfully saved as test.urdf\n"
     ]
    }
   ],
   "source": [
    "roboDoD.constructURDF()"
   ]
  },
  {
   "cell_type": "code",
   "execution_count": 275,
   "metadata": {},
   "outputs": [
    {
     "data": {
      "text/plain": [
       "array([-1., -0.,  0.])"
      ]
     },
     "execution_count": 275,
     "metadata": {},
     "output_type": "execute_result"
    }
   ],
   "source": [
    "np.round(roboDoD.transform_vector(2, 3.1416, OL1AB[1][1]))"
   ]
  },
  {
   "cell_type": "code",
   "execution_count": 276,
   "metadata": {},
   "outputs": [
    {
     "data": {
      "text/plain": [
       "array([1., 0., 0.])"
      ]
     },
     "execution_count": 276,
     "metadata": {},
     "output_type": "execute_result"
    }
   ],
   "source": [
    "OL1AB[0][1]"
   ]
  },
  {
   "cell_type": "code",
   "execution_count": 277,
   "metadata": {},
   "outputs": [
    {
     "data": {
      "text/plain": [
       "array([1., 0., 0.])"
      ]
     },
     "execution_count": 277,
     "metadata": {},
     "output_type": "execute_result"
    }
   ],
   "source": [
    "prev[1][1]"
   ]
  },
  {
   "cell_type": "code",
   "execution_count": 217,
   "metadata": {},
   "outputs": [
    {
     "data": {
      "text/plain": [
       "0"
      ]
     },
     "execution_count": 217,
     "metadata": {},
     "output_type": "execute_result"
    }
   ],
   "source": [
    "np.where(OJAB[0][1]==prev[1][1])[0][0]"
   ]
  },
  {
   "cell_type": "code",
   "execution_count": 78,
   "metadata": {},
   "outputs": [],
   "source": [
    "materials = Group(\n",
    "            Material(\"blue\", Color(rgba=\"0 0 0.8 1.0\")),\n",
    "            Material(\"red\", Color(rgba=\"0.8 0 0 1.0\")))\n",
    "robot = Robot(\"robotDoD\", materials)\n",
    "tree = {}\n",
    "\n",
    "OJB = [.031, 0, 0.0556]\n",
    "OL1B = [0,0,.040]\n",
    "OL2B = [-.040, 0, .150]\n",
    "OL3B = [.040, 0, .150]"
   ]
  },
  {
   "cell_type": "code",
   "execution_count": 79,
   "metadata": {},
   "outputs": [],
   "source": [
    "root_link = Link(\n",
    "                Visual(\n",
    "                Origin(rpy = \"0 0 0\", xyz = \"0 0 0\"),\n",
    "                Material (name = \"red\"),\n",
    "                Geometry(Cylinder(length = 0.02, radius = 0.05))),\n",
    "    name = \"root_link\")\n",
    "\n",
    "tree['root_link'] = [[0,0,0.01],[0,0,0]]\n",
    "\n",
    "robot(root_link);"
   ]
  },
  {
   "cell_type": "code",
   "execution_count": 80,
   "metadata": {},
   "outputs": [],
   "source": [
    "next_origin = list(map(add, list(tree.values())[-1][0], OJB));\n",
    "next_orientation = list(map(add, list(tree.values())[-1][1], [0,0,0]));"
   ]
  },
  {
   "cell_type": "code",
   "execution_count": 81,
   "metadata": {},
   "outputs": [],
   "source": [
    "j_orientation = list(map(add, list(tree.values())[-1][1], [1.5708,0,0]));\n",
    "\n",
    "joint = Link(\n",
    "            Visual(\n",
    "            Origin(xyz = list2space([*tree.values()][-1][0]), rpy = list2space(j_orientation)),\n",
    "            Material(name = \"red\"),\n",
    "            Geometry(Mesh(filename = \"./meshes/j_module.obj\", scale = \"0.001 0.001 0.001\"))),\n",
    "        name='joint_'+str(len(tree.keys())))\n",
    "\n",
    "name='joint_'+str(len(tree.keys()))\n",
    "tree[name] = [next_origin, next_orientation];"
   ]
  },
  {
   "cell_type": "code",
   "execution_count": 82,
   "metadata": {},
   "outputs": [
    {
     "data": {
      "text/plain": [
       "<robot  name=\"robotDoD\" >\n",
       " <material  name=\"blue\" >\n",
       "  <color  rgba=\"0 0 0.8 1.0\" />\n",
       " </material>\n",
       " <material  name=\"red\" >\n",
       "  <color  rgba=\"0.8 0 0 1.0\" />\n",
       " </material>\n",
       " <link  name=\"root_link\" >\n",
       "  <visual >\n",
       "   <origin  xyz=\"0 0 0\"  rpy=\"0 0 0\" />\n",
       "   <material  name=\"red\" />\n",
       "   <geometry >\n",
       "    <cylinder  length=\"0.02\"  radius=\"0.05\" />\n",
       "   </geometry>\n",
       "  </visual>\n",
       " </link>\n",
       " <link  name=\"joint_1\" >\n",
       "  <visual >\n",
       "   <origin  xyz=\"0 0 0.01\"  rpy=\"1.5708 0 0\" />\n",
       "   <material  name=\"red\" />\n",
       "   <geometry >\n",
       "    <mesh  scale=\"0.001 0.001 0.001\"  filename=\"./meshes/j_module.obj\" />\n",
       "   </geometry>\n",
       "  </visual>\n",
       " </link>\n",
       "</robot>"
      ]
     },
     "execution_count": 82,
     "metadata": {},
     "output_type": "execute_result"
    }
   ],
   "source": [
    "robot(joint)"
   ]
  },
  {
   "cell_type": "code",
   "execution_count": 83,
   "metadata": {},
   "outputs": [],
   "source": [
    "next_origin = list(map(add, list(tree.values())[-1][0], OL1B));\n",
    "next_orientation = list(map(add, list(tree.values())[-1][1], [0,0,0]));"
   ]
  },
  {
   "cell_type": "code",
   "execution_count": 84,
   "metadata": {},
   "outputs": [],
   "source": [
    "# current origin and orientation\n",
    "j_orientation = list(map(add, list(tree.values())[-1][1], [1.5708,0,0]));\n",
    "# Add joint to the robot URDF\n",
    "link = Link(\n",
    "            Visual(\n",
    "            Origin(xyz = list2space([*tree.values()][-1][0]), rpy = list2space(j_orientation)),\n",
    "            Material(name = \"red\"),\n",
    "            Geometry(Mesh(filename = \"./meshes/l1_module.obj\", scale = \"0.001 0.001 0.001\"))),\n",
    "        name='l1_link_'+str(len(tree.keys())))\n",
    "\n",
    "name='joint_'+str(len(tree.keys()))\n",
    "# Add joint to tree\n",
    "tree[name] = [next_origin, next_orientation];"
   ]
  },
  {
   "cell_type": "code",
   "execution_count": 85,
   "metadata": {},
   "outputs": [
    {
     "data": {
      "text/plain": [
       "<robot  name=\"robotDoD\" >\n",
       " <material  name=\"blue\" >\n",
       "  <color  rgba=\"0 0 0.8 1.0\" />\n",
       " </material>\n",
       " <material  name=\"red\" >\n",
       "  <color  rgba=\"0.8 0 0 1.0\" />\n",
       " </material>\n",
       " <link  name=\"root_link\" >\n",
       "  <visual >\n",
       "   <origin  xyz=\"0 0 0\"  rpy=\"0 0 0\" />\n",
       "   <material  name=\"red\" />\n",
       "   <geometry >\n",
       "    <cylinder  length=\"0.02\"  radius=\"0.05\" />\n",
       "   </geometry>\n",
       "  </visual>\n",
       " </link>\n",
       " <link  name=\"joint_1\" >\n",
       "  <visual >\n",
       "   <origin  xyz=\"0 0 0.01\"  rpy=\"1.5708 0 0\" />\n",
       "   <material  name=\"red\" />\n",
       "   <geometry >\n",
       "    <mesh  scale=\"0.001 0.001 0.001\"  filename=\"./meshes/j_module.obj\" />\n",
       "   </geometry>\n",
       "  </visual>\n",
       " </link>\n",
       " <link  name=\"l1_link_2\" >\n",
       "  <visual >\n",
       "   <origin  xyz=\"0.031 0 0.06559999999999999\"  rpy=\"1.5708 0 0\" />\n",
       "   <material  name=\"red\" />\n",
       "   <geometry >\n",
       "    <mesh  scale=\"0.001 0.001 0.001\"  filename=\"./meshes/l1_module.obj\" />\n",
       "   </geometry>\n",
       "  </visual>\n",
       " </link>\n",
       "</robot>"
      ]
     },
     "execution_count": 85,
     "metadata": {},
     "output_type": "execute_result"
    }
   ],
   "source": [
    "robot(link)"
   ]
  },
  {
   "cell_type": "code",
   "execution_count": 86,
   "metadata": {},
   "outputs": [],
   "source": [
    "with open('test.urdf', 'w') as f:\n",
    "    print(robot, file=f)"
   ]
  },
  {
   "cell_type": "code",
   "execution_count": 87,
   "metadata": {},
   "outputs": [
    {
     "data": {
      "text/plain": [
       "{'root_link': [[0, 0, 0.01], [0, 0, 0]],\n",
       " 'joint_1': [[0.031, 0, 0.06559999999999999], [0, 0, 0]],\n",
       " 'joint_2': [[0.031, 0, 0.1056], [0, 0, 0]]}"
      ]
     },
     "execution_count": 87,
     "metadata": {},
     "output_type": "execute_result"
    }
   ],
   "source": [
    "tree"
   ]
  },
  {
   "cell_type": "code",
   "execution_count": 88,
   "metadata": {},
   "outputs": [
    {
     "data": {
      "text/plain": [
       "[0.031, 0, 0.0556]"
      ]
     },
     "execution_count": 88,
     "metadata": {},
     "output_type": "execute_result"
    }
   ],
   "source": [
    "OJB"
   ]
  },
  {
   "cell_type": "code",
   "execution_count": null,
   "metadata": {},
   "outputs": [],
   "source": []
  }
 ],
 "metadata": {
  "kernelspec": {
   "display_name": "Python 3 (ipykernel)",
   "language": "python",
   "name": "python3"
  },
  "language_info": {
   "codemirror_mode": {
    "name": "ipython",
    "version": 3
   },
   "file_extension": ".py",
   "mimetype": "text/x-python",
   "name": "python",
   "nbconvert_exporter": "python",
   "pygments_lexer": "ipython3",
   "version": "3.8.11"
  }
 },
 "nbformat": 4,
 "nbformat_minor": 4
}
