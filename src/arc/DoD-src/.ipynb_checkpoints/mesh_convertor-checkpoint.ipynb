{
 "cells": [
  {
   "cell_type": "code",
   "execution_count": 1,
   "id": "57dc15c2",
   "metadata": {},
   "outputs": [],
   "source": [
    "# Imports\n",
    "from glob import glob\n",
    "from os import path\n",
    "import pymesh"
   ]
  },
  {
   "cell_type": "code",
   "execution_count": 2,
   "id": "be7338ee",
   "metadata": {},
   "outputs": [],
   "source": [
    "# Running this cell once is sufficient\n",
    "\n",
    "# Convert all stl files to obj and modify the URDF file\n",
    "mesh_path = './meshes/'\n",
    "# output_path = './robot_properties_fingers/meshes/'\n",
    "output_path = mesh_path\n",
    "# Get list of stl files\n",
    "# file_list = glob.glob(mesh_path+'*.stl')\n",
    "pattern = mesh_path+\"*.stl\"\n",
    "file_list = [path.basename(x) for x in glob(pattern)]\n",
    "# Convert all stls to objs and save in new folder\n",
    "for file in file_list:\n",
    "    temp_mesh = pymesh.load_mesh(mesh_path+file)\n",
    "    pymesh.save_mesh(output_path+file.split('.')[0]+'.obj', temp_mesh)\n",
    "    \n",
    "# Modify URDF file\n",
    "# Read URDF as string\n",
    "# >>> with open('./robot_properties_fingers/urdf/finger.urdf', 'r') as file:\n",
    "# ...     data = file.read().replace('\\n', '')\n",
    "# Load URDF to parse\n",
    "# rob = URDF.from_xml_string(data)\n",
    "# Read elements\n",
    "# rob.links[0].visual.geometry.filename\n",
    "# rob.transmissions"
   ]
  }
 ],
 "metadata": {
  "kernelspec": {
   "display_name": "Python 3 (ipykernel)",
   "language": "python",
   "name": "python3"
  },
  "language_info": {
   "codemirror_mode": {
    "name": "ipython",
    "version": 3
   },
   "file_extension": ".py",
   "mimetype": "text/x-python",
   "name": "python",
   "nbconvert_exporter": "python",
   "pygments_lexer": "ipython3",
   "version": "3.8.5"
  }
 },
 "nbformat": 4,
 "nbformat_minor": 5
}
