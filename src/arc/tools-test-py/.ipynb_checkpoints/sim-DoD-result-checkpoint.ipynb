{
 "cells": [
  {
   "cell_type": "code",
   "execution_count": 13,
   "id": "78191496",
   "metadata": {},
   "outputs": [],
   "source": [
    "# Imports\n",
    "import numpy as np\n",
    "import altair as alt\n",
    "import pydot\n",
    "from IPython.display import display, SVG, clear_output, HTML\n",
    "import matplotlib.pyplot as plt\n",
    "\n",
    "from pydrake.all import *\n",
    "from pydrake.examples.manipulation_station import ManipulationStation\n",
    "\n",
    "from manipulation import running_as_notebook\n",
    "from manipulation.meshcat_cpp_utils import (\n",
    "    StartMeshcat, MeshcatJointSlidersThatPublish)\n",
    "from manipulation.scenarios import AddMultibodyTriad, SetColor\n",
    "\n",
    "import pandas as pd"
   ]
  },
  {
   "cell_type": "code",
   "execution_count": 14,
   "id": "87f11e7b",
   "metadata": {},
   "outputs": [
    {
     "data": {
      "text/html": [
       "Meshcat is now available at <a href=\"http://localhost:7002\">http://localhost:7002</a>"
      ],
      "text/plain": [
       "<IPython.core.display.HTML object>"
      ]
     },
     "metadata": {},
     "output_type": "display_data"
    }
   ],
   "source": [
    "# Start the visualizer.\n",
    "meshcat = StartMeshcat()"
   ]
  },
  {
   "cell_type": "code",
   "execution_count": 68,
   "id": "d602559e",
   "metadata": {},
   "outputs": [],
   "source": [
    "# Load the best robot\n",
    "# urdf_path = './saved_robots/greedy_stowing_root.urdf'\n",
    "urdf_path = './saved_robots/e1-updated_mass.urdf'\n",
    "meshcat.Delete()\n",
    "meshcat.DeleteAddedControls()"
   ]
  },
  {
   "cell_type": "code",
   "execution_count": 69,
   "id": "8b4b24a5",
   "metadata": {},
   "outputs": [],
   "source": [
    "# Setup basic diagram and the sphere at the desired location\n",
    "builder = DiagramBuilder()\n",
    "# Get path of the best child\n",
    "plant, scene_graph = AddMultibodyPlantSceneGraph(builder, time_step=1e-4)\n",
    "model = Parser(plant, scene_graph).AddModelFromFile(urdf_path, 'lcl-DoD-robot')\n",
    "# Weld the robot to the world frame\n",
    "plant.WeldFrames(plant.world_frame(), plant.get_body(plant.GetBodyIndices(model)[0]).body_frame())\n",
    "\n",
    "# Spawn spherical work marker\n",
    "sphere1 = Parser(plant, scene_graph).AddModelFromFile('./urdfs/helper/sphere.urdf','sphere1')\n",
    "sphere2 = Parser(plant, scene_graph).AddModelFromFile('./urdfs/helper/sphere.urdf','sphere2')\n",
    "# We can sample end-points on the surface of the sphere\n",
    "# cart0 = np.array([-0.3, 0.4, 0.3])\n",
    "# ---------------------------------------------------------------\n",
    "# They have to be exact to what we designed for!!!\n",
    "cart0 = np.array([0.1, 0.1, 0.25])\n",
    "cartf = np.array([-0.25, 0.1, 0.1])\n",
    "# ---------------------------------------------------------------\n",
    "X_R1 = RigidTransform(cart0)\n",
    "X_R2 = RigidTransform(cartf)\n",
    "plant.WeldFrames(plant.world_frame(), plant.get_body(plant.GetBodyIndices(sphere1)[0]).body_frame(), X_R1)\n",
    "plant.WeldFrames(plant.world_frame(), plant.get_body(plant.GetBodyIndices(sphere2)[0]).body_frame(), X_R2)\n",
    "plant.Finalize()\n",
    "\n",
    "# Select the last frame as the eef_frame\n",
    "gripper_frame = plant.GetBodyByName(\"eef\").body_frame()\n",
    "\n",
    "meshcat.Delete()\n",
    "meshcat.DeleteAddedControls()\n",
    "\n",
    "visualizer = MeshcatVisualizerCpp.AddToBuilder(builder, scene_graph, meshcat)\n",
    "\n",
    "# Draw the frames\n",
    "# for body_name in [\"eef\"]:\n",
    "# # for body_name in [\"base_link\", \"eef\"]:\n",
    "#     AddMultibodyTriad(plant.GetFrameByName(body_name, model), scene_graph)\n",
    "\n",
    "nq = plant.num_actuators()\n",
    "Kp = np.full(nq, 10)\n",
    "Ki = np.full(nq, 0)\n",
    "Kd = 2*np.sqrt(Kp)\n",
    "\n",
    "iiwa_controller = builder.AddSystem(InverseDynamicsController(plant, Kp, Ki, Kd, False))\n",
    "iiwa_controller.set_name(\"iiwa_controller\");\n",
    "builder.Connect(plant.get_state_output_port(model),\n",
    "                iiwa_controller.get_input_port_estimated_state())\n",
    "builder.Connect(iiwa_controller.get_output_port_control(), \n",
    "                plant.get_actuation_input_port())\n",
    "\n",
    "# Commanded torque\n",
    "logger1 = LogVectorOutput(iiwa_controller.get_output_port_control(), builder)\n",
    "logger2 = LogVectorOutput(plant.get_state_output_port(model), builder)\n",
    "\n",
    "diagram = builder.Build()\n",
    "context = diagram.CreateDefaultContext()\n",
    "plant_context = plant.GetMyMutableContextFromRoot(context)\n",
    "\n",
    "q0 = plant.GetPositions(plant_context)\n",
    "# diagram.Publish(context)"
   ]
  },
  {
   "cell_type": "code",
   "execution_count": 70,
   "id": "4a6ff7ec",
   "metadata": {
    "scrolled": true
   },
   "outputs": [],
   "source": [
    "#  SVG(pydot.graph_from_dot_data(diagram.GetGraphvizString())[0].create_svg())"
   ]
  },
  {
   "cell_type": "code",
   "execution_count": 71,
   "id": "6e4854b0",
   "metadata": {},
   "outputs": [
    {
     "name": "stdout",
     "output_type": "stream",
     "text": [
      "init pose IK:  True   [ 0.64349886  0.76346407 -0.75599177]\n",
      "final pose IK:  True   [ 1.73707881  0.36122209 -2.24041456]\n"
     ]
    }
   ],
   "source": [
    "# Compute initial and final poses form the Cartesian points\n",
    "carti = np.array([0.1, 0.1, 0.25])\n",
    "cartf = np.array([-0.25, 0.1, 0.1])\n",
    "\n",
    "# Compute IK\n",
    "ik = InverseKinematics(plant, plant_context)\n",
    "ik.AddPositionConstraint(\n",
    "            gripper_frame, [0, 0, 0], plant.world_frame(), \n",
    "            carti, carti)\n",
    "prog = ik.get_mutable_prog()\n",
    "q = ik.q()\n",
    "prog.AddQuadraticErrorCost(np.identity(len(q)), q0, q)\n",
    "prog.SetInitialGuess(q, q0)\n",
    "result = Solve(ik.prog())\n",
    "qinit = result.GetSolution(ik.q())\n",
    "# Condition the final angles to be between -pi and pi\n",
    "qinit = (np.arctan2(np.sin(qinit), np.cos(qinit)))\n",
    "print('init pose IK: ', result.is_success(),' ', qinit )\n",
    "\n",
    "# Compute ik for pose-2\n",
    "ik = InverseKinematics(plant, plant_context)\n",
    "ik.AddPositionConstraint(\n",
    "            gripper_frame, [0, 0, 0], plant.world_frame(), \n",
    "            cartf, cartf)\n",
    "prog = ik.get_mutable_prog()\n",
    "q = ik.q()\n",
    "prog.AddQuadraticErrorCost(np.identity(len(q)), qinit, q)\n",
    "prog.SetInitialGuess(q, qinit)\n",
    "result = Solve(ik.prog())\n",
    "qd = result.GetSolution(ik.q())\n",
    "# Condition the final angles to be between -pi and pi\n",
    "qd = (np.arctan2(np.sin(qd), np.cos(qd)))\n",
    "print('final pose IK: ', result.is_success(),' ', qd)\n",
    "# diagram.Publish(context)"
   ]
  },
  {
   "cell_type": "code",
   "execution_count": 72,
   "id": "34e9f55d",
   "metadata": {},
   "outputs": [
    {
     "name": "stderr",
     "output_type": "stream",
     "text": [
      "[2022-02-01 11:06:02.397] [console] [warning] Meshcat: Failed to load texture. /home/nightmareforev/git/research/lcl-robots/src/tools-test-py/saved_robots/meshes/l2_module.obj references f7b2bd91-5f44-436c-8d02-ef081fb01593.mtl, but Meshcat could not open filename \"/home/nightmareforev/git/research/lcl-robots/src/tools-test-py/saved_robots/meshes/f7b2bd91-5f44-436c-8d02-ef081fb01593.mtl\"\n",
      "[2022-02-01 11:06:02.422] [console] [warning] Meshcat: Failed to load texture. /home/nightmareforev/git/research/lcl-robots/src/tools-test-py/saved_robots/meshes/j_module.obj references 29fd947b-97f8-4696-91a7-40d64dd5beae.mtl, but Meshcat could not open filename \"/home/nightmareforev/git/research/lcl-robots/src/tools-test-py/saved_robots/meshes/29fd947b-97f8-4696-91a7-40d64dd5beae.mtl\"\n",
      "[2022-02-01 11:06:02.429] [console] [warning] Meshcat: Failed to load texture. /home/nightmareforev/git/research/lcl-robots/src/tools-test-py/saved_robots/meshes/l2_module.obj references f7b2bd91-5f44-436c-8d02-ef081fb01593.mtl, but Meshcat could not open filename \"/home/nightmareforev/git/research/lcl-robots/src/tools-test-py/saved_robots/meshes/f7b2bd91-5f44-436c-8d02-ef081fb01593.mtl\"\n",
      "[2022-02-01 11:06:02.447] [console] [warning] Meshcat: Failed to load texture. /home/nightmareforev/git/research/lcl-robots/src/tools-test-py/saved_robots/meshes/j_module.obj references 29fd947b-97f8-4696-91a7-40d64dd5beae.mtl, but Meshcat could not open filename \"/home/nightmareforev/git/research/lcl-robots/src/tools-test-py/saved_robots/meshes/29fd947b-97f8-4696-91a7-40d64dd5beae.mtl\"\n",
      "[2022-02-01 11:06:02.458] [console] [warning] Meshcat: Failed to load texture. /home/nightmareforev/git/research/lcl-robots/src/tools-test-py/saved_robots/meshes/l1_module.obj references f383e0f4-56f7-4c7b-a1d1-cbc3f41bfe7b.mtl, but Meshcat could not open filename \"/home/nightmareforev/git/research/lcl-robots/src/tools-test-py/saved_robots/meshes/f383e0f4-56f7-4c7b-a1d1-cbc3f41bfe7b.mtl\"\n"
     ]
    }
   ],
   "source": [
    "# Set inital and desired poses\n",
    "xd = np.hstack((qd, 0*qd))\n",
    "plant.SetPositions(plant_context, qinit)\n",
    "iiwa_controller.GetInputPort('desired_state').FixValue(\n",
    "iiwa_controller.GetMyMutableContextFromRoot(context), xd)\n",
    "# plant.get_actuation_input_port().FixValue(plant_context, np.array([0,0,0]))\n",
    "diagram.Publish(context)"
   ]
  },
  {
   "cell_type": "code",
   "execution_count": 73,
   "id": "c548d83a",
   "metadata": {},
   "outputs": [
    {
     "name": "stderr",
     "output_type": "stream",
     "text": [
      "[2022-02-01 11:06:04.021] [console] [warning] Meshcat: Failed to load texture. /home/nightmareforev/git/research/lcl-robots/src/tools-test-py/saved_robots/meshes/l2_module.obj references f7b2bd91-5f44-436c-8d02-ef081fb01593.mtl, but Meshcat could not open filename \"/home/nightmareforev/git/research/lcl-robots/src/tools-test-py/saved_robots/meshes/f7b2bd91-5f44-436c-8d02-ef081fb01593.mtl\"\n",
      "[2022-02-01 11:06:04.040] [console] [warning] Meshcat: Failed to load texture. /home/nightmareforev/git/research/lcl-robots/src/tools-test-py/saved_robots/meshes/j_module.obj references 29fd947b-97f8-4696-91a7-40d64dd5beae.mtl, but Meshcat could not open filename \"/home/nightmareforev/git/research/lcl-robots/src/tools-test-py/saved_robots/meshes/29fd947b-97f8-4696-91a7-40d64dd5beae.mtl\"\n",
      "[2022-02-01 11:06:04.047] [console] [warning] Meshcat: Failed to load texture. /home/nightmareforev/git/research/lcl-robots/src/tools-test-py/saved_robots/meshes/l2_module.obj references f7b2bd91-5f44-436c-8d02-ef081fb01593.mtl, but Meshcat could not open filename \"/home/nightmareforev/git/research/lcl-robots/src/tools-test-py/saved_robots/meshes/f7b2bd91-5f44-436c-8d02-ef081fb01593.mtl\"\n",
      "[2022-02-01 11:06:04.065] [console] [warning] Meshcat: Failed to load texture. /home/nightmareforev/git/research/lcl-robots/src/tools-test-py/saved_robots/meshes/j_module.obj references 29fd947b-97f8-4696-91a7-40d64dd5beae.mtl, but Meshcat could not open filename \"/home/nightmareforev/git/research/lcl-robots/src/tools-test-py/saved_robots/meshes/29fd947b-97f8-4696-91a7-40d64dd5beae.mtl\"\n",
      "[2022-02-01 11:06:04.077] [console] [warning] Meshcat: Failed to load texture. /home/nightmareforev/git/research/lcl-robots/src/tools-test-py/saved_robots/meshes/l1_module.obj references f383e0f4-56f7-4c7b-a1d1-cbc3f41bfe7b.mtl, but Meshcat could not open filename \"/home/nightmareforev/git/research/lcl-robots/src/tools-test-py/saved_robots/meshes/f383e0f4-56f7-4c7b-a1d1-cbc3f41bfe7b.mtl\"\n"
     ]
    },
    {
     "data": {
      "text/plain": [
       "<pydrake.systems.analysis.SimulatorStatus at 0x7f00e1113030>"
      ]
     },
     "execution_count": 73,
     "metadata": {},
     "output_type": "execute_result"
    }
   ],
   "source": [
    "simulator = Simulator(diagram, context)\n",
    "simulator.AdvanceTo(5)"
   ]
  },
  {
   "cell_type": "code",
   "execution_count": 74,
   "id": "cafa61ca",
   "metadata": {},
   "outputs": [],
   "source": [
    "log1 = logger1.FindLog(context)\n",
    "log2 = logger2.FindLog(context)"
   ]
  },
  {
   "cell_type": "code",
   "execution_count": 75,
   "id": "754fba0f",
   "metadata": {},
   "outputs": [
    {
     "name": "stdout",
     "output_type": "stream",
     "text": [
      "Max torque required for motion:  1.1006857356581112\n"
     ]
    },
    {
     "data": {
      "image/png": "[encoded data removed]",
      "text/plain": [
       "<Figure size 432x288 with 1 Axes>"
      ]
     },
     "metadata": {
      "needs_background": "light"
     },
     "output_type": "display_data"
    }
   ],
   "source": [
    "# Control input values\n",
    "plt.title('Control input vs time')\n",
    "plt.plot(log1.sample_times(), log1.data()[0, :], log1.sample_times(), log1.data()[1, :],\\\n",
    "        log1.sample_times(), log1.data()[2, :])\n",
    "\n",
    "print('Max torque required for motion: ', np.max(np.abs(log1.data())))"
   ]
  },
  {
   "cell_type": "code",
   "execution_count": 76,
   "id": "60ba3804",
   "metadata": {},
   "outputs": [
    {
     "data": {
      "text/plain": [
       "[<matplotlib.lines.Line2D at 0x7f00e111cd30>,\n",
       " <matplotlib.lines.Line2D at 0x7f00686f1640>,\n",
       " <matplotlib.lines.Line2D at 0x7f00686bb2e0>,\n",
       " <matplotlib.lines.Line2D at 0x7f00686bb2b0>,\n",
       " <matplotlib.lines.Line2D at 0x7f00686bb1c0>,\n",
       " <matplotlib.lines.Line2D at 0x7f00686bb520>]"
      ]
     },
     "execution_count": 76,
     "metadata": {},
     "output_type": "execute_result"
    },
    {
     "data": {
      "image/png": "[encoded data removed]",
      "text/plain": [
       "<Figure size 432x288 with 1 Axes>"
      ]
     },
     "metadata": {
      "needs_background": "light"
     },
     "output_type": "display_data"
    }
   ],
   "source": [
    "# State values\n",
    "plt.title('State variables vs time')\n",
    "plt.plot(log2.sample_times(), log2.data()[0, :], log2.sample_times(), log2.data()[1, :],\\\n",
    "        log2.sample_times(), log2.data()[2, :], log2.sample_times(), log2.data()[3, :], \\\n",
    "        log2.sample_times(), log2.data()[4, :], log2.sample_times(), log2.data()[5, :])"
   ]
  },
  {
   "cell_type": "code",
   "execution_count": 77,
   "id": "b6fbefbf",
   "metadata": {},
   "outputs": [
    {
     "name": "stdout",
     "output_type": "stream",
     "text": [
      "gripper position (m): [0.14 0.16 0.31]\n",
      "gripper roll-pitch-yaw (rad):[0.00 -0.00 0.00]\n",
      "pose rotation:  RotationMatrix([\n",
      "  [1.0, 0.0, 0.0],\n",
      "  [0.0, 1.0, 0.0],\n",
      "  [0.0, 0.0, 1.0],\n",
      "])\n"
     ]
    },
    {
     "ename": "KeyboardInterrupt",
     "evalue": "",
     "output_type": "error",
     "traceback": [
      "\u001b[0;31m---------------------------------------------------------------------------\u001b[0m",
      "\u001b[0;31mKeyboardInterrupt\u001b[0m                         Traceback (most recent call last)",
      "Input \u001b[0;32mIn [77]\u001b[0m, in \u001b[0;36m<module>\u001b[0;34m\u001b[0m\n\u001b[1;32m     53\u001b[0m     \u001b[38;5;66;03m# sliders.Run()\u001b[39;00m\n\u001b[1;32m     54\u001b[0m     sliders\u001b[38;5;241m.\u001b[39mRun(pose_callback)\n\u001b[0;32m---> 56\u001b[0m \u001b[43mgripper_forward_kinematics_example\u001b[49m\u001b[43m(\u001b[49m\u001b[43m)\u001b[49m\n",
      "Input \u001b[0;32mIn [77]\u001b[0m, in \u001b[0;36mgripper_forward_kinematics_example\u001b[0;34m()\u001b[0m\n\u001b[1;32m     52\u001b[0m sliders \u001b[38;5;241m=\u001b[39m MeshcatJointSlidersThatPublish(meshcat, plant, visualizer, context)\n\u001b[1;32m     53\u001b[0m \u001b[38;5;66;03m# sliders.Run()\u001b[39;00m\n\u001b[0;32m---> 54\u001b[0m \u001b[43msliders\u001b[49m\u001b[38;5;241;43m.\u001b[39;49m\u001b[43mRun\u001b[49m\u001b[43m(\u001b[49m\u001b[43mpose_callback\u001b[49m\u001b[43m)\u001b[49m\n",
      "File \u001b[0;32m~/git/manipulation/manipulation/meshcat_cpp_utils.py:314\u001b[0m, in \u001b[0;36mMeshcatJointSlidersThatPublish.Run\u001b[0;34m(self, callback)\u001b[0m\n\u001b[1;32m    312\u001b[0m     \u001b[38;5;28;01mif\u001b[39;00m \u001b[38;5;28mself\u001b[39m\u001b[38;5;241m.\u001b[39mPublish() \u001b[38;5;129;01mand\u001b[39;00m callback:\n\u001b[1;32m    313\u001b[0m         callback(\u001b[38;5;28mself\u001b[39m\u001b[38;5;241m.\u001b[39m_plant_context)\n\u001b[0;32m--> 314\u001b[0m     \u001b[43mtime\u001b[49m\u001b[38;5;241;43m.\u001b[39;49m\u001b[43msleep\u001b[49m\u001b[43m(\u001b[49m\u001b[38;5;241;43m.1\u001b[39;49m\u001b[43m)\u001b[49m\n\u001b[1;32m    316\u001b[0m \u001b[38;5;28mself\u001b[39m\u001b[38;5;241m.\u001b[39m_meshcat\u001b[38;5;241m.\u001b[39mDeleteButton(\u001b[38;5;124m\"\u001b[39m\u001b[38;5;124mStop JointSliders\u001b[39m\u001b[38;5;124m\"\u001b[39m)\n",
      "\u001b[0;31mKeyboardInterrupt\u001b[0m: "
     ]
    }
   ],
   "source": [
    "# Run sliders to check whats wrong\n",
    "def gripper_forward_kinematics_example():\n",
    "    builder = DiagramBuilder()\n",
    "    plant, scene_graph = AddMultibodyPlantSceneGraph(builder, time_step=1e-4)\n",
    "    model = Parser(plant, scene_graph).AddModelFromFile(urdf_path, 'lcl-DoD-robot')\n",
    "    # Weld the robot to the world frame\n",
    "    plant.WeldFrames(plant.world_frame(), plant.get_body(plant.GetBodyIndices(model)[0]).body_frame())\n",
    "\n",
    "    # Spawn spherical work marker\n",
    "    sphere1 = Parser(plant, scene_graph).AddModelFromFile('./urdfs/helper/sphere.urdf','sphere1')\n",
    "    sphere2 = Parser(plant, scene_graph).AddModelFromFile('./urdfs/helper/sphere.urdf','sphere2')\n",
    "    # We can sample end-points on the surface of the sphere\n",
    "    # cart0 = np.array([-0.3, 0.4, 0.3])\n",
    "    cart0 = np.array([0.1, 0.1, 0.25])\n",
    "    cartf = np.array([-0.25, 0.1, 0.1])\n",
    "    X_R1 = RigidTransform(cart0)\n",
    "    X_R2 = RigidTransform(cartf)\n",
    "    plant.WeldFrames(plant.world_frame(), plant.get_body(plant.GetBodyIndices(sphere1)[0]).body_frame(), X_R1)\n",
    "    plant.WeldFrames(plant.world_frame(), plant.get_body(plant.GetBodyIndices(sphere2)[0]).body_frame(), X_R2)\n",
    "    plant.Finalize()\n",
    "    \n",
    "    end_frame = \"eef\"\n",
    "    \n",
    "    # Draw the frames\n",
    "    for body_name in [end_frame]:\n",
    "        AddMultibodyTriad(plant.GetFrameByName(body_name, model), scene_graph)\n",
    "\n",
    "    meshcat.Delete()\n",
    "    meshcat.DeleteAddedControls()\n",
    "\n",
    "    visualizer = MeshcatVisualizerCpp.AddToBuilder(builder, scene_graph, meshcat)\n",
    "\n",
    "    diagram = builder.Build()\n",
    "    context = diagram.CreateDefaultContext()\n",
    "\n",
    "    plant.SetPositions(plant.GetMyContextFromRoot(context),\n",
    "                  plant.GetModelInstanceByName(\"lcl-DoD-robot\"),\n",
    "                  np.array([0,0,0]))\n",
    "    \n",
    "    gripper = plant.GetBodyByName(end_frame)\n",
    "    def pose_callback(context):\n",
    "        pose = plant.EvalBodyPoseInWorld(context, gripper)   ## This is the important line\n",
    "        print(pose.translation())\n",
    "        clear_output(wait=True)\n",
    "        print(\"gripper position (m): \" + np.array2string(\n",
    "            pose.translation(), formatter={\n",
    "                'float': lambda x: \"{:3.2f}\".format(x)}))\n",
    "        print(\"gripper roll-pitch-yaw (rad):\" + np.array2string(\n",
    "            RollPitchYaw(pose.rotation()).vector(),\n",
    "                         formatter={'float': lambda x: \"{:3.2f}\".format(x)}))\n",
    "        print(\"pose rotation: \", pose.rotation())\n",
    "    sliders = MeshcatJointSlidersThatPublish(meshcat, plant, visualizer, context)\n",
    "    # sliders.Run()\n",
    "    sliders.Run(pose_callback)\n",
    "\n",
    "gripper_forward_kinematics_example()"
   ]
  },
  {
   "cell_type": "code",
   "execution_count": 12,
   "id": "fdcb85da",
   "metadata": {},
   "outputs": [
    {
     "data": {
      "text/plain": [
       "array([[0., 0., 0.],\n",
       "       [0., 0., 0.],\n",
       "       [0., 0., 0.]])"
      ]
     },
     "execution_count": 12,
     "metadata": {},
     "output_type": "execute_result"
    }
   ],
   "source": [
    "plant.CalcMassMatrix(plant_context)"
   ]
  },
  {
   "cell_type": "code",
   "execution_count": null,
   "id": "e0a3237c",
   "metadata": {},
   "outputs": [],
   "source": []
  }
 ],
 "metadata": {
  "kernelspec": {
   "display_name": "Python 3 (ipykernel)",
   "language": "python",
   "name": "python3"
  },
  "language_info": {
   "codemirror_mode": {
    "name": "ipython",
    "version": 3
   },
   "file_extension": ".py",
   "mimetype": "text/x-python",
   "name": "python",
   "nbconvert_exporter": "python",
   "pygments_lexer": "ipython3",
   "version": "3.8.5"
  }
 },
 "nbformat": 4,
 "nbformat_minor": 5
}
