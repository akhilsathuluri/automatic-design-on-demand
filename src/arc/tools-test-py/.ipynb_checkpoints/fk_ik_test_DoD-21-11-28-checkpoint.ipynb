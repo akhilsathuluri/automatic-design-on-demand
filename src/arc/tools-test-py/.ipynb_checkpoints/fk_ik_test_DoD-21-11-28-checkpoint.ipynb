{
 "cells": [
  {
   "cell_type": "code",
   "execution_count": 1,
   "metadata": {},
   "outputs": [],
   "source": [
    "# python libraries\n",
    "import numpy as np\n",
    "import matplotlib.pyplot as plt\n",
    "from IPython.display import HTML\n",
    "\n",
    "# pydrake imports\n",
    "from pydrake.all import (MultibodyPlant, AddMultibodyPlantSceneGraph,\n",
    "                         DiagramBuilder, Parser, VectorSystem, SignalLogger,\n",
    "                         Simulator, PlanarSceneGraphVisualizer, Multiplexer,\n",
    "                         plot_system_graphviz, MatrixGain, InverseKinematics)\n",
    "\n",
    "import pydrake.solvers.mathematicalprogram as mp"
   ]
  },
  {
   "cell_type": "code",
   "execution_count": 2,
   "metadata": {},
   "outputs": [],
   "source": [
    "import meshcat\n",
    "import pydrake.systems.meshcat_visualizer as meshcat_visualizer "
   ]
  },
  {
   "cell_type": "code",
   "execution_count": 3,
   "metadata": {},
   "outputs": [],
   "source": [
    "import os\n",
    "from IPython.display import display\n",
    "from ipywidgets import Textarea"
   ]
  },
  {
   "cell_type": "code",
   "execution_count": 4,
   "metadata": {},
   "outputs": [],
   "source": [
    "from pydrake.all import RigidTransform, RotationMatrix, RollPitchYaw\n",
    "\n",
    "import pydrake.multibody.jupyter_widgets\n",
    "import pydrake.systems.jupyter_widgets\n",
    "\n",
    "from manipulation.jupyter_widgets import MakePoseSlidersThatPublishOnCallback"
   ]
  },
  {
   "cell_type": "code",
   "execution_count": 5,
   "metadata": {},
   "outputs": [],
   "source": [
    "from pydrake.manipulation.simple_ui import JointSliders, SchunkWsgButtons\n",
    "from pydrake.math import RigidTransform, RollPitchYaw\n",
    "from pydrake.geometry import DrakeVisualizer\n",
    "\n",
    "from pydrake.systems.meshcat_visualizer import ConnectMeshcatVisualizer\n",
    "from pydrake.systems.analysis import Simulator"
   ]
  },
  {
   "cell_type": "code",
   "execution_count": 6,
   "metadata": {},
   "outputs": [],
   "source": [
    "def xyz_rpy_deg(xyz, rpy_deg):\n",
    "    \"\"\"Shorthand for defining a pose.\"\"\"\n",
    "    rpy_deg = np.asarray(rpy_deg)\n",
    "    return RigidTransform(RollPitchYaw(rpy_deg * np.pi / 180), xyz)"
   ]
  },
  {
   "cell_type": "code",
   "execution_count": 7,
   "metadata": {},
   "outputs": [
    {
     "name": "stdout",
     "output_type": "stream",
     "text": [
      "You can open the visualizer by visiting the following URL:\n",
      "http://127.0.0.1:7002/static/\n"
     ]
    }
   ],
   "source": [
    "meshcat.Visualizer().delete()"
   ]
  },
  {
   "cell_type": "code",
   "execution_count": null,
   "metadata": {},
   "outputs": [],
   "source": [
    "builder = DiagramBuilder()\n",
    "\n",
    "plant, scene_graph = AddMultibodyPlantSceneGraph(builder, time_step=0.001)\n",
    "urdf_path = './diva_teleop.urdf'\n",
    "Parser(plant).AddModelFromFile(urdf_path)\n",
    "plant.Finalize()\n",
    "\n",
    "#     eef = \"linkMod_8\"\n",
    "eef = \"eef\"\n",
    "\n",
    "visualizer = meshcat_visualizer.ConnectMeshcatVisualizer(\n",
    "    builder, \n",
    "    scene_graph, \n",
    "    delete_prefix_on_load=True)\n",
    "\n",
    "diagram = builder.Build()\n",
    "context = diagram.CreateDefaultContext()\n",
    "plant_context = plant.GetMyContextFromRoot(context)\n",
    "\n",
    "visualizer.load()"
   ]
  },
  {
   "cell_type": "code",
   "execution_count": 16,
   "metadata": {
    "scrolled": false
   },
   "outputs": [
    {
     "ename": "RuntimeError",
     "evalue": "The file parsed contains no objects; only OBJs with a single object are supported. The file could be corrupt, empty, or not an OBJ file. File name: '/home/nightmareforev/git/research/lcl-robots/src/tools-test-py/meshes/kr6_agilus/collision/base_link.stl'",
     "output_type": "error",
     "traceback": [
      "\u001b[0;31m---------------------------------------------------------------------------\u001b[0m",
      "\u001b[0;31mRuntimeError\u001b[0m                              Traceback (most recent call last)",
      "\u001b[0;32m/tmp/ipykernel_29227/835121822.py\u001b[0m in \u001b[0;36m<module>\u001b[0;34m\u001b[0m\n\u001b[1;32m     53\u001b[0m     \u001b[0mprint\u001b[0m\u001b[0;34m(\u001b[0m\u001b[0mplant\u001b[0m\u001b[0;34m.\u001b[0m\u001b[0mnum_positions\u001b[0m\u001b[0;34m(\u001b[0m\u001b[0;34m)\u001b[0m\u001b[0;34m)\u001b[0m\u001b[0;34m\u001b[0m\u001b[0;34m\u001b[0m\u001b[0m\n\u001b[1;32m     54\u001b[0m \u001b[0;34m\u001b[0m\u001b[0m\n\u001b[0;32m---> 55\u001b[0;31m \u001b[0mteleop_inverse_kinematics\u001b[0m\u001b[0;34m(\u001b[0m\u001b[0;34m)\u001b[0m\u001b[0;34m\u001b[0m\u001b[0;34m\u001b[0m\u001b[0m\n\u001b[0m",
      "\u001b[0;32m/tmp/ipykernel_29227/835121822.py\u001b[0m in \u001b[0;36mteleop_inverse_kinematics\u001b[0;34m()\u001b[0m\n\u001b[1;32m      4\u001b[0m     \u001b[0mplant\u001b[0m\u001b[0;34m,\u001b[0m \u001b[0mscene_graph\u001b[0m \u001b[0;34m=\u001b[0m \u001b[0mAddMultibodyPlantSceneGraph\u001b[0m\u001b[0;34m(\u001b[0m\u001b[0mbuilder\u001b[0m\u001b[0;34m,\u001b[0m \u001b[0mtime_step\u001b[0m\u001b[0;34m=\u001b[0m\u001b[0;36m0.001\u001b[0m\u001b[0;34m)\u001b[0m\u001b[0;34m\u001b[0m\u001b[0;34m\u001b[0m\u001b[0m\n\u001b[1;32m      5\u001b[0m     \u001b[0murdf_path\u001b[0m \u001b[0;34m=\u001b[0m \u001b[0;34m'./kuka_test.urdf'\u001b[0m\u001b[0;34m\u001b[0m\u001b[0;34m\u001b[0m\u001b[0m\n\u001b[0;32m----> 6\u001b[0;31m     \u001b[0mdiva\u001b[0m \u001b[0;34m=\u001b[0m \u001b[0mParser\u001b[0m\u001b[0;34m(\u001b[0m\u001b[0mplant\u001b[0m\u001b[0;34m)\u001b[0m\u001b[0;34m.\u001b[0m\u001b[0mAddModelFromFile\u001b[0m\u001b[0;34m(\u001b[0m\u001b[0murdf_path\u001b[0m\u001b[0;34m)\u001b[0m\u001b[0;34m\u001b[0m\u001b[0;34m\u001b[0m\u001b[0m\n\u001b[0m\u001b[1;32m      7\u001b[0m \u001b[0;34m\u001b[0m\u001b[0m\n\u001b[1;32m      8\u001b[0m \u001b[0;31m#     plant.WeldFrames(\u001b[0m\u001b[0;34m\u001b[0m\u001b[0;34m\u001b[0m\u001b[0;34m\u001b[0m\u001b[0m\n",
      "\u001b[0;31mRuntimeError\u001b[0m: The file parsed contains no objects; only OBJs with a single object are supported. The file could be corrupt, empty, or not an OBJ file. File name: '/home/nightmareforev/git/research/lcl-robots/src/tools-test-py/meshes/kr6_agilus/collision/base_link.stl'"
     ]
    }
   ],
   "source": [
    "def teleop_inverse_kinematics():\n",
    "    builder = DiagramBuilder()\n",
    "\n",
    "    plant, scene_graph = AddMultibodyPlantSceneGraph(builder, time_step=0.001)\n",
    "    urdf_path = './kuka_test.urdf'\n",
    "    diva = Parser(plant).AddModelFromFile(urdf_path)\n",
    "    \n",
    "#     plant.WeldFrames(\n",
    "#     frame_on_parent_P=plant.world_frame(),\n",
    "#     frame_on_child_C=plant.GetFrameByName(\"base_link\", diva)\n",
    "#     )\n",
    "\n",
    "    plant.Finalize()\n",
    "    \n",
    "#     eef = \"linkMod_8\"\n",
    "    eef = \"kuka_arm_7_link\"\n",
    "\n",
    "    visualizer = meshcat_visualizer.ConnectMeshcatVisualizer(\n",
    "        builder, \n",
    "        scene_graph, \n",
    "        delete_prefix_on_load=True)\n",
    "\n",
    "    diagram = builder.Build()\n",
    "    context = diagram.CreateDefaultContext()\n",
    "    plant_context = plant.GetMyContextFromRoot(context)\n",
    "\n",
    "    q0 = plant.GetPositions(plant_context)\n",
    "    gripper_frame = plant.GetFrameByName(eef)\n",
    "\n",
    "    console = Textarea(value=\"\", description=\"\", layout={'width':'60%','height':'100px'}, style={'description_width':'initial'})\n",
    "\n",
    "    def my_callback(context, pose):\n",
    "        ik = InverseKinematics(plant, plant_context)\n",
    "        ik.AddPositionConstraint(gripper_frame, [0, 0, 0], plant.world_frame(), pose.translation(), pose.translation())\n",
    "        ik.AddOrientationConstraint(gripper_frame, RotationMatrix(), plant.world_frame(), pose.rotation(), 0.0)\n",
    "        prog = ik.get_mutable_prog()\n",
    "        q = ik.q()\n",
    "        prog.AddQuadraticErrorCost(np.identity(len(q)), q0, q)\n",
    "        prog.SetInitialGuess(q, q0)\n",
    "        result = pydrake.solvers.mathematicalprogram.Solve(ik.prog())\n",
    "        X_WG = plant.EvalBodyPoseInWorld(plant_context, plant.GetBodyByName(eef))\n",
    "        if not result.is_success():\n",
    "            console.value += \"IK failed\\n\" + str(result.get_optimal_cost())\n",
    "        else:\n",
    "            console.value += \"IK success\\n\" + str(result.get_optimal_cost())\n",
    "            \n",
    "\n",
    "    visualizer.load()\n",
    "    X_WG = plant.EvalBodyPoseInWorld(plant_context, plant.GetBodyByName(eef))\n",
    "    MakePoseSlidersThatPublishOnCallback(visualizer, context, my_callback, value=X_WG)\n",
    "    display(console)\n",
    "    \n",
    "    print(plant.num_positions())\n",
    "\n",
    "teleop_inverse_kinematics()\n"
   ]
  },
  {
   "cell_type": "code",
   "execution_count": null,
   "metadata": {},
   "outputs": [],
   "source": [
    "plant.num_actuators()"
   ]
  },
  {
   "cell_type": "code",
   "execution_count": null,
   "metadata": {},
   "outputs": [],
   "source": [
    "diagram.set_name(\"test\")"
   ]
  },
  {
   "cell_type": "code",
   "execution_count": null,
   "metadata": {},
   "outputs": [],
   "source": [
    "import matplotlib.pyplot as plt\n",
    "plt.figure(figsize=(20, 10))\n",
    "plot_system_graphviz(diagram)"
   ]
  },
  {
   "cell_type": "code",
   "execution_count": null,
   "metadata": {},
   "outputs": [],
   "source": [
    "from manipulation.scenarios import (\n",
    "    AddIiwa, AddPlanarIiwa, AddTwoLinkIiwa, AddWsg, AddShape\n",
    ")"
   ]
  },
  {
   "cell_type": "code",
   "execution_count": null,
   "metadata": {},
   "outputs": [],
   "source": [
    "from pydrake.all import (\n",
    "    AddMultibodyPlantSceneGraph, Box, Cylinder, DiagramBuilder,\n",
    "    InverseKinematics, MeshcatVisualizerCpp, MeshcatVisualizerParams,\n",
    "    Parser, Rgba, RigidTransform, RollPitchYaw, RotationMatrix, Solve, Sphere,\n",
    ")"
   ]
  },
  {
   "cell_type": "code",
   "execution_count": null,
   "metadata": {},
   "outputs": [],
   "source": [
    "from IPython.display import clear_output\n"
   ]
  },
  {
   "cell_type": "code",
   "execution_count": null,
   "metadata": {},
   "outputs": [],
   "source": [
    "def teleop_inverse_kinematics():\n",
    "    builder = DiagramBuilder()\n",
    "\n",
    "    plant, scene_graph = AddMultibodyPlantSceneGraph(builder, time_step=0.001)\n",
    "    iiwa = AddIiwa(plant)\n",
    "    wsg = AddWsg(plant, iiwa, welded=True)\n",
    "    plant.Finalize()\n",
    "\n",
    "#     visualizer = MeshcatVisualizerCpp.AddToBuilder(\n",
    "#         builder, \n",
    "#         scene_graph, \n",
    "#         meshcat,\n",
    "#         MeshcatVisualizerParams(delete_prefix_initialization_event=False))\n",
    "    console = Textarea(value=\"\", description=\"\", layout={'width':'60%','height':'100px'}, style={'description_width':'initial'})\n",
    "\n",
    "    visualizer = meshcat_visualizer.ConnectMeshcatVisualizer(\n",
    "        builder, \n",
    "        scene_graph, \n",
    "        delete_prefix_on_load=True)\n",
    "\n",
    "    diagram = builder.Build()\n",
    "    context = diagram.CreateDefaultContext()\n",
    "    plant_context = plant.GetMyContextFromRoot(context)\n",
    "\n",
    "    q0 = plant.GetPositions(plant_context)\n",
    "    gripper_frame = plant.GetFrameByName(\"body\", wsg)\n",
    "\n",
    "    def my_callback(context, pose):\n",
    "        ik = InverseKinematics(plant, plant_context)\n",
    "        ik.AddPositionConstraint(\n",
    "            gripper_frame, [0, 0, 0], plant.world_frame(), \n",
    "            pose.translation(), pose.translation())\n",
    "        ik.AddOrientationConstraint(\n",
    "            gripper_frame, RotationMatrix(), plant.world_frame(), \n",
    "            pose.rotation(), 0.0)\n",
    "        prog = ik.get_mutable_prog()\n",
    "        q = ik.q()\n",
    "        prog.AddQuadraticErrorCost(np.identity(len(q)), q0, q)\n",
    "        prog.SetInitialGuess(q, q0)\n",
    "        result = Solve(ik.prog())\n",
    "        clear_output(wait=True)\n",
    "        if result.is_success():\n",
    "            print(\"IK success\"+ str(result.get_optimal_cost())) \n",
    "        else:\n",
    "            print(\"IK failure\" + str(result.get_optimal_cost())) \n",
    "\n",
    "#     sliders = MeshcatPoseSliders(meshcat)\n",
    "#     sliders.SetPose(plant.EvalBodyPoseInWorld(\n",
    "#         plant_context, plant.GetBodyByName(\"body\", wsg)))\n",
    "#     sliders.Run(visualizer, context, my_callback)\n",
    "\n",
    "    visualizer.load()\n",
    "    X_WG = plant.EvalBodyPoseInWorld(plant_context, plant.GetBodyByName(\"body\", wsg))\n",
    "    MakePoseSlidersThatPublishOnCallback(visualizer, context, my_callback, value=X_WG)\n",
    "    display(console)\n",
    "\n",
    "    plt.figure(figsize=(20, 10))\n",
    "    plot_system_graphviz(diagram)\n",
    "    \n",
    "teleop_inverse_kinematics()\n"
   ]
  },
  {
   "cell_type": "code",
   "execution_count": null,
   "metadata": {},
   "outputs": [],
   "source": []
  }
 ],
 "metadata": {
  "kernelspec": {
   "display_name": "Python 3 (ipykernel)",
   "language": "python",
   "name": "python3"
  },
  "language_info": {
   "codemirror_mode": {
    "name": "ipython",
    "version": 3
   },
   "file_extension": ".py",
   "mimetype": "text/x-python",
   "name": "python",
   "nbconvert_exporter": "python",
   "pygments_lexer": "ipython3",
   "version": "3.8.11"
  }
 },
 "nbformat": 4,
 "nbformat_minor": 4
}
