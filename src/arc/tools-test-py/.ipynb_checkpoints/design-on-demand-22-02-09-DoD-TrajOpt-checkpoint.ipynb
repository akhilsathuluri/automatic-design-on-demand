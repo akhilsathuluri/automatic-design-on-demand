{
 "cells": [
  {
   "cell_type": "markdown",
   "metadata": {},
   "source": [
    "# Design+Trajopt of a single robot from given initial and final positions\n",
    "\n",
    "This is similar to Prof. Althoffs work on modular robots"
   ]
  },
  {
   "cell_type": "code",
   "execution_count": 1,
   "metadata": {},
   "outputs": [],
   "source": [
    "# Imports\n",
    "import numpy as np\n",
    "import altair as alt\n",
    "import pydot\n",
    "from IPython.display import display, SVG, clear_output\n",
    "\n",
    "from pydrake.all import *\n",
    "from pydrake.examples.manipulation_station import ManipulationStation\n",
    "\n",
    "from manipulation import running_as_notebook\n",
    "from manipulation.meshcat_cpp_utils import (\n",
    "    StartMeshcat, MeshcatJointSlidersThatPublish, MeshcatPoseSliders)\n",
    "from manipulation.scenarios import AddMultibodyTriad, SetColor, AddShape\n",
    "\n",
    "import pandas as pd\n",
    "from random import randrange"
   ]
  },
  {
   "cell_type": "code",
   "execution_count": 2,
   "metadata": {},
   "outputs": [],
   "source": [
    "from odio_urdf import *\n",
    "import math\n",
    "import sys\n",
    "# from operator import add\n",
    "from scipy.spatial.transform import Rotation as R\n",
    "from scipy.optimize import minimize, LinearConstraint, NonlinearConstraint\n",
    "import copy\n",
    "import time"
   ]
  },
  {
   "cell_type": "code",
   "execution_count": 3,
   "metadata": {},
   "outputs": [
    {
     "data": {
      "text/html": [
       "Meshcat is now available at <a href=\"http://localhost:7004\">http://localhost:7004</a>"
      ],
      "text/plain": [
       "<IPython.core.display.HTML object>"
      ]
     },
     "metadata": {},
     "output_type": "display_data"
    }
   ],
   "source": [
    "meshcat = StartMeshcat()"
   ]
  },
  {
   "cell_type": "code",
   "execution_count": 54,
   "metadata": {
    "scrolled": true
   },
   "outputs": [
    {
     "name": "stderr",
     "output_type": "stream",
     "text": [
      "[2022-02-09 17:28:31.954] [console] [warning] Meshcat: Failed to load texture. /home/nightmareforev/git/research/lcl-robots/src/tools-test-py/saved_robots/meshes/l2_module.obj references f7b2bd91-5f44-436c-8d02-ef081fb01593.mtl, but Meshcat could not open filename \"/home/nightmareforev/git/research/lcl-robots/src/tools-test-py/saved_robots/meshes/f7b2bd91-5f44-436c-8d02-ef081fb01593.mtl\"\n",
      "[2022-02-09 17:28:31.964] [console] [warning] Meshcat: Failed to load texture. /home/nightmareforev/git/research/lcl-robots/src/tools-test-py/saved_robots/meshes/l2_module.obj references f7b2bd91-5f44-436c-8d02-ef081fb01593.mtl, but Meshcat could not open filename \"/home/nightmareforev/git/research/lcl-robots/src/tools-test-py/saved_robots/meshes/f7b2bd91-5f44-436c-8d02-ef081fb01593.mtl\"\n",
      "[2022-02-09 17:28:31.986] [console] [warning] Meshcat: Failed to load texture. /home/nightmareforev/git/research/lcl-robots/src/tools-test-py/saved_robots/meshes/j_module.obj references 29fd947b-97f8-4696-91a7-40d64dd5beae.mtl, but Meshcat could not open filename \"/home/nightmareforev/git/research/lcl-robots/src/tools-test-py/saved_robots/meshes/29fd947b-97f8-4696-91a7-40d64dd5beae.mtl\"\n",
      "[2022-02-09 17:28:32.003] [console] [warning] Meshcat: Failed to load texture. /home/nightmareforev/git/research/lcl-robots/src/tools-test-py/saved_robots/meshes/l1_module.obj references f383e0f4-56f7-4c7b-a1d1-cbc3f41bfe7b.mtl, but Meshcat could not open filename \"/home/nightmareforev/git/research/lcl-robots/src/tools-test-py/saved_robots/meshes/f383e0f4-56f7-4c7b-a1d1-cbc3f41bfe7b.mtl\"\n",
      "[2022-02-09 17:28:32.027] [console] [warning] Meshcat: Failed to load texture. /home/nightmareforev/git/research/lcl-robots/src/tools-test-py/saved_robots/meshes/j_module.obj references 29fd947b-97f8-4696-91a7-40d64dd5beae.mtl, but Meshcat could not open filename \"/home/nightmareforev/git/research/lcl-robots/src/tools-test-py/saved_robots/meshes/29fd947b-97f8-4696-91a7-40d64dd5beae.mtl\"\n"
     ]
    }
   ],
   "source": [
    "# Lets start with loading a given node and computing the cost\n",
    "builder = DiagramBuilder()\n",
    "urdf_path = './saved_robots/greedy_stowing_root.urdf'\n",
    "plant, scene_graph = AddMultibodyPlantSceneGraph(builder, time_step=1e-4)\n",
    "model = Parser(plant, scene_graph).AddModelFromFile(urdf_path, 'lcl-TrajOpt')\n",
    "# Weld the robot to the world frame\n",
    "plant.WeldFrames(plant.world_frame(), plant.get_body(plant.GetBodyIndices(model)[0]).body_frame())\n",
    "\n",
    "# Spawn spherical work marker\n",
    "sphere1 = Parser(plant, scene_graph).AddModelFromFile('./urdfs/helper/sphere.urdf','sphere1')\n",
    "sphere2 = Parser(plant, scene_graph).AddModelFromFile('./urdfs/helper/sphere.urdf','sphere2')\n",
    "# We can sample end-points on the surface of the sphere\n",
    "# Define the inital and final positions\n",
    "carti = np.array([0.1, 0.1, 0.25])\n",
    "cartf = np.array([-0.25, 0.1, 0.1])\n",
    "X_R1 = RigidTransform(carti)\n",
    "plant.WeldFrames(plant.world_frame(), plant.get_body(plant.GetBodyIndices(sphere1)[0]).body_frame(), X_R1)\n",
    "X_R2 = RigidTransform(cartf)\n",
    "plant.WeldFrames(plant.world_frame(), plant.get_body(plant.GetBodyIndices(sphere2)[0]).body_frame(), X_R2)\n",
    "plant.Finalize()\n",
    "\n",
    "# Select the last frame as the eef_frame\n",
    "gripper_frame = plant.GetBodyByName(\"eef\").body_frame()\n",
    "AddMultibodyTriad(gripper_frame, scene_graph)\n",
    "\n",
    "meshcat.Delete()\n",
    "meshcat.DeleteAddedControls()\n",
    "\n",
    "visualizer = MeshcatVisualizerCpp.AddToBuilder(builder, scene_graph, meshcat)\n",
    "\n",
    "diagram = builder.Build()\n",
    "context = diagram.CreateDefaultContext()\n",
    "plant_context = plant.GetMyMutableContextFromRoot(context)\n",
    "\n",
    "q0 = plant.GetPositions(plant_context)\n",
    "diagram.Publish(context)"
   ]
  },
  {
   "cell_type": "code",
   "execution_count": 55,
   "metadata": {},
   "outputs": [
    {
     "name": "stdout",
     "output_type": "stream",
     "text": [
      "True\n",
      "True\n"
     ]
    }
   ],
   "source": [
    "# Compute the joint space values\n",
    "ik = InverseKinematics(plant, plant_context)\n",
    "ik.AddPositionConstraint(\n",
    "            gripper_frame, [0, 0, 0], plant.world_frame(), \n",
    "            carti, carti)\n",
    "prog = ik.get_mutable_prog()\n",
    "q = ik.q()\n",
    "prog.AddQuadraticErrorCost(np.identity(len(q)), q0, q)\n",
    "prog.SetInitialGuess(q, q0)\n",
    "result = Solve(ik.prog())\n",
    "qi = result.GetSolution(ik.q())\n",
    "# Print result\n",
    "print(result.is_success())\n",
    "\n",
    "# Compute the joint space values\n",
    "ik = InverseKinematics(plant, plant_context)\n",
    "ik.AddPositionConstraint(\n",
    "            gripper_frame, [0, 0, 0], plant.world_frame(), \n",
    "            cartf, cartf)\n",
    "prog = ik.get_mutable_prog()\n",
    "q = ik.q()\n",
    "prog.AddQuadraticErrorCost(np.identity(len(q)), qi, q)\n",
    "prog.SetInitialGuess(q, qi)\n",
    "result = Solve(ik.prog())\n",
    "qf = result.GetSolution(ik.q())\n",
    "# Print result\n",
    "print(result.is_success())"
   ]
  },
  {
   "cell_type": "code",
   "execution_count": 56,
   "metadata": {},
   "outputs": [
    {
     "name": "stdout",
     "output_type": "stream",
     "text": [
      "SNOPT/fortran\n",
      "True\n"
     ]
    }
   ],
   "source": [
    "# Now control the robot between these positions\n",
    "def autoDiffArrayEqual(a,b):\n",
    "    return np.array_equal(a, b) and np.array_equal(ExtractGradient(a), ExtractGradient(b))\n",
    "# Initialise the system here\n",
    "prog = MathematicalProgram()\n",
    "# Time steps\n",
    "ti = 0\n",
    "tf = 1\n",
    "N = 100\n",
    "h = (tf-ti)/N\n",
    "\n",
    "# Create one context per timestep (to maximize cache hits)\n",
    "context = [plant.CreateDefaultContext() for i in range(N)]\n",
    "# We could get rid of this by implementing a few more Jacobians in MultibodyPlant:\n",
    "ad_plant = plant.ToAutoDiffXd()\n",
    "\n",
    "# Create new variables\n",
    "nq = plant.num_positions()\n",
    "nv = plant.num_velocities()\n",
    "nu = plant.num_actuators()\n",
    "q = prog.NewContinuousVariables(nq, N, 'q')\n",
    "v = prog.NewContinuousVariables(nv, N, 'v')\n",
    "u = prog.NewContinuousVariables(nu, N, 'u')\n",
    "\n",
    "# Set lower and upper limits\n",
    "q_limits = np.array([np.full(nq,-1), np.full(nq,1)])*np.pi\n",
    "v_limits = np.array([np.full(nv,-1), np.full(nv,1)])*5\n",
    "u_limits = np.array([np.full(nu,-1), np.full(nu,1)])*10\n",
    "# Initial state\n",
    "q0 = qi\n",
    "# qf = qf\n",
    "v0 = np.array(np.full(nv,1))*0\n",
    "u0 = np.array(np.full(nu,1))*0\n",
    "# Cost coefficient\n",
    "Qmat = np.diag(np.full(nq,1))\n",
    "Vmat = np.diag(np.full(nv, 1))\n",
    "Umat = np.diag(np.full(nu, 1))\n",
    "\n",
    "# Defining velocity constraints\n",
    "ad_velocity_dynamics_context = [ad_plant.CreateDefaultContext() for i in range(N)]\n",
    "def velocity_dynamics_constraint(vars, context_index):\n",
    "    q, v, qn = np.split(vars, [nq, nq+nv])\n",
    "    if isinstance(vars[0], AutoDiffXd):\n",
    "        if not autoDiffArrayEqual(q, ad_plant.GetPositions(ad_velocity_dynamics_context[context_index])):\n",
    "            ad_plant.SetPositions(ad_velocity_dynamics_context[context_index], q)\n",
    "        v_from_qdot = ad_plant.MapQDotToVelocity(ad_velocity_dynamics_context[context_index], (qn - q)/h)\n",
    "    else:\n",
    "        if not np.array_equal(q, plant.GetPositions(context[context_index])):\n",
    "            plant.SetPositions(context[context_index], q)\n",
    "        v_from_qdot = plant.MapQDotToVelocity(context[context_index], (qn - q)/h)\n",
    "    return v - v_from_qdot\n",
    "\n",
    "# Add velocity constraint at each instant\n",
    "for n in range(N-1):\n",
    "    prog.AddConstraint(\n",
    "    partial(velocity_dynamics_constraint, context_index=n),\n",
    "    lb=[0]*nv, ub=[0]*nv,\n",
    "    vars=np.concatenate((q[:,n], v[:,n], q[:,n+1])))\n",
    "\n",
    "# Defining dynamics constraints\n",
    "ad_dynamics_context = [ad_plant.CreateDefaultContext() for i in range(N)]\n",
    "W = ad_plant.world_frame()\n",
    "G = ad_plant.GetBodyByName(\"eef\").body_frame()\n",
    "def dynamics_constraints(vars, context_index):\n",
    "    q, v, vn, u = np.split(vars, [nq, nq+nv, nq+2*nv])\n",
    "    ad_plant.SetPositionsAndVelocities(ad_dynamics_context[context_index], np.concatenate((q,v)))\n",
    "    # Now since q and v are set, compute vdot\n",
    "    Mmat = ad_plant.CalcMassMatrix(ad_dynamics_context[context_index])\n",
    "    Gvec = ad_plant.CalcGravityGeneralizedForces(ad_dynamics_context[context_index])\n",
    "    Cb = ad_plant.CalcBiasTerm(ad_dynamics_context[context_index])\n",
    "    dynamics_residue = Mmat@(vn-v)/h + Cb - u - Gvec\n",
    "    return dynamics_residue\n",
    "\n",
    "# Add dynamics constraint at each instant\n",
    "for n in range(N-1):\n",
    "    prog.AddConstraint(\n",
    "    partial(dynamics_constraints, context_index=n),\n",
    "    lb=[0]*nv, ub=[0]*nv,\n",
    "    vars=np.concatenate((q[:,n], v[:,n], v[:,n+1],u[:,n])))\n",
    "\n",
    "# Add constraints\n",
    "for n in range(N-1):\n",
    "    # Joint limits\n",
    "    prog.AddBoundingBoxConstraint(q_limits[0], q_limits[1], q[:,n])\n",
    "    prog.AddBoundingBoxConstraint(v_limits[0], v_limits[1], v[:,n])\n",
    "    prog.AddBoundingBoxConstraint(u_limits[0], u_limits[1], u[:,n])\n",
    "    # Initial guess for all the positions\n",
    "    prog.SetInitialGuess(q[:,n], q0)\n",
    "    prog.SetInitialGuess(u[:,n], u0)    \n",
    "    # Add costs\n",
    "    prog.AddQuadraticErrorCost(Qmat, q0, q[:,n])\n",
    "    prog.AddQuadraticErrorCost(Vmat, v0, v[:,n])\n",
    "    prog.AddQuadraticErrorCost(Umat, u0, u[:,n])\n",
    "\n",
    "# Add an inital and end constraints\n",
    "prog.AddConstraint(eq(q0, q[:,0]))\n",
    "prog.AddConstraint(eq(qf, q[:,N-1]))\n",
    "# All we need now is a dynamics constraint at each time step\n",
    "# Observing from the iCub jump paper, no one really uses the entire dynamics for jumping\n",
    "# We need to come-up with smart ways to make the robot jump without heavy computation on the constraints\n",
    "\n",
    "result = Solve(prog)\n",
    "print(result.get_solver_id().name())\n",
    "print(result.is_success())"
   ]
  },
  {
   "cell_type": "code",
   "execution_count": 57,
   "metadata": {},
   "outputs": [
    {
     "data": {
      "text/plain": [
       "[<matplotlib.lines.Line2D at 0x7fa33c10ac40>,\n",
       " <matplotlib.lines.Line2D at 0x7fa33c10aca0>,\n",
       " <matplotlib.lines.Line2D at 0x7fa33c10adc0>]"
      ]
     },
     "execution_count": 57,
     "metadata": {},
     "output_type": "execute_result"
    },
    {
     "data": {
      "image/png": "[encoded data removed]",
      "text/plain": [
       "<Figure size 432x288 with 3 Axes>"
      ]
     },
     "metadata": {
      "needs_background": "light"
     },
     "output_type": "display_data"
    }
   ],
   "source": [
    "qsol = result.GetSolution(q)\n",
    "vsol = result.GetSolution(v)\n",
    "usol = result.GetSolution(u)\n",
    "\n",
    "fig, ax = plt.subplots(3,1)\n",
    "ax[0].plot(usol.transpose())\n",
    "ax[1].plot(qsol.transpose())\n",
    "ax[2].plot(vsol.transpose())"
   ]
  },
  {
   "cell_type": "code",
   "execution_count": 58,
   "metadata": {},
   "outputs": [],
   "source": [
    "# Visualising the trajectory\n",
    "context = diagram.CreateDefaultContext()\n",
    "plant_context = plant.GetMyMutableContextFromRoot(context)\n",
    "plant.SetPositions(plant_context, qi)\n",
    "diagram.Publish(context)\n",
    "\n",
    "# Visualise the motion\n",
    "for i in range(qsol.shape[1]):\n",
    "    plant.SetPositions(plant_context, qsol[:,i])\n",
    "    diagram.Publish(context)\n",
    "    time.sleep(0.01)"
   ]
  },
  {
   "cell_type": "code",
   "execution_count": null,
   "metadata": {},
   "outputs": [],
   "source": [
    "# Now we solve an integer programming problem with 4 modules \n",
    "# that can solve the optimal control problem"
   ]
  }
 ],
 "metadata": {
  "kernelspec": {
   "display_name": "Python 3 (ipykernel)",
   "language": "python",
   "name": "python3"
  },
  "language_info": {
   "codemirror_mode": {
    "name": "ipython",
    "version": 3
   },
   "file_extension": ".py",
   "mimetype": "text/x-python",
   "name": "python",
   "nbconvert_exporter": "python",
   "pygments_lexer": "ipython3",
   "version": "3.8.5"
  }
 },
 "nbformat": 4,
 "nbformat_minor": 4
}
