{
 "cells": [
  {
   "cell_type": "code",
   "execution_count": 1,
   "metadata": {},
   "outputs": [],
   "source": [
    "# python libraries\n",
    "import numpy as np\n",
    "import matplotlib.pyplot as plt\n",
    "from IPython.display import HTML\n",
    "\n",
    "# pydrake imports\n",
    "from pydrake.all import (MultibodyPlant, AddMultibodyPlantSceneGraph,\n",
    "                         DiagramBuilder, Parser, VectorSystem, SignalLogger,\n",
    "                         Simulator, PlanarSceneGraphVisualizer, Multiplexer,\n",
    "                         plot_system_graphviz, MatrixGain, InverseKinematics)\n",
    "\n",
    "import pydrake.solvers.mathematicalprogram as mp"
   ]
  },
  {
   "cell_type": "code",
   "execution_count": 2,
   "metadata": {},
   "outputs": [],
   "source": [
    "import meshcat\n",
    "import pydrake.systems.meshcat_visualizer as meshcat_visualizer "
   ]
  },
  {
   "cell_type": "code",
   "execution_count": 3,
   "metadata": {},
   "outputs": [],
   "source": [
    "import os\n",
    "from IPython.display import display\n",
    "from ipywidgets import Textarea"
   ]
  },
  {
   "cell_type": "code",
   "execution_count": 4,
   "metadata": {},
   "outputs": [],
   "source": [
    "from pydrake.all import RigidTransform, RotationMatrix, RollPitchYaw\n",
    "\n",
    "import pydrake.multibody.jupyter_widgets\n",
    "import pydrake.systems.jupyter_widgets\n",
    "\n",
    "from manipulation.jupyter_widgets import MakePoseSlidersThatPublishOnCallback"
   ]
  },
  {
   "cell_type": "code",
   "execution_count": 5,
   "metadata": {},
   "outputs": [
    {
     "name": "stderr",
     "output_type": "stream",
     "text": [
      "/tmp/ipykernel_22638/1568768992.py:18: DrakeDeprecationWarning: Returns the output port which produces the PoseBundle for LCM\n",
      "communication to drake visualizer. */ (Deprecated.)\n",
      "\n",
      "Deprecated:\n",
      "    PoseBundle is no longer in use. Visualizers typically connect to\n",
      "    SceneGraph's QueryObject port. This will be removed from Drake on\n",
      "    or after 2021-12-01.\n",
      "  builder.Connect(scene_graph.get_pose_bundle_output_port(), visualizer.get_input_port(0))\n"
     ]
    },
    {
     "ename": "RuntimeError",
     "evalue": "DiagramBuilder::Connect: Mismatched value types while connecting output port lcm_visualization of System scene_graph (type drake::systems::rendering::PoseBundle<double>) to input port geometry_query of System planar_scenegraph_visualizer (type drake::geometry::QueryObject<double>)",
     "output_type": "error",
     "traceback": [
      "\u001b[0;31m---------------------------------------------------------------------------\u001b[0m",
      "\u001b[0;31mRuntimeError\u001b[0m                              Traceback (most recent call last)",
      "\u001b[0;32m/tmp/ipykernel_22638/1568768992.py\u001b[0m in \u001b[0;36m<module>\u001b[0;34m\u001b[0m\n\u001b[1;32m     16\u001b[0m     \u001b[0mshow\u001b[0m\u001b[0;34m=\u001b[0m\u001b[0;32mFalse\u001b[0m\u001b[0;34m\u001b[0m\u001b[0;34m\u001b[0m\u001b[0m\n\u001b[1;32m     17\u001b[0m ))\n\u001b[0;32m---> 18\u001b[0;31m \u001b[0mbuilder\u001b[0m\u001b[0;34m.\u001b[0m\u001b[0mConnect\u001b[0m\u001b[0;34m(\u001b[0m\u001b[0mscene_graph\u001b[0m\u001b[0;34m.\u001b[0m\u001b[0mget_pose_bundle_output_port\u001b[0m\u001b[0;34m(\u001b[0m\u001b[0;34m)\u001b[0m\u001b[0;34m,\u001b[0m \u001b[0mvisualizer\u001b[0m\u001b[0;34m.\u001b[0m\u001b[0mget_input_port\u001b[0m\u001b[0;34m(\u001b[0m\u001b[0;36m0\u001b[0m\u001b[0;34m)\u001b[0m\u001b[0;34m)\u001b[0m\u001b[0;34m\u001b[0m\u001b[0;34m\u001b[0m\u001b[0m\n\u001b[0m\u001b[1;32m     19\u001b[0m \u001b[0mvisualizer\u001b[0m\u001b[0;34m.\u001b[0m\u001b[0mset_name\u001b[0m\u001b[0;34m(\u001b[0m\u001b[0;34m'visualizer'\u001b[0m\u001b[0;34m)\u001b[0m\u001b[0;34m\u001b[0m\u001b[0;34m\u001b[0m\u001b[0m\n\u001b[1;32m     20\u001b[0m \u001b[0;34m\u001b[0m\u001b[0m\n",
      "\u001b[0;31mRuntimeError\u001b[0m: DiagramBuilder::Connect: Mismatched value types while connecting output port lcm_visualization of System scene_graph (type drake::systems::rendering::PoseBundle<double>) to input port geometry_query of System planar_scenegraph_visualizer (type drake::geometry::QueryObject<double>)"
     ]
    }
   ],
   "source": [
    "# diva_arm = MultibodyPlant(time_step=0)\n",
    "# urdf_path = 'diva_arm.urdf'\n",
    "# Parser(diva_arm).AddModelFromFile(urdf_path)\n",
    "# diva_arm.Finalize()\n",
    "\n",
    "builder = DiagramBuilder()\n",
    "diva_arm, scene_graph = AddMultibodyPlantSceneGraph(builder, time_step=0.001)\n",
    "urdf_path = 'diva_arm.urdf'\n",
    "Parser(diva_arm).AddModelFromFile(urdf_path)\n",
    "diva_arm.Finalize()\n",
    "\n",
    "visualizer = builder.AddSystem(PlanarSceneGraphVisualizer(\n",
    "    scene_graph,\n",
    "    xlim=[-1, 1],\n",
    "    ylim=[-.2, 2.5],\n",
    "    show=False\n",
    "))\n",
    "builder.Connect(scene_graph.get_pose_bundle_output_port(), visualizer.get_input_port(0))\n",
    "visualizer.set_name('visualizer')\n",
    "\n",
    "diagram = builder.Build()\n",
    "diagram.set_name('Block Diagram of the diva_arm')\n",
    "plot_system_graphviz(diagram)"
   ]
  },
  {
   "cell_type": "code",
   "execution_count": 6,
   "metadata": {},
   "outputs": [
    {
     "ename": "NameError",
     "evalue": "name 'diagram' is not defined",
     "output_type": "error",
     "traceback": [
      "\u001b[0;31m---------------------------------------------------------------------------\u001b[0m",
      "\u001b[0;31mNameError\u001b[0m                                 Traceback (most recent call last)",
      "\u001b[0;32m/tmp/ipykernel_22638/3320033099.py\u001b[0m in \u001b[0;36m<module>\u001b[0;34m\u001b[0m\n\u001b[0;32m----> 1\u001b[0;31m \u001b[0mdiagram_context\u001b[0m \u001b[0;34m=\u001b[0m \u001b[0mdiagram\u001b[0m\u001b[0;34m.\u001b[0m\u001b[0mCreateDefaultContext\u001b[0m\u001b[0;34m(\u001b[0m\u001b[0;34m)\u001b[0m\u001b[0;34m\u001b[0m\u001b[0;34m\u001b[0m\u001b[0m\n\u001b[0m\u001b[1;32m      2\u001b[0m plant_context = diagram.GetMutableSubsystemContext(\n\u001b[1;32m      3\u001b[0m                 diva_arm, diagram_context)\n",
      "\u001b[0;31mNameError\u001b[0m: name 'diagram' is not defined"
     ]
    }
   ],
   "source": [
    "diagram_context = diagram.CreateDefaultContext()\n",
    "plant_context = diagram.GetMutableSubsystemContext(\n",
    "                diva_arm, diagram_context)"
   ]
  },
  {
   "cell_type": "code",
   "execution_count": 7,
   "metadata": {},
   "outputs": [
    {
     "ename": "NameError",
     "evalue": "name 'plant_context' is not defined",
     "output_type": "error",
     "traceback": [
      "\u001b[0;31m---------------------------------------------------------------------------\u001b[0m",
      "\u001b[0;31mNameError\u001b[0m                                 Traceback (most recent call last)",
      "\u001b[0;32m/tmp/ipykernel_22638/3901005641.py\u001b[0m in \u001b[0;36m<module>\u001b[0;34m\u001b[0m\n\u001b[0;32m----> 1\u001b[0;31m \u001b[0mik\u001b[0m \u001b[0;34m=\u001b[0m \u001b[0mInverseKinematics\u001b[0m\u001b[0;34m(\u001b[0m\u001b[0mplant\u001b[0m\u001b[0;34m=\u001b[0m\u001b[0mdiva_arm\u001b[0m\u001b[0;34m,\u001b[0m \u001b[0mplant_context\u001b[0m\u001b[0;34m=\u001b[0m\u001b[0mplant_context\u001b[0m\u001b[0;34m)\u001b[0m\u001b[0;34m\u001b[0m\u001b[0;34m\u001b[0m\u001b[0m\n\u001b[0m",
      "\u001b[0;31mNameError\u001b[0m: name 'plant_context' is not defined"
     ]
    }
   ],
   "source": [
    "ik = InverseKinematics(plant=diva_arm, plant_context=plant_context)"
   ]
  },
  {
   "cell_type": "code",
   "execution_count": 8,
   "metadata": {},
   "outputs": [
    {
     "ename": "NameError",
     "evalue": "name 'plant_context' is not defined",
     "output_type": "error",
     "traceback": [
      "\u001b[0;31m---------------------------------------------------------------------------\u001b[0m",
      "\u001b[0;31mNameError\u001b[0m                                 Traceback (most recent call last)",
      "\u001b[0;32m/tmp/ipykernel_22638/1575284054.py\u001b[0m in \u001b[0;36m<module>\u001b[0;34m\u001b[0m\n\u001b[0;32m----> 1\u001b[0;31m \u001b[0mq0\u001b[0m \u001b[0;34m=\u001b[0m \u001b[0mdiva_arm\u001b[0m\u001b[0;34m.\u001b[0m\u001b[0mGetPositions\u001b[0m\u001b[0;34m(\u001b[0m\u001b[0mplant_context\u001b[0m\u001b[0;34m)\u001b[0m\u001b[0;34m\u001b[0m\u001b[0;34m\u001b[0m\u001b[0m\n\u001b[0m",
      "\u001b[0;31mNameError\u001b[0m: name 'plant_context' is not defined"
     ]
    }
   ],
   "source": [
    "q0 = diva_arm.GetPositions(plant_context)"
   ]
  },
  {
   "cell_type": "code",
   "execution_count": 9,
   "metadata": {},
   "outputs": [],
   "source": [
    "# Need to get IK and FK of the uploaded URDF and visualisation"
   ]
  },
  {
   "cell_type": "code",
   "execution_count": 10,
   "metadata": {},
   "outputs": [],
   "source": [
    "gripper_frame = diva_arm.GetFrameByName(\"link7\")"
   ]
  },
  {
   "cell_type": "code",
   "execution_count": 11,
   "metadata": {},
   "outputs": [
    {
     "ename": "NameError",
     "evalue": "name 'ik' is not defined",
     "output_type": "error",
     "traceback": [
      "\u001b[0;31m---------------------------------------------------------------------------\u001b[0m",
      "\u001b[0;31mNameError\u001b[0m                                 Traceback (most recent call last)",
      "\u001b[0;32m/tmp/ipykernel_22638/1301665173.py\u001b[0m in \u001b[0;36m<module>\u001b[0;34m\u001b[0m\n\u001b[0;32m----> 1\u001b[0;31m \u001b[0mik\u001b[0m\u001b[0;34m.\u001b[0m\u001b[0mAddPositionConstraint\u001b[0m\u001b[0;34m(\u001b[0m\u001b[0mgripper_frame\u001b[0m\u001b[0;34m,\u001b[0m \u001b[0;34m[\u001b[0m\u001b[0;36m0\u001b[0m\u001b[0;34m,\u001b[0m \u001b[0;36m0\u001b[0m\u001b[0;34m,\u001b[0m \u001b[0;36m0\u001b[0m\u001b[0;34m]\u001b[0m\u001b[0;34m,\u001b[0m \u001b[0mdiva_arm\u001b[0m\u001b[0;34m.\u001b[0m\u001b[0mworld_frame\u001b[0m\u001b[0;34m(\u001b[0m\u001b[0;34m)\u001b[0m\u001b[0;34m,\u001b[0m \u001b[0;34m[\u001b[0m\u001b[0;36m.1\u001b[0m\u001b[0;34m,\u001b[0m \u001b[0;36m.2\u001b[0m\u001b[0;34m,\u001b[0m \u001b[0;36m.3\u001b[0m\u001b[0;34m]\u001b[0m\u001b[0;34m,\u001b[0m \u001b[0;34m[\u001b[0m\u001b[0;36m.1\u001b[0m\u001b[0;34m,\u001b[0m \u001b[0;36m.2\u001b[0m\u001b[0;34m,\u001b[0m \u001b[0;36m.3\u001b[0m\u001b[0;34m]\u001b[0m\u001b[0;34m)\u001b[0m\u001b[0;34m\u001b[0m\u001b[0;34m\u001b[0m\u001b[0m\n\u001b[0m\u001b[1;32m      2\u001b[0m \u001b[0mprog\u001b[0m \u001b[0;34m=\u001b[0m \u001b[0mik\u001b[0m\u001b[0;34m.\u001b[0m\u001b[0mget_mutable_prog\u001b[0m\u001b[0;34m(\u001b[0m\u001b[0;34m)\u001b[0m\u001b[0;34m\u001b[0m\u001b[0;34m\u001b[0m\u001b[0m\n\u001b[1;32m      3\u001b[0m \u001b[0mq\u001b[0m \u001b[0;34m=\u001b[0m \u001b[0mik\u001b[0m\u001b[0;34m.\u001b[0m\u001b[0mq\u001b[0m\u001b[0;34m(\u001b[0m\u001b[0;34m)\u001b[0m\u001b[0;34m\u001b[0m\u001b[0;34m\u001b[0m\u001b[0m\n\u001b[1;32m      4\u001b[0m \u001b[0mprog\u001b[0m\u001b[0;34m.\u001b[0m\u001b[0mAddQuadraticErrorCost\u001b[0m\u001b[0;34m(\u001b[0m\u001b[0mnp\u001b[0m\u001b[0;34m.\u001b[0m\u001b[0midentity\u001b[0m\u001b[0;34m(\u001b[0m\u001b[0mlen\u001b[0m\u001b[0;34m(\u001b[0m\u001b[0mq\u001b[0m\u001b[0;34m)\u001b[0m\u001b[0;34m)\u001b[0m\u001b[0;34m,\u001b[0m \u001b[0mq0\u001b[0m\u001b[0;34m,\u001b[0m \u001b[0mq\u001b[0m\u001b[0;34m)\u001b[0m\u001b[0;34m\u001b[0m\u001b[0;34m\u001b[0m\u001b[0m\n\u001b[1;32m      5\u001b[0m \u001b[0mprog\u001b[0m\u001b[0;34m.\u001b[0m\u001b[0mSetInitialGuess\u001b[0m\u001b[0;34m(\u001b[0m\u001b[0mq\u001b[0m\u001b[0;34m,\u001b[0m \u001b[0mq0\u001b[0m\u001b[0;34m)\u001b[0m\u001b[0;34m\u001b[0m\u001b[0;34m\u001b[0m\u001b[0m\n",
      "\u001b[0;31mNameError\u001b[0m: name 'ik' is not defined"
     ]
    }
   ],
   "source": [
    "ik.AddPositionConstraint(gripper_frame, [0, 0, 0], diva_arm.world_frame(), [.1, .2, .3], [.1, .2, .3])\n",
    "prog = ik.get_mutable_prog()\n",
    "q = ik.q()\n",
    "prog.AddQuadraticErrorCost(np.identity(len(q)), q0, q)\n",
    "prog.SetInitialGuess(q, q0)\n",
    "result = mp.Solve(ik.prog())\n",
    "result.is_success()"
   ]
  },
  {
   "cell_type": "code",
   "execution_count": 12,
   "metadata": {},
   "outputs": [
    {
     "ename": "NameError",
     "evalue": "name 'result' is not defined",
     "output_type": "error",
     "traceback": [
      "\u001b[0;31m---------------------------------------------------------------------------\u001b[0m",
      "\u001b[0;31mNameError\u001b[0m                                 Traceback (most recent call last)",
      "\u001b[0;32m/tmp/ipykernel_22638/1878939554.py\u001b[0m in \u001b[0;36m<module>\u001b[0;34m\u001b[0m\n\u001b[0;32m----> 1\u001b[0;31m \u001b[0mresult\u001b[0m\u001b[0;34m.\u001b[0m\u001b[0mGetSolution\u001b[0m\u001b[0;34m(\u001b[0m\u001b[0;34m)\u001b[0m\u001b[0;34m\u001b[0m\u001b[0;34m\u001b[0m\u001b[0m\n\u001b[0m",
      "\u001b[0;31mNameError\u001b[0m: name 'result' is not defined"
     ]
    }
   ],
   "source": [
    "result.GetSolution()"
   ]
  },
  {
   "cell_type": "code",
   "execution_count": 13,
   "metadata": {},
   "outputs": [
    {
     "ename": "NameError",
     "evalue": "name 'result' is not defined",
     "output_type": "error",
     "traceback": [
      "\u001b[0;31m---------------------------------------------------------------------------\u001b[0m",
      "\u001b[0;31mNameError\u001b[0m                                 Traceback (most recent call last)",
      "\u001b[0;32m/tmp/ipykernel_22638/3916772410.py\u001b[0m in \u001b[0;36m<module>\u001b[0;34m\u001b[0m\n\u001b[0;32m----> 1\u001b[0;31m \u001b[0mresult\u001b[0m\u001b[0;34m.\u001b[0m\u001b[0mget_optimal_cost\u001b[0m\u001b[0;34m(\u001b[0m\u001b[0;34m)\u001b[0m\u001b[0;34m\u001b[0m\u001b[0;34m\u001b[0m\u001b[0m\n\u001b[0m",
      "\u001b[0;31mNameError\u001b[0m: name 'result' is not defined"
     ]
    }
   ],
   "source": [
    "result.get_optimal_cost()"
   ]
  },
  {
   "cell_type": "code",
   "execution_count": 14,
   "metadata": {},
   "outputs": [
    {
     "name": "stdout",
     "output_type": "stream",
     "text": [
      "You can open the visualizer by visiting the following URL:\n",
      "http://127.0.0.1:7003/static/\n"
     ]
    }
   ],
   "source": [
    "# A visualiser + a slider for IK without collisions\n",
    "\n",
    "meshcat.Visualizer().delete()"
   ]
  },
  {
   "cell_type": "code",
   "execution_count": 15,
   "metadata": {},
   "outputs": [
    {
     "name": "stdout",
     "output_type": "stream",
     "text": [
      "Connecting to meshcat-server at zmq_url=tcp://127.0.0.1:6000...\n",
      "You can open the visualizer by visiting the following URL:\n",
      "http://127.0.0.1:7002/static/\n",
      "Connected to meshcat-server.\n"
     ]
    }
   ],
   "source": [
    "visualizer = meshcat_visualizer.ConnectMeshcatVisualizer(\n",
    "        builder, \n",
    "        scene_graph, \n",
    "        delete_prefix_on_load=False)"
   ]
  },
  {
   "cell_type": "code",
   "execution_count": 16,
   "metadata": {},
   "outputs": [],
   "source": [
    "visualizer.load()"
   ]
  },
  {
   "cell_type": "code",
   "execution_count": 17,
   "metadata": {},
   "outputs": [
    {
     "ename": "NameError",
     "evalue": "name 'plant_context' is not defined",
     "output_type": "error",
     "traceback": [
      "\u001b[0;31m---------------------------------------------------------------------------\u001b[0m",
      "\u001b[0;31mNameError\u001b[0m                                 Traceback (most recent call last)",
      "\u001b[0;32m/tmp/ipykernel_22638/776793827.py\u001b[0m in \u001b[0;36m<module>\u001b[0;34m\u001b[0m\n\u001b[0;32m----> 1\u001b[0;31m \u001b[0mdiva_arm\u001b[0m\u001b[0;34m.\u001b[0m\u001b[0mEvalBodyPoseInWorld\u001b[0m\u001b[0;34m(\u001b[0m\u001b[0mplant_context\u001b[0m\u001b[0;34m,\u001b[0m \u001b[0mdiva_arm\u001b[0m\u001b[0;34m.\u001b[0m\u001b[0mGetBodyByName\u001b[0m\u001b[0;34m(\u001b[0m\u001b[0;34m\"link7\"\u001b[0m\u001b[0;34m)\u001b[0m\u001b[0;34m)\u001b[0m\u001b[0;34m\u001b[0m\u001b[0;34m\u001b[0m\u001b[0m\n\u001b[0m",
      "\u001b[0;31mNameError\u001b[0m: name 'plant_context' is not defined"
     ]
    }
   ],
   "source": [
    "diva_arm.EvalBodyPoseInWorld(plant_context, diva_arm.GetBodyByName(\"link7\"))"
   ]
  },
  {
   "cell_type": "code",
   "execution_count": 19,
   "metadata": {
    "scrolled": true
   },
   "outputs": [
    {
     "name": "stdout",
     "output_type": "stream",
     "text": [
      "Connecting to meshcat-server at zmq_url=tcp://127.0.0.1:6000...\n",
      "You can open the visualizer by visiting the following URL:\n",
      "http://127.0.0.1:7002/static/\n",
      "Connected to meshcat-server.\n"
     ]
    },
    {
     "data": {
      "application/vnd.jupyter.widget-view+json": {
       "model_id": "4d1e97c3d55d48dbbf687c55df0572df",
       "version_major": 2,
       "version_minor": 0
      },
      "text/plain": [
       "FloatSlider(value=0.0, description='roll', layout=Layout(width='90%'), max=3.141592653589793, min=-3.141592653…"
      ]
     },
     "metadata": {},
     "output_type": "display_data"
    },
    {
     "data": {
      "application/vnd.jupyter.widget-view+json": {
       "model_id": "b52aa7bd9aaf430eaf61c7d590f1c0e8",
       "version_major": 2,
       "version_minor": 0
      },
      "text/plain": [
       "FloatSlider(value=-0.0, description='pitch', layout=Layout(width='90%'), max=3.141592653589793, min=-3.1415926…"
      ]
     },
     "metadata": {},
     "output_type": "display_data"
    },
    {
     "data": {
      "application/vnd.jupyter.widget-view+json": {
       "model_id": "1d778d4332214ab5a57ddc4a6e2691a0",
       "version_major": 2,
       "version_minor": 0
      },
      "text/plain": [
       "FloatSlider(value=0.0, description='yaw', layout=Layout(width='90%'), max=3.141592653589793, min=-3.1415926535…"
      ]
     },
     "metadata": {},
     "output_type": "display_data"
    },
    {
     "data": {
      "application/vnd.jupyter.widget-view+json": {
       "model_id": "edb91282055c430097af43febe3be1b8",
       "version_major": 2,
       "version_minor": 0
      },
      "text/plain": [
       "FloatSlider(value=0.0, description='x', layout=Layout(width='90%'), max=1.0, min=-1.0, step=0.01)"
      ]
     },
     "metadata": {},
     "output_type": "display_data"
    },
    {
     "data": {
      "application/vnd.jupyter.widget-view+json": {
       "model_id": "180e67a3b9074a559de55b4808b25e96",
       "version_major": 2,
       "version_minor": 0
      },
      "text/plain": [
       "FloatSlider(value=0.0, description='y', layout=Layout(width='90%'), max=1.0, min=-1.0, step=0.01)"
      ]
     },
     "metadata": {},
     "output_type": "display_data"
    },
    {
     "data": {
      "application/vnd.jupyter.widget-view+json": {
       "model_id": "febc38992bcb43d2a15759094b2e6016",
       "version_major": 2,
       "version_minor": 0
      },
      "text/plain": [
       "FloatSlider(value=0.0, description='z', layout=Layout(width='90%'), max=1.0, min=-1.0, step=0.01)"
      ]
     },
     "metadata": {},
     "output_type": "display_data"
    },
    {
     "data": {
      "application/vnd.jupyter.widget-view+json": {
       "model_id": "012a59823d7145af97252810719e7889",
       "version_major": 2,
       "version_minor": 0
      },
      "text/plain": [
       "Textarea(value='IK success\\n0.0', layout=Layout(height='100px', width='60%'), style=DescriptionStyle(descripti…"
      ]
     },
     "metadata": {},
     "output_type": "display_data"
    }
   ],
   "source": [
    "def teleop_inverse_kinematics():\n",
    "    builder = DiagramBuilder()\n",
    "\n",
    "    plant, scene_graph = AddMultibodyPlantSceneGraph(builder, time_step=0.001)\n",
    "    urdf_path = './diva_teleop.urdf'\n",
    "    Parser(plant).AddModelFromFile(urdf_path)\n",
    "    plant.Finalize()\n",
    "\n",
    "    visualizer = meshcat_visualizer.ConnectMeshcatVisualizer(\n",
    "        builder, \n",
    "        scene_graph, \n",
    "        delete_prefix_on_load=False)\n",
    "\n",
    "    diagram = builder.Build()\n",
    "    context = diagram.CreateDefaultContext()\n",
    "    plant_context = plant.GetMyContextFromRoot(context)\n",
    "\n",
    "    q0 = plant.GetPositions(plant_context)\n",
    "    gripper_frame = plant.GetFrameByName(\"link7\")\n",
    "\n",
    "    console = Textarea(value=\"\", description=\"\", layout={'width':'60%','height':'100px'}, style={'description_width':'initial'})\n",
    "\n",
    "    def my_callback(context, pose):\n",
    "        ik = InverseKinematics(plant, plant_context)\n",
    "        ik.AddPositionConstraint(gripper_frame, [0, 0, 0], plant.world_frame(), pose.translation(), pose.translation())\n",
    "        ik.AddOrientationConstraint(gripper_frame, RotationMatrix(), plant.world_frame(), pose.rotation(), 0.0)\n",
    "        prog = ik.get_mutable_prog()\n",
    "        q = ik.q()\n",
    "        prog.AddQuadraticErrorCost(np.identity(len(q)), q0, q)\n",
    "        prog.SetInitialGuess(q, q0)\n",
    "        result = pydrake.solvers.mathematicalprogram.Solve(ik.prog())\n",
    "        X_WG = plant.EvalBodyPoseInWorld(plant_context, plant.GetBodyByName(\"link7\"))\n",
    "        if not result.is_success():\n",
    "            console.value += \"IK failed\\n\" + str(result.get_optimal_cost())\n",
    "        else:\n",
    "            console.value += \"IK success\\n\" + str(result.get_optimal_cost())\n",
    "            \n",
    "\n",
    "    visualizer.load()\n",
    "    X_WG = plant.EvalBodyPoseInWorld(plant_context, plant.GetBodyByName(\"link7\"))\n",
    "    MakePoseSlidersThatPublishOnCallback(visualizer, context, my_callback, value=X_WG)\n",
    "    display(console)\n",
    "\n",
    "teleop_inverse_kinematics()\n"
   ]
  },
  {
   "cell_type": "code",
   "execution_count": null,
   "metadata": {},
   "outputs": [],
   "source": []
  },
  {
   "cell_type": "code",
   "execution_count": null,
   "metadata": {},
   "outputs": [],
   "source": []
  }
 ],
 "metadata": {
  "kernelspec": {
   "display_name": "Python 3 (ipykernel)",
   "language": "python",
   "name": "python3"
  },
  "language_info": {
   "codemirror_mode": {
    "name": "ipython",
    "version": 3
   },
   "file_extension": ".py",
   "mimetype": "text/x-python",
   "name": "python",
   "nbconvert_exporter": "python",
   "pygments_lexer": "ipython3",
   "version": "3.8.11"
  }
 },
 "nbformat": 4,
 "nbformat_minor": 4
}
