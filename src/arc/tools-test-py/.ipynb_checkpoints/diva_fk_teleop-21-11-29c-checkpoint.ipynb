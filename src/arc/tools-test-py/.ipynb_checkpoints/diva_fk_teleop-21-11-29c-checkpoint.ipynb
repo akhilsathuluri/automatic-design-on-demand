{
 "cells": [
  {
   "cell_type": "code",
   "execution_count": 40,
   "metadata": {},
   "outputs": [],
   "source": [
    "# Imports\n",
    "import numpy as np\n",
    "import altair as alt\n",
    "import pydot\n",
    "from IPython.display import display, SVG, clear_output\n",
    "import plotly.express as px\n",
    "\n",
    "from pydrake.all import (\n",
    "    AddMultibodyPlantSceneGraph, AngleAxis, BasicVector, \n",
    "    DiagramBuilder, FindResourceOrThrow, Integrator, JacobianWrtVariable, \n",
    "    LeafSystem, MeshcatVisualizerCpp, MultibodyPlant, MultibodyPositionToGeometryPose, Parser,\n",
    "    PiecewisePose, PiecewisePolynomial, Quaternion, RigidTransform, \n",
    "    RollPitchYaw, RotationMatrix, SceneGraph, Simulator, TrajectorySource\n",
    ")\n",
    "from pydrake.examples.manipulation_station import ManipulationStation\n",
    "\n",
    "from manipulation import running_as_notebook\n",
    "from manipulation.meshcat_cpp_utils import (\n",
    "    StartMeshcat, MeshcatJointSlidersThatPublish)\n",
    "from manipulation.scenarios import AddMultibodyTriad, SetColor\n",
    "\n",
    "# TODO(russt): Move this to drake (adding the element name support to the base class).\n",
    "import pandas as pd\n",
    "\n",
    "def dataframe(trajectory, times, names):\n",
    "  assert trajectory.rows() == len(names)\n",
    "  values = trajectory.vector_values(times)\n",
    "  data = {'t': times }\n",
    "  for i in range(len(names)):\n",
    "    data[names[i]] = values[i,:]\n",
    "  return pd.DataFrame(data)\n"
   ]
  },
  {
   "cell_type": "code",
   "execution_count": 41,
   "metadata": {},
   "outputs": [
    {
     "data": {
      "text/html": [
       "Meshcat is now available at <a href=\"http://localhost:7002\">http://localhost:7002</a>"
      ],
      "text/plain": [
       "<IPython.core.display.HTML object>"
      ]
     },
     "metadata": {},
     "output_type": "display_data"
    }
   ],
   "source": [
    "# Start the visualizer.\n",
    "meshcat = StartMeshcat()"
   ]
  },
  {
   "cell_type": "code",
   "execution_count": 12,
   "metadata": {},
   "outputs": [
    {
     "data": {
      "image/svg+xml": [
       "<svg xmlns=\"http://www.w3.org/2000/svg\" xmlns:xlink=\"http://www.w3.org/1999/xlink\" width=\"290pt\" height=\"795pt\" viewBox=\"0.00 0.00 290.00 795.00\">\n",
       "<g id=\"graph0\" class=\"graph\" transform=\"scale(1 1) rotate(0) translate(4 791)\">\n",
       "<title>MultibodyPlant</title>\n",
       "<polygon fill=\"white\" stroke=\"transparent\" points=\"-4,4 -4,-791 286,-791 286,4 -4,4\"/>\n",
       "<g id=\"clust1\" class=\"cluster\">\n",
       "<title>cluster0</title>\n",
       "<polygon fill=\"none\" stroke=\"black\" points=\"8,-8 8,-83 140,-83 140,-8 8,-8\"/>\n",
       "<text text-anchor=\"middle\" x=\"74\" y=\"-15.8\" font-family=\"Times,serif\" font-size=\"14.00\">WorldModelInstance</text>\n",
       "</g>\n",
       "<g id=\"clust3\" class=\"cluster\">\n",
       "<title>cluster2</title>\n",
       "<polygon fill=\"none\" stroke=\"black\" points=\"148,-8 148,-779 271,-779 271,-8 148,-8\"/>\n",
       "<text text-anchor=\"middle\" x=\"209.5\" y=\"-15.8\" font-family=\"Times,serif\" font-size=\"14.00\">diva_robot</text>\n",
       "</g>\n",
       "<!-- body0 -->\n",
       "<g id=\"node1\" class=\"node\">\n",
       "<title>body0</title>\n",
       "<ellipse fill=\"none\" stroke=\"black\" cx=\"74\" cy=\"-57\" rx=\"51.99\" ry=\"18\"/>\n",
       "<text text-anchor=\"middle\" x=\"74\" y=\"-53.3\" font-family=\"Times,serif\" font-size=\"14.00\">WorldBody</text>\n",
       "</g>\n",
       "<!-- body1 -->\n",
       "<g id=\"node2\" class=\"node\">\n",
       "<title>body1</title>\n",
       "<ellipse fill=\"none\" stroke=\"black\" cx=\"200\" cy=\"-753\" rx=\"44.39\" ry=\"18\"/>\n",
       "<text text-anchor=\"middle\" x=\"200\" y=\"-749.3\" font-family=\"Times,serif\" font-size=\"14.00\">base_link</text>\n",
       "</g>\n",
       "<!-- body2 -->\n",
       "<g id=\"node3\" class=\"node\">\n",
       "<title>body2</title>\n",
       "<ellipse fill=\"none\" stroke=\"black\" cx=\"185\" cy=\"-666\" rx=\"28.7\" ry=\"18\"/>\n",
       "<text text-anchor=\"middle\" x=\"185\" y=\"-662.3\" font-family=\"Times,serif\" font-size=\"14.00\">link1</text>\n",
       "</g>\n",
       "<!-- body2&#45;&gt;body1 -->\n",
       "<g id=\"edge1\" class=\"edge\">\n",
       "<title>body2-&gt;body1</title>\n",
       "<path fill=\"none\" stroke=\"black\" d=\"M188.04,-684.2C190.09,-695.84 192.84,-711.45 195.19,-724.76\"/>\n",
       "<polygon fill=\"black\" stroke=\"black\" points=\"191.78,-725.59 196.97,-734.82 198.68,-724.37 191.78,-725.59\"/>\n",
       "<text text-anchor=\"middle\" x=\"237.5\" y=\"-705.8\" font-family=\"Times,serif\" font-size=\"14.00\">joint1 [revolute]</text>\n",
       "</g>\n",
       "<!-- body3 -->\n",
       "<g id=\"node4\" class=\"node\">\n",
       "<title>body3</title>\n",
       "<ellipse fill=\"none\" stroke=\"black\" cx=\"185\" cy=\"-579\" rx=\"28.7\" ry=\"18\"/>\n",
       "<text text-anchor=\"middle\" x=\"185\" y=\"-575.3\" font-family=\"Times,serif\" font-size=\"14.00\">link2</text>\n",
       "</g>\n",
       "<!-- body3&#45;&gt;body2 -->\n",
       "<g id=\"edge2\" class=\"edge\">\n",
       "<title>body3-&gt;body2</title>\n",
       "<path fill=\"none\" stroke=\"black\" d=\"M185,-597.2C185,-608.84 185,-624.45 185,-637.76\"/>\n",
       "<polygon fill=\"black\" stroke=\"black\" points=\"181.5,-637.82 185,-647.82 188.5,-637.82 181.5,-637.82\"/>\n",
       "<text text-anchor=\"middle\" x=\"229.5\" y=\"-618.8\" font-family=\"Times,serif\" font-size=\"14.00\">joint2 [revolute]</text>\n",
       "</g>\n",
       "<!-- body4 -->\n",
       "<g id=\"node5\" class=\"node\">\n",
       "<title>body4</title>\n",
       "<ellipse fill=\"none\" stroke=\"black\" cx=\"185\" cy=\"-492\" rx=\"28.7\" ry=\"18\"/>\n",
       "<text text-anchor=\"middle\" x=\"185\" y=\"-488.3\" font-family=\"Times,serif\" font-size=\"14.00\">link3</text>\n",
       "</g>\n",
       "<!-- body4&#45;&gt;body3 -->\n",
       "<g id=\"edge3\" class=\"edge\">\n",
       "<title>body4-&gt;body3</title>\n",
       "<path fill=\"none\" stroke=\"black\" d=\"M185,-510.2C185,-521.84 185,-537.45 185,-550.76\"/>\n",
       "<polygon fill=\"black\" stroke=\"black\" points=\"181.5,-550.82 185,-560.82 188.5,-550.82 181.5,-550.82\"/>\n",
       "<text text-anchor=\"middle\" x=\"229.5\" y=\"-531.8\" font-family=\"Times,serif\" font-size=\"14.00\">joint3 [revolute]</text>\n",
       "</g>\n",
       "<!-- body5 -->\n",
       "<g id=\"node6\" class=\"node\">\n",
       "<title>body5</title>\n",
       "<ellipse fill=\"none\" stroke=\"black\" cx=\"185\" cy=\"-405\" rx=\"28.7\" ry=\"18\"/>\n",
       "<text text-anchor=\"middle\" x=\"185\" y=\"-401.3\" font-family=\"Times,serif\" font-size=\"14.00\">link4</text>\n",
       "</g>\n",
       "<!-- body5&#45;&gt;body4 -->\n",
       "<g id=\"edge4\" class=\"edge\">\n",
       "<title>body5-&gt;body4</title>\n",
       "<path fill=\"none\" stroke=\"black\" d=\"M185,-423.2C185,-434.84 185,-450.45 185,-463.76\"/>\n",
       "<polygon fill=\"black\" stroke=\"black\" points=\"181.5,-463.82 185,-473.82 188.5,-463.82 181.5,-463.82\"/>\n",
       "<text text-anchor=\"middle\" x=\"229.5\" y=\"-444.8\" font-family=\"Times,serif\" font-size=\"14.00\">joint4 [revolute]</text>\n",
       "</g>\n",
       "<!-- body6 -->\n",
       "<g id=\"node7\" class=\"node\">\n",
       "<title>body6</title>\n",
       "<ellipse fill=\"none\" stroke=\"black\" cx=\"185\" cy=\"-318\" rx=\"28.7\" ry=\"18\"/>\n",
       "<text text-anchor=\"middle\" x=\"185\" y=\"-314.3\" font-family=\"Times,serif\" font-size=\"14.00\">link5</text>\n",
       "</g>\n",
       "<!-- body6&#45;&gt;body5 -->\n",
       "<g id=\"edge5\" class=\"edge\">\n",
       "<title>body6-&gt;body5</title>\n",
       "<path fill=\"none\" stroke=\"black\" d=\"M185,-336.2C185,-347.84 185,-363.45 185,-376.76\"/>\n",
       "<polygon fill=\"black\" stroke=\"black\" points=\"181.5,-376.82 185,-386.82 188.5,-376.82 181.5,-376.82\"/>\n",
       "<text text-anchor=\"middle\" x=\"229.5\" y=\"-357.8\" font-family=\"Times,serif\" font-size=\"14.00\">joint5 [revolute]</text>\n",
       "</g>\n",
       "<!-- body7 -->\n",
       "<g id=\"node8\" class=\"node\">\n",
       "<title>body7</title>\n",
       "<ellipse fill=\"none\" stroke=\"black\" cx=\"185\" cy=\"-231\" rx=\"28.7\" ry=\"18\"/>\n",
       "<text text-anchor=\"middle\" x=\"185\" y=\"-227.3\" font-family=\"Times,serif\" font-size=\"14.00\">link6</text>\n",
       "</g>\n",
       "<!-- body7&#45;&gt;body6 -->\n",
       "<g id=\"edge6\" class=\"edge\">\n",
       "<title>body7-&gt;body6</title>\n",
       "<path fill=\"none\" stroke=\"black\" d=\"M185,-249.2C185,-260.84 185,-276.45 185,-289.76\"/>\n",
       "<polygon fill=\"black\" stroke=\"black\" points=\"181.5,-289.82 185,-299.82 188.5,-289.82 181.5,-289.82\"/>\n",
       "<text text-anchor=\"middle\" x=\"229.5\" y=\"-270.8\" font-family=\"Times,serif\" font-size=\"14.00\">joint6 [revolute]</text>\n",
       "</g>\n",
       "<!-- body8 -->\n",
       "<g id=\"node9\" class=\"node\">\n",
       "<title>body8</title>\n",
       "<ellipse fill=\"none\" stroke=\"black\" cx=\"185\" cy=\"-144\" rx=\"28.7\" ry=\"18\"/>\n",
       "<text text-anchor=\"middle\" x=\"185\" y=\"-140.3\" font-family=\"Times,serif\" font-size=\"14.00\">link7</text>\n",
       "</g>\n",
       "<!-- body8&#45;&gt;body7 -->\n",
       "<g id=\"edge7\" class=\"edge\">\n",
       "<title>body8-&gt;body7</title>\n",
       "<path fill=\"none\" stroke=\"black\" d=\"M185,-162.2C185,-173.84 185,-189.45 185,-202.76\"/>\n",
       "<polygon fill=\"black\" stroke=\"black\" points=\"181.5,-202.82 185,-212.82 188.5,-202.82 181.5,-202.82\"/>\n",
       "<text text-anchor=\"middle\" x=\"229.5\" y=\"-183.8\" font-family=\"Times,serif\" font-size=\"14.00\">joint7 [revolute]</text>\n",
       "</g>\n",
       "<!-- body9 -->\n",
       "<g id=\"node10\" class=\"node\">\n",
       "<title>body9</title>\n",
       "<ellipse fill=\"none\" stroke=\"black\" cx=\"183\" cy=\"-57\" rx=\"27\" ry=\"18\"/>\n",
       "<text text-anchor=\"middle\" x=\"183\" y=\"-53.3\" font-family=\"Times,serif\" font-size=\"14.00\">eef</text>\n",
       "</g>\n",
       "<!-- body9&#45;&gt;body8 -->\n",
       "<g id=\"edge8\" class=\"edge\">\n",
       "<title>body9-&gt;body8</title>\n",
       "<path fill=\"none\" stroke=\"black\" d=\"M183.4,-75.2C183.68,-86.84 184.05,-102.45 184.36,-115.76\"/>\n",
       "<polygon fill=\"black\" stroke=\"black\" points=\"180.86,-115.91 184.6,-125.82 187.86,-115.74 180.86,-115.91\"/>\n",
       "<text text-anchor=\"middle\" x=\"228\" y=\"-96.8\" font-family=\"Times,serif\" font-size=\"14.00\">eef_joint [weld]</text>\n",
       "</g>\n",
       "</g>\n",
       "</svg>"
      ],
      "text/plain": [
       "<IPython.core.display.SVG object>"
      ]
     },
     "metadata": {},
     "output_type": "display_data"
    }
   ],
   "source": [
    "def kinematic_tree_example():\n",
    "    plant = MultibodyPlant(time_step=0.0)\n",
    "    parser = Parser(plant)\n",
    "    parser.AddModelFromFile('./diva_teleop.urdf')\n",
    "    # parser.AddModelFromFile(FindResourceOrThrow(\n",
    "    #     \"drake/examples/manipulation_station/models/061_foam_brick.sdf\"))\n",
    "    plant.Finalize()\n",
    "\n",
    "    # TODO(russt): Add floating base connections\n",
    "    # TODO(russt): Consider a more interactive javascript rendering?\n",
    "    display(SVG(pydot.graph_from_dot_data(plant.GetTopologyGraphvizString())[0].create_svg()))\n",
    "\n",
    "kinematic_tree_example()"
   ]
  },
  {
   "cell_type": "code",
   "execution_count": 13,
   "metadata": {},
   "outputs": [],
   "source": [
    "meshcat.Delete()\n",
    "meshcat.DeleteAddedControls()"
   ]
  },
  {
   "cell_type": "code",
   "execution_count": null,
   "metadata": {},
   "outputs": [
    {
     "name": "stdout",
     "output_type": "stream",
     "text": [
      "gripper position (m): [-0.29 -0.41 0.23]\n",
      "gripper roll-pitch-yaw (rad):[-2.82 1.20 1.11]\n"
     ]
    }
   ],
   "source": [
    "def gripper_forward_kinematics_example():\n",
    "    builder = DiagramBuilder()\n",
    "\n",
    "    plant, scene_graph = AddMultibodyPlantSceneGraph(builder, time_step=1e-4)\n",
    "    model = Parser(plant, scene_graph).AddModelFromFile('./diva_teleop.urdf')\n",
    "    plant.WeldFrames(plant.world_frame(), plant.get_body(\n",
    "        plant.GetBodyIndices(model)[0]).body_frame())\n",
    "    plant.Finalize()\n",
    "\n",
    "    # Draw the frames\n",
    "    for body_name in [\"base_link\", \"link1\", \"link2\", \"link3\", \"link4\", \"link5\", \"link6\", \"link7\", \"eef\"]:\n",
    "        AddMultibodyTriad(plant.GetFrameByName(body_name), scene_graph)\n",
    "\n",
    "    meshcat.Delete()\n",
    "    meshcat.DeleteAddedControls()\n",
    "\n",
    "    visualizer = MeshcatVisualizerCpp.AddToBuilder(builder, scene_graph, meshcat)\n",
    "\n",
    "    diagram = builder.Build()\n",
    "    context = diagram.CreateDefaultContext()\n",
    "\n",
    "    gripper = plant.GetBodyByName(\"eef\")\n",
    "    def pose_callback(context):\n",
    "        pose = plant.EvalBodyPoseInWorld(context, gripper)   ## This is the important line\n",
    "        clear_output(wait=True)\n",
    "        print(\"gripper position (m): \" + np.array2string(\n",
    "            pose.translation(), formatter={\n",
    "                'float': lambda x: \"{:3.2f}\".format(x)}))\n",
    "        print(\"gripper roll-pitch-yaw (rad):\" + np.array2string(\n",
    "            RollPitchYaw(pose.rotation()).vector(),\n",
    "                         formatter={'float': lambda x: \"{:3.2f}\".format(x)}))\n",
    "\n",
    "    sliders = MeshcatJointSlidersThatPublish(meshcat, plant, visualizer, context)\n",
    "    # sliders.Run()\n",
    "    sliders.Run(pose_callback)\n",
    "\n",
    "gripper_forward_kinematics_example()"
   ]
  },
  {
   "cell_type": "code",
   "execution_count": 15,
   "metadata": {},
   "outputs": [
    {
     "name": "stdout",
     "output_type": "stream",
     "text": [
      "::_ Context\n",
      "------------\n",
      "Time: 0\n",
      "States:\n",
      "  27 continuous states\n",
      "    1 0 0 0 0 0 0 0 0 0 0 0 0 0 0 0 0 0 0 0 0 0 0 0 0 0 0\n",
      "\n",
      "Parameters:\n",
      "  32 numeric parameter groups with\n",
      "     1 parameters\n",
      "       0\n",
      "     1 parameters\n",
      "       1\n",
      "     1 parameters\n",
      "       0\n",
      "     1 parameters\n",
      "       1\n",
      "     1 parameters\n",
      "       0\n",
      "     1 parameters\n",
      "       1\n",
      "     1 parameters\n",
      "       0\n",
      "     1 parameters\n",
      "       1\n",
      "     1 parameters\n",
      "       0\n",
      "     1 parameters\n",
      "       1\n",
      "     1 parameters\n",
      "       0\n",
      "     1 parameters\n",
      "       1\n",
      "     1 parameters\n",
      "       0\n",
      "     1 parameters\n",
      "       1\n",
      "     10 parameters\n",
      "       nan nan nan nan nan nan nan nan nan nan\n",
      "     10 parameters\n",
      "       0 0 0 0 0 0 0 0 0 0\n",
      "     10 parameters\n",
      "          1.17345          0          0      0.058 0.00784933 0.00784933     0.0002          0          0          0\n",
      "     10 parameters\n",
      "       0.910434        0        0    0.045 0.004725 0.004725   0.0002        0        0        0\n",
      "     10 parameters\n",
      "         2.52898         0         0     0.125 0.0364583 0.0364583    0.0002         0         0         0\n",
      "     10 parameters\n",
      "          0.404637           0           0        0.02 0.000933333 0.000933333      0.0002           0           0           0\n",
      "     10 parameters\n",
      "         2.02319         0         0       0.1 0.0233333 0.0233333    0.0002         0         0         0\n",
      "     10 parameters\n",
      "       0 0 0 0 0 0 0 0 0 0\n",
      "     10 parameters\n",
      "          1.01159          0          0       0.05 0.00583333 0.00583333     0.0002          0          0          0\n",
      "     10 parameters\n",
      "       0 0 0 0 0 0 0 0 0 0\n",
      "     12 parameters\n",
      "        1  0 -0  0  1  0  0  0  1  0  0  0\n",
      "     12 parameters\n",
      "                 1           0          -0           0 9.63268e-05           1           0          -1 9.63268e-05       -0.05           0       0.116\n",
      "     12 parameters\n",
      "          1    0   -0    0    1    0    0    0    1    0    0 0.09\n",
      "     12 parameters\n",
      "          1    0   -0    0    1    0    0    0    1    0    0 0.25\n",
      "     12 parameters\n",
      "          1    0   -0    0    1    0    0    0    1    0 0.05 0.04\n",
      "     12 parameters\n",
      "         1   0  -0   0   1   0   0   0   1   0   0 0.2\n",
      "     12 parameters\n",
      "        1  0 -0  0  1  0  0  0  1  0  0  0\n",
      "     12 parameters\n",
      "        1  0 -0  0  1  0  0  0  1  0  0  0\n",
      "  18 abstract parameters\n",
      "\n",
      "plant.num_positions() = 14\n",
      "plant.num_velocities() = 13\n"
     ]
    }
   ],
   "source": [
    "def num_positions_velocities_example():\n",
    "    plant = MultibodyPlant(time_step = 0.0)\n",
    "    Parser(plant).AddModelFromFile('./diva_teleop.urdf')\n",
    "    plant.Finalize()\n",
    "\n",
    "    context = plant.CreateDefaultContext()\n",
    "    print(context)\n",
    "\n",
    "    print(f\"plant.num_positions() = {plant.num_positions()}\")\n",
    "    print(f\"plant.num_velocities() = {plant.num_velocities()}\")\n",
    "\n",
    "num_positions_velocities_example()"
   ]
  },
  {
   "cell_type": "markdown",
   "metadata": {},
   "source": [
    "Looking at the `Context` you can see that this system has 13 total state variables.  7 of them are positions, $q$; this is due to our pose representation using unit quaternions.  But only 6 of them are velocities, $v$; this is because a six-element spatial velocity provides a better (unconstrained) representation of the rate of change of the unit quaternion.  But clearly, if the length of the vectors don't even match, we do *not* have $\\dot{q} = v$."
   ]
  },
  {
   "cell_type": "code",
   "execution_count": 16,
   "metadata": {},
   "outputs": [
    {
     "name": "stdout",
     "output_type": "stream",
     "text": [
      "J_G:\n",
      "[[  0.0   0.5  -0.8  -0.1  -0.6  -0.1   0.8]\n",
      " [  0.0  -0.8  -0.5   0.5  -0.7   0.5  -0.5]\n",
      " [  1.0   0.0   0.2   0.9   0.3   0.9   0.3]\n",
      " [  0.3  -0.2  -0.0   0.2   0.0   0.0   0.0]\n",
      " [ -0.5  -0.1   0.1  -0.1   0.0   0.0   0.0]\n",
      " [  0.0  -0.5   0.0   0.1   0.0   0.0   0.0]]\n",
      "smallest singular value(J_G): 0.050880794977461556\n"
     ]
    }
   ],
   "source": [
    "def pick_and_place_jacobians_example():\n",
    "    builder = DiagramBuilder()\n",
    "\n",
    "    plant, scene_graph = AddMultibodyPlantSceneGraph(builder, time_step=1e-4)\n",
    "    model = Parser(plant, scene_graph).AddModelFromFile('./diva_teleop.urdf')\n",
    "    plant.WeldFrames(plant.world_frame(), plant.get_body(\n",
    "        plant.GetBodyIndices(model)[0]).body_frame())\n",
    "    plant.Finalize()\n",
    "\n",
    "    meshcat.Delete()\n",
    "    visualizer = MeshcatVisualizerCpp.AddToBuilder(builder, scene_graph, meshcat)\n",
    "\n",
    "    diagram = builder.Build()\n",
    "    context = diagram.CreateDefaultContext()\n",
    "\n",
    "    G = plant.GetBodyByName(\"eef\").body_frame()\n",
    "    W = plant.world_frame()\n",
    "    def pose_callback(context):\n",
    "        J_G = plant.CalcJacobianSpatialVelocity(context, JacobianWrtVariable.kQDot, G, [0,0,0], W, W)   ## This is the important line\n",
    "\n",
    "        clear_output(wait=True)\n",
    "        print(\"J_G:\")\n",
    "        print(np.array2string(J_G, formatter={\n",
    "              'float': lambda x: \"{:5.1f}\".format(x)}))\n",
    "        print(\n",
    "            f\"smallest singular value(J_G): {np.min(np.linalg.svd(J_G, compute_uv=False))}\")\n",
    "\n",
    "    # If you want to set the initial positions manually, use this:\n",
    "    plant.SetPositions(plant.GetMyContextFromRoot(context),\n",
    "                      plant.GetModelInstanceByName(\"diva_robot\"),\n",
    "                      [-1, -0.23, 0.43, 0.32, 0, 0, 0])\n",
    "\n",
    "    sliders = MeshcatJointSlidersThatPublish(meshcat, plant, visualizer, context)\n",
    "    sliders.Run(pose_callback)\n",
    "\n",
    "pick_and_place_jacobians_example()"
   ]
  },
  {
   "cell_type": "markdown",
   "metadata": {},
   "source": [
    "## Note: \n",
    "Ch3 has more info on end-effector control -- which we are ignoring for now. But should definitely get back to better understand the setup process. Also IK as optimisation exercises should also be revisited."
   ]
  },
  {
   "cell_type": "code",
   "execution_count": 34,
   "metadata": {},
   "outputs": [],
   "source": [
    "builder = DiagramBuilder()\n",
    "\n",
    "plant, scene_graph = AddMultibodyPlantSceneGraph(builder, time_step=1e-4)\n",
    "model = Parser(plant, scene_graph).AddModelFromFile('./diva_teleop.urdf')\n",
    "plant.WeldFrames(plant.world_frame(), plant.get_body(plant.GetBodyIndices(model)[0]).body_frame())\n",
    "plant.Finalize()\n",
    "\n",
    "diagram = builder.Build()\n",
    "#     context = diagram.CreateDefaultContext()"
   ]
  },
  {
   "cell_type": "code",
   "execution_count": 35,
   "metadata": {},
   "outputs": [
    {
     "data": {
      "text/plain": [
       "<BodyFrame_[float] name='eef' index=9 model_instance=2>"
      ]
     },
     "execution_count": 35,
     "metadata": {},
     "output_type": "execute_result"
    }
   ],
   "source": [
    "plant.GetFrameByName('eef')"
   ]
  },
  {
   "cell_type": "code",
   "execution_count": 38,
   "metadata": {},
   "outputs": [
    {
     "ename": "AttributeError",
     "evalue": "'SceneGraph_[float]' object has no attribute 'GetPoseInWorld'",
     "output_type": "error",
     "traceback": [
      "\u001b[0;31m---------------------------------------------------------------------------\u001b[0m",
      "\u001b[0;31mAttributeError\u001b[0m                            Traceback (most recent call last)",
      "\u001b[0;32m/tmp/ipykernel_25542/169486560.py\u001b[0m in \u001b[0;36m<module>\u001b[0;34m\u001b[0m\n\u001b[0;32m----> 1\u001b[0;31m \u001b[0mscene_graph\u001b[0m\u001b[0;34m.\u001b[0m\u001b[0mGetPoseInWorld\u001b[0m\u001b[0;34m(\u001b[0m\u001b[0;36m0\u001b[0m\u001b[0;34m)\u001b[0m\u001b[0;34m\u001b[0m\u001b[0;34m\u001b[0m\u001b[0m\n\u001b[0m",
      "\u001b[0;31mAttributeError\u001b[0m: 'SceneGraph_[float]' object has no attribute 'GetPoseInWorld'"
     ]
    }
   ],
   "source": [
    "scene_graph.GetPoseInWorld(0)"
   ]
  },
  {
   "cell_type": "code",
   "execution_count": null,
   "metadata": {},
   "outputs": [],
   "source": []
  }
 ],
 "metadata": {
  "colab": {
   "collapsed_sections": [],
   "name": "Robotic Manipulation - Let's get you a robot.ipynb",
   "provenance": [],
   "toc_visible": true
  },
  "interpreter": {
   "hash": "31f2aee4e71d21fbe5cf8b01ff0e069b9275f58929596ceb00d14d90e3e16cd6"
  },
  "kernelspec": {
   "display_name": "Python 3 (ipykernel)",
   "language": "python",
   "name": "python3"
  },
  "language_info": {
   "codemirror_mode": {
    "name": "ipython",
    "version": 3
   },
   "file_extension": ".py",
   "mimetype": "text/x-python",
   "name": "python",
   "nbconvert_exporter": "python",
   "pygments_lexer": "ipython3",
   "version": "3.8.11"
  }
 },
 "nbformat": 4,
 "nbformat_minor": 2
}
