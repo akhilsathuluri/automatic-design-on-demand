{
 "cells": [
  {
   "cell_type": "markdown",
   "metadata": {},
   "source": [
    "# URDF experiments for design on demand\n",
    "\n",
    "URDF units are written and joined with the help of the ODIO URDF library and constructed robots are played around with using the teleop from pydrake"
   ]
  },
  {
   "cell_type": "code",
   "execution_count": 1,
   "metadata": {},
   "outputs": [],
   "source": [
    "# python libraries\n",
    "import numpy as np\n",
    "import matplotlib.pyplot as plt\n",
    "from IPython.display import HTML\n",
    "\n",
    "# pydrake imports\n",
    "from pydrake.all import (MultibodyPlant, AddMultibodyPlantSceneGraph,\n",
    "                         DiagramBuilder, Parser, VectorSystem, SignalLogger,\n",
    "                         Simulator, PlanarSceneGraphVisualizer, Multiplexer,\n",
    "                         plot_system_graphviz, MatrixGain, InverseKinematics, )\n",
    "\n",
    "import pydrake.solvers.mathematicalprogram as mp"
   ]
  },
  {
   "cell_type": "code",
   "execution_count": 2,
   "metadata": {},
   "outputs": [],
   "source": [
    "import meshcat\n",
    "import pydrake.systems.meshcat_visualizer as meshcat_visualizer "
   ]
  },
  {
   "cell_type": "code",
   "execution_count": 3,
   "metadata": {},
   "outputs": [],
   "source": [
    "import os\n",
    "from IPython.display import display\n",
    "from ipywidgets import Textarea"
   ]
  },
  {
   "cell_type": "code",
   "execution_count": 4,
   "metadata": {},
   "outputs": [],
   "source": [
    "from pydrake.all import RigidTransform, RotationMatrix, RollPitchYaw\n",
    "\n",
    "import pydrake.multibody.jupyter_widgets\n",
    "import pydrake.systems.jupyter_widgets\n",
    "\n",
    "from manipulation.jupyter_widgets import MakePoseSlidersThatPublishOnCallback"
   ]
  },
  {
   "cell_type": "code",
   "execution_count": 333,
   "metadata": {},
   "outputs": [],
   "source": [
    "from odio_urdf import *\n",
    "import math\n",
    "import sys\n",
    "# from operator import add\n",
    "from scipy.spatial.transform import Rotation as R\n",
    "from scipy.optimize import minimize, LinearConstraint, NonlinearConstraint"
   ]
  },
  {
   "cell_type": "code",
   "execution_count": 394,
   "metadata": {},
   "outputs": [],
   "source": [
    "# Initiate the tree structure with a base\n",
    "\n",
    "# Decided to use numpy for array manipulation\n",
    "\n",
    "# Need to setup good connection rules for both origin and orientation\n",
    "# And then setup joints\n",
    "\n",
    "# We need a new class to describe the links and the joints\n",
    "# The end product has to be disctributed as modules and submodules\n",
    "# https://stackoverflow.com/questions/18555193/python-modules-with-submodules-and-functions\n",
    "\n",
    "# For now we have the module class within the main class\n",
    "class robotDoD:\n",
    "    # A class to define all the modules and their description\n",
    "    class robotModule:\n",
    "        def __init__(self, name):\n",
    "            self.name = name;\n",
    "            # Define interfaces poition and orientation\n",
    "            self.intA = np.array([[0,0,0],[0,0,0]]) # Interface A origin and orientation\n",
    "            self.intB = np.array([[0,0,0],[0,0,0]]) # Interface B origin and orientation\n",
    "            self.mesh_path = \"\" # Set the location of the path\n",
    "            self.scale = \"0.001 0.001 0.001\" # Set scale as string\n",
    "            self.type = 0 # 0-link; 1-joint    \n",
    "#             self.default_orientation = np.array([0, 0, 0]) # If necessary to re-orient from the obtained meshes\n",
    "#             self.default_origin = np.array([0,0,0]) # To re-locate from the default location of the mesh\n",
    "  \n",
    "    # A helper class for transformation\n",
    "    class helperFuncs:\n",
    "        def __init__(self):\n",
    "            pass\n",
    "            \n",
    "        def list2space(self, com):\n",
    "            return str(com[0])+' '+str(com[1])+' '+str(com[2])\n",
    "    \n",
    "        def rotZ(self, angle):\n",
    "            return np.array([[np.cos(angle), -np.sin(angle), 0],[np.sin(angle), np.cos(angle), 0],[0,0,1]])\n",
    "\n",
    "        def rotY(self, angle):\n",
    "            return np.array([[np.cos(angle), 0, np.sin(angle)],[0, 1, 0],[-np.sin(angle), 0, np.cos(angle)]])\n",
    "\n",
    "        def rotX(self, angle):\n",
    "            return np.array([[1,0,0], [0, np.cos(angle), -np.sin(angle)],[0, np.sin(angle), np.cos(angle)]])\n",
    "    \n",
    "        def transform_vector(self, axis, angle, vector):\n",
    "            if axis == 0:\n",
    "                return self.rotX(angle).dot(vector)\n",
    "            if axis == 1:\n",
    "                return self.rotY(angle).dot(vector)\n",
    "            if axis == 2:\n",
    "                return self.rotZ(angle).dot(vector)\n",
    "            else:\n",
    "                raise AssertionError(\"Error: Rotation about unknown axis requested\") \n",
    "                \n",
    "        # Resolve the axis and angle when aligned\n",
    "        def resolve_axis(self, module):\n",
    "            def foo(x):\n",
    "                return x[0]*x[1]*x[2]\n",
    "\n",
    "            def non_lin(x):\n",
    "                return np.linalg.norm(x)\n",
    "\n",
    "            lin_constraint = LinearConstraint(module.intA[1], 0, 0)\n",
    "            nonlin_constraint = NonlinearConstraint(non_lin, 1, 1)\n",
    "\n",
    "            sol = minimize(foo,[1/np.sqrt(3),1/np.sqrt(3),1/np.sqrt(3)], constraints = [lin_constraint, nonlin_constraint])\n",
    "            return sol['x']            \n",
    "    \n",
    "    def __init__(self, name):\n",
    "        self.name = name\n",
    "        # Initiate the helper class\n",
    "        self.helper_funcs = self.helperFuncs()\n",
    "        # Declare materials\n",
    "        self.materials = Group(\n",
    "            Material(\"blue\", Color(rgba=\"0 0 0.8 1.0\")),\n",
    "            Material(\"red\", Color(rgba=\"0.8 0 0 1.0\")))  \n",
    "        self.material_color = [\"blue\", \"red\"]\n",
    "        self.module_types = [\"linkMod\", \"jointMod\"]\n",
    "        # Declare the robot\n",
    "        self.robot = Robot(self.name, self.materials)\n",
    "        # Declare robots tree structure\n",
    "        self.tree = {}\n",
    "        self.prev_module = []\n",
    "        \n",
    "    def add_root(self):        \n",
    "        # Add root module to the robot URDF\n",
    "        root_mod = self.robotModule('root_mod')\n",
    "        # Define the module\n",
    "        root_mod.intA = np.array([[0,0,0],[0,0,-1]])\n",
    "        root_mod.intB = np.array([[0,0,0.01],[0,0,1]])\n",
    "        root_mod.type = 1\n",
    "        \n",
    "        root_link_urdf = Link(\n",
    "                    Visual(\n",
    "                        Origin(rpy = \"0 0 0\", xyz = self.helper_funcs.list2space(root_mod.intA[0])),\n",
    "                        Material (name = self.material_color[root_mod.type]),\n",
    "                        Geometry(Cylinder(length = 0.02, radius = 0.05))),\n",
    "                    name = root_mod.name)\n",
    "        \n",
    "        self.prev_module = root_mod.intB\n",
    "        self.robot(root_link_urdf)\n",
    "        self.tree[root_mod.name] = root_mod.intB\n",
    "    \n",
    "    def add_module(self, module):\n",
    "        # Always start from the root module which initates the self.prev_module\n",
    "        # Check if prev_module is empty => root not initiated \n",
    "        if not self.prev_module.any():\n",
    "            raise AssertionError(\"Error: Add root module first before initiating the tree\")\n",
    "        # Get info from self.prev_module\n",
    "        # Compute connection rules from prev and current modules\n",
    "        current_origin, current_orientation = self.computeConnection(module)\n",
    "        \n",
    "        # Generate module URDF\n",
    "        module_urdf = Link(\n",
    "                         Visual(\n",
    "                            Origin(xyz = self.helper_funcs.list2space(current_origin), rpy = self.helper_funcs.list2space(current_orientation)),\n",
    "                            Material(name = self.material_color[module.type]),\n",
    "                            Geometry(Mesh(filename = module.mesh_path, scale = module.scale))),\n",
    "                        name= self.module_types[module.type]+ '_'+str(len(self.tree.keys())))\n",
    "        \n",
    "        # Add the module to the robot URDF\n",
    "        self.robot(module_urdf)\n",
    "        # Save all the origins and orientations in a tree\n",
    "        self.tree[module.name] = self.prev_module\n",
    "        pass\n",
    "\n",
    "    def constructURDF(self):\n",
    "        # Later replace the name of the URDF to the given name\n",
    "        name = 'test.urdf'\n",
    "        with open(name, 'w') as f:\n",
    "            print(self.robot, file=f)\n",
    "            print('Robot design successfully saved as '+name)\n",
    "    \n",
    "    def visualiseRobot(self, urdf_path):\n",
    "        # Loading the updated robot URDF\n",
    "        builder = DiagramBuilder()\n",
    "        robot, scene_graph = AddMultibodyPlantSceneGraph(builder, time_step=0.001)\n",
    "        Parser(robot).AddModelFromFile(urdf_path)\n",
    "        robot.Finalize()\n",
    "        \n",
    "        diagram = builder.Build()\n",
    "\n",
    "        diagram_context = diagram.CreateDefaultContext()\n",
    "        plant_context = diagram.GetSubsystemContext(robot, diagram_context)\n",
    "\n",
    "        meshcat.Visualizer().delete()\n",
    "        # delete_prefix_on_load=True removes any previous meshes when a new one is loaded\n",
    "        visualizer = meshcat_visualizer.ConnectMeshcatVisualizer(\n",
    "            builder, \n",
    "            scene_graph, \n",
    "            delete_prefix_on_load=False)\n",
    "        \n",
    "        visualizer.load()\n",
    "        \n",
    "    def computeConnection(self, module):\n",
    "        current_orientation = np.zeros(3)\n",
    "        # Compute the rotation axis\n",
    "        temp = np.cross(self.prev_module[1], module.intA[1])\n",
    "        sinangle = np.linalg.norm(temp)\n",
    "        cosangle = np.round(np.dot(self.prev_module[1], module.intA[1]))\n",
    "        # Hangle sinangle being zero\n",
    "        print(module.name)\n",
    "        if sinangle == 0 and cosangle == 1:\n",
    "            # We need the vector flipped\n",
    "            # We need to resolve redundancy here by solving an optimisation problem\n",
    "            rotaxis = self.helper_funcs.resolve_axis(module)\n",
    "            rotangle = np.pi\n",
    "            \n",
    "        if sinangle == 0 and cosangle == -1:\n",
    "            rotangle = 0\n",
    "            rotaxis = np.zeros(3)\n",
    "            \n",
    "        if sinangle != 0:\n",
    "            rotaxis = temp/sinangle\n",
    "            # Compute the rotation angle\n",
    "            rotangle = np.arctan2(sinangle, cosangle)\n",
    "        \n",
    "        # print(module.name,' ', rotaxis, ' ', rotangle)\n",
    "        # Compute the quaternion\n",
    "        r = R.from_rotvec(rotangle*rotaxis)\n",
    "        # Convert to Euler rotation 'xyz'\n",
    "        current_orientation = r.as_euler('xyz')\n",
    "\n",
    "        # Rotation matrix\n",
    "        rmat = r.as_matrix()\n",
    "        current_origin = self.prev_module[0] + np.dot(rmat,(-module.intA[0]))\n",
    "        # Next orientation\n",
    "        next_orientation = np.dot(rmat, module.intB[1])\n",
    "        next_origin = current_origin + np.dot(rmat, module.intB[0])\n",
    "        # Update prev_module        \n",
    "        self.prev_module = np.array([next_origin, next_orientation])\n",
    "    \n",
    "        return current_origin, current_orientation"
   ]
  },
  {
   "cell_type": "code",
   "execution_count": 444,
   "metadata": {},
   "outputs": [],
   "source": [
    "# Declare the robotDoD class\n",
    "roboDoD = robotDoD(\"test\");"
   ]
  },
  {
   "cell_type": "code",
   "execution_count": 445,
   "metadata": {},
   "outputs": [],
   "source": [
    "# Declare all the modules\n",
    "# Keep this database of modules independant of the experiment being done\n",
    "\n",
    "# jmod\n",
    "jmod = robotDoD.robotModule('jmod')\n",
    "# Define the module\n",
    "jmod.intA = np.array([[0,0,0],[0,-1,0]])\n",
    "jmod.intB = np.array([[0.031, 0.0556, 0],[1,0,0]])\n",
    "jmod.type = 1\n",
    "jmod.mesh_path = \"./meshes/j_module.obj\"\n",
    "\n",
    "# l1mod\n",
    "l1mod = robotDoD.robotModule('l1mod')\n",
    "# Define the module\n",
    "l1mod.intA = np.array([[0.04,0,0],[1,0,0]])\n",
    "l1mod.intB = np.array([[0.04,0.15,0],[1,0,0]])\n",
    "l1mod.type = 0\n",
    "l1mod.mesh_path = \"./meshes/l1_module.obj\"\n",
    "\n",
    "# l2mod\n",
    "l2mod = robotDoD.robotModule('l2mod')\n",
    "# Define the module\n",
    "l2mod.intA = np.array([[0.04,0,0],[1,0,0]])\n",
    "l2mod.intB = np.array([[0,0.15,0],[0,1,0]])\n",
    "l2mod.type = 0\n",
    "l2mod.mesh_path = \"./meshes/l2_module.obj\"\n",
    "\n",
    "# l3mod\n",
    "l3mod = robotDoD.robotModule('l3mod')\n",
    "# Define the module\n",
    "l3mod.intA = np.array([[0,0.15,0],[0,-1,0]])\n",
    "l3mod.intB = np.array([[0.04, 0, 0],[1,0,0]])\n",
    "l3mod.type = 0\n",
    "l3mod.mesh_path = \"./meshes/l3_module.obj\""
   ]
  },
  {
   "cell_type": "code",
   "execution_count": 458,
   "metadata": {},
   "outputs": [
    {
     "name": "stdout",
     "output_type": "stream",
     "text": [
      "Robot design successfully saved as test.urdf\n",
      "You can open the visualizer by visiting the following URL:\n",
      "http://127.0.0.1:7077/static/\n",
      "Connecting to meshcat-server at zmq_url=tcp://127.0.0.1:6000...\n",
      "You can open the visualizer by visiting the following URL:\n",
      "http://127.0.0.1:7000/static/\n",
      "Connected to meshcat-server.\n",
      "jmod\n",
      "jmod   [ 1.  0. -0.]   1.5707963267948966\n",
      "Robot design successfully saved as test.urdf\n",
      "You can open the visualizer by visiting the following URL:\n",
      "http://127.0.0.1:7078/static/\n",
      "Connecting to meshcat-server at zmq_url=tcp://127.0.0.1:6000...\n",
      "You can open the visualizer by visiting the following URL:\n",
      "http://127.0.0.1:7000/static/\n",
      "Connected to meshcat-server.\n",
      "jmod\n",
      "jmod   [ 1.  0. -0.]   1.5707963267948966\n",
      "l1mod\n",
      "l1mod   [0.         0.70710678 0.70710679]   3.141592653589793\n",
      "Robot design successfully saved as test.urdf\n",
      "You can open the visualizer by visiting the following URL:\n",
      "http://127.0.0.1:7079/static/\n",
      "Connecting to meshcat-server at zmq_url=tcp://127.0.0.1:6000...\n",
      "You can open the visualizer by visiting the following URL:\n",
      "http://127.0.0.1:7000/static/\n",
      "Connected to meshcat-server.\n",
      "jmod\n",
      "jmod   [ 1.  0. -0.]   1.5707963267948966\n",
      "l1mod\n",
      "l1mod   [0.         0.70710678 0.70710679]   3.141592653589793\n",
      "jmod\n",
      "jmod   [1.24977041e-08 0.00000000e+00 1.00000000e+00]   1.5707963267948966\n",
      "Robot design successfully saved as test.urdf\n",
      "You can open the visualizer by visiting the following URL:\n",
      "http://127.0.0.1:7080/static/\n",
      "Connecting to meshcat-server at zmq_url=tcp://127.0.0.1:6000...\n",
      "You can open the visualizer by visiting the following URL:\n",
      "http://127.0.0.1:7000/static/\n",
      "Connected to meshcat-server.\n",
      "jmod\n",
      "jmod   [ 1.  0. -0.]   1.5707963267948966\n",
      "l1mod\n",
      "l1mod   [0.         0.70710678 0.70710679]   3.141592653589793\n",
      "jmod\n",
      "jmod   [1.24977041e-08 0.00000000e+00 1.00000000e+00]   1.5707963267948966\n",
      "l2mod\n",
      "l2mod   [ 0.00000000e+00  1.24977041e-08 -1.00000000e+00]   1.5707963267948966\n",
      "Robot design successfully saved as test.urdf\n",
      "You can open the visualizer by visiting the following URL:\n",
      "http://127.0.0.1:7081/static/\n",
      "Connecting to meshcat-server at zmq_url=tcp://127.0.0.1:6000...\n",
      "You can open the visualizer by visiting the following URL:\n",
      "http://127.0.0.1:7000/static/\n",
      "Connected to meshcat-server.\n",
      "jmod\n",
      "jmod   [ 1.  0. -0.]   1.5707963267948966\n",
      "l1mod\n",
      "l1mod   [0.         0.70710678 0.70710679]   3.141592653589793\n",
      "jmod\n",
      "jmod   [1.24977041e-08 0.00000000e+00 1.00000000e+00]   1.5707963267948966\n",
      "l2mod\n",
      "l2mod   [ 0.00000000e+00  1.24977041e-08 -1.00000000e+00]   1.5707963267948966\n",
      "jmod\n",
      "jmod   [-1.24977041e-08 -0.00000000e+00 -1.00000000e+00]   1.5707963267948966\n",
      "Robot design successfully saved as test.urdf\n",
      "You can open the visualizer by visiting the following URL:\n",
      "http://127.0.0.1:7082/static/\n",
      "Connecting to meshcat-server at zmq_url=tcp://127.0.0.1:6000...\n",
      "You can open the visualizer by visiting the following URL:\n",
      "http://127.0.0.1:7000/static/\n",
      "Connected to meshcat-server.\n",
      "jmod\n",
      "jmod   [ 1.  0. -0.]   1.5707963267948966\n",
      "l1mod\n",
      "l1mod   [0.         0.70710678 0.70710679]   3.141592653589793\n",
      "jmod\n",
      "jmod   [1.24977041e-08 0.00000000e+00 1.00000000e+00]   1.5707963267948966\n",
      "l2mod\n",
      "l2mod   [ 0.00000000e+00  1.24977041e-08 -1.00000000e+00]   1.5707963267948966\n",
      "jmod\n",
      "jmod   [-1.24977041e-08 -0.00000000e+00 -1.00000000e+00]   1.5707963267948966\n",
      "l3mod\n",
      "l3mod   [ 1.00000000e+00  0.00000000e+00 -4.44170791e-09]   1.2497704121950138e-08\n",
      "Robot design successfully saved as test.urdf\n",
      "You can open the visualizer by visiting the following URL:\n",
      "http://127.0.0.1:7083/static/\n",
      "Connecting to meshcat-server at zmq_url=tcp://127.0.0.1:6000...\n",
      "You can open the visualizer by visiting the following URL:\n",
      "http://127.0.0.1:7000/static/\n",
      "Connected to meshcat-server.\n",
      "jmod\n",
      "jmod   [ 1.  0. -0.]   1.5707963267948966\n",
      "l1mod\n",
      "l1mod   [0.         0.70710678 0.70710679]   3.141592653589793\n",
      "jmod\n",
      "jmod   [1.24977041e-08 0.00000000e+00 1.00000000e+00]   1.5707963267948966\n",
      "l2mod\n",
      "l2mod   [ 0.00000000e+00  1.24977041e-08 -1.00000000e+00]   1.5707963267948966\n",
      "jmod\n",
      "jmod   [-1.24977041e-08 -0.00000000e+00 -1.00000000e+00]   1.5707963267948966\n",
      "l3mod\n",
      "l3mod   [ 1.00000000e+00  0.00000000e+00 -4.44170791e-09]   1.2497704121950138e-08\n",
      "jmod\n",
      "jmod   [-3.46880972e-25 -0.00000000e+00 -1.00000000e+00]   1.5707963267948966\n",
      "Robot design successfully saved as test.urdf\n",
      "You can open the visualizer by visiting the following URL:\n",
      "http://127.0.0.1:7084/static/\n",
      "Connecting to meshcat-server at zmq_url=tcp://127.0.0.1:6000...\n",
      "You can open the visualizer by visiting the following URL:\n",
      "http://127.0.0.1:7000/static/\n",
      "Connected to meshcat-server.\n",
      "jmod\n",
      "jmod   [ 1.  0. -0.]   1.5707963267948966\n",
      "l1mod\n",
      "l1mod   [0.         0.70710678 0.70710679]   3.141592653589793\n",
      "jmod\n",
      "jmod   [1.24977041e-08 0.00000000e+00 1.00000000e+00]   1.5707963267948966\n",
      "l2mod\n",
      "l2mod   [ 0.00000000e+00  1.24977041e-08 -1.00000000e+00]   1.5707963267948966\n",
      "jmod\n",
      "jmod   [-1.24977041e-08 -0.00000000e+00 -1.00000000e+00]   1.5707963267948966\n",
      "l3mod\n",
      "l3mod   [ 1.00000000e+00  0.00000000e+00 -4.44170791e-09]   1.2497704121950138e-08\n",
      "jmod\n",
      "jmod   [-3.46880972e-25 -0.00000000e+00 -1.00000000e+00]   1.5707963267948966\n",
      "l2mod\n",
      "l2mod   [-0.00000000e+00  3.46880972e-25  1.00000000e+00]   1.5707963267948966\n",
      "Robot design successfully saved as test.urdf\n",
      "You can open the visualizer by visiting the following URL:\n",
      "http://127.0.0.1:7085/static/\n",
      "Connecting to meshcat-server at zmq_url=tcp://127.0.0.1:6000...\n",
      "You can open the visualizer by visiting the following URL:\n",
      "http://127.0.0.1:7000/static/\n",
      "Connected to meshcat-server.\n"
     ]
    }
   ],
   "source": [
    "import time\n",
    "components = [jmod, l1mod, jmod, l2mod, jmod, l3mod, jmod, l2mod]\n",
    "for i in range(9):\n",
    "    \n",
    "    roboDoD = robotDoD(\"test\");\n",
    "    \n",
    "    jmod = robotDoD.robotModule('jmod')\n",
    "    # Define the module\n",
    "    jmod.intA = np.array([[0,0,0],[0,-1,0]])\n",
    "    jmod.intB = np.array([[0.031, 0.0556, 0],[1,0,0]])\n",
    "    jmod.type = 1\n",
    "    jmod.mesh_path = \"./meshes/j_module.obj\"\n",
    "\n",
    "    # l1mod\n",
    "    l1mod = robotDoD.robotModule('l1mod')\n",
    "    # Define the module\n",
    "    l1mod.intA = np.array([[0.04,0,0],[1,0,0]])\n",
    "    l1mod.intB = np.array([[0.04,0.15,0],[1,0,0]])\n",
    "    l1mod.type = 0\n",
    "    l1mod.mesh_path = \"./meshes/l1_module.obj\"\n",
    "\n",
    "    # l2mod\n",
    "    l2mod = robotDoD.robotModule('l2mod')\n",
    "    # Define the module\n",
    "    l2mod.intA = np.array([[0.04,0,0],[1,0,0]])\n",
    "    l2mod.intB = np.array([[0,0.15,0],[0,1,0]])\n",
    "    l2mod.type = 0\n",
    "    l2mod.mesh_path = \"./meshes/l2_module.obj\"\n",
    "\n",
    "    # l3mod\n",
    "    l3mod = robotDoD.robotModule('l3mod')\n",
    "    # Define the module\n",
    "    l3mod.intA = np.array([[0,0.15,0],[0,-1,0]])\n",
    "    l3mod.intB = np.array([[0.04, 0, 0],[1,0,0]])\n",
    "    l3mod.type = 0\n",
    "    l3mod.mesh_path = \"./meshes/l3_module.obj\"\n",
    "    \n",
    "    roboDoD.add_root()\n",
    "    \n",
    "    for j in range(i):\n",
    "        roboDoD.add_module(components[j])\n",
    "    \n",
    "    roboDoD.constructURDF()\n",
    "    roboDoD.visualiseRobot(\"./test.urdf\")\n",
    "    time.sleep(0.5)"
   ]
  },
  {
   "cell_type": "code",
   "execution_count": 446,
   "metadata": {},
   "outputs": [
    {
     "name": "stdout",
     "output_type": "stream",
     "text": [
      "jmod\n",
      "jmod   [ 1.  0. -0.]   1.5707963267948966\n",
      "l1mod\n",
      "l1mod   [0.         0.70710678 0.70710679]   3.141592653589793\n",
      "jmod\n",
      "jmod   [1.24977041e-08 0.00000000e+00 1.00000000e+00]   1.5707963267948966\n",
      "l2mod\n",
      "l2mod   [ 0.00000000e+00  1.24977041e-08 -1.00000000e+00]   1.5707963267948966\n",
      "jmod\n",
      "jmod   [-1.24977041e-08 -0.00000000e+00 -1.00000000e+00]   1.5707963267948966\n",
      "l3mod\n",
      "l3mod   [ 1.00000000e+00  0.00000000e+00 -4.44170791e-09]   1.2497704121950138e-08\n",
      "jmod\n",
      "jmod   [-3.46880972e-25 -0.00000000e+00 -1.00000000e+00]   1.5707963267948966\n",
      "l2mod\n",
      "l2mod   [-0.00000000e+00  3.46880972e-25  1.00000000e+00]   1.5707963267948966\n"
     ]
    }
   ],
   "source": [
    "# Now we have a base robotDoD class and now adding modules one by one\n",
    "roboDoD.add_root()\n",
    "roboDoD.add_module(jmod)\n",
    "# roboDoD.add_module(l2mod)\n",
    "# roboDoD.add_module(jmod)\n",
    "roboDoD.add_module(l1mod)\n",
    "roboDoD.add_module(jmod)\n",
    "roboDoD.add_module(l2mod)\n",
    "roboDoD.add_module(jmod)\n",
    "roboDoD.add_module(l3mod)\n",
    "roboDoD.add_module(jmod)\n",
    "roboDoD.add_module(l2mod)"
   ]
  },
  {
   "cell_type": "code",
   "execution_count": 447,
   "metadata": {},
   "outputs": [
    {
     "name": "stdout",
     "output_type": "stream",
     "text": [
      "Robot design successfully saved as test.urdf\n"
     ]
    }
   ],
   "source": [
    "# Now construct the URDF\n",
    "roboDoD.constructURDF()"
   ]
  },
  {
   "cell_type": "code",
   "execution_count": 448,
   "metadata": {},
   "outputs": [],
   "source": [
    "# Print the URDF for eef_link name\n",
    "roboDoD.robot();"
   ]
  },
  {
   "cell_type": "code",
   "execution_count": 449,
   "metadata": {
    "scrolled": true
   },
   "outputs": [
    {
     "name": "stdout",
     "output_type": "stream",
     "text": [
      "You can open the visualizer by visiting the following URL:\n",
      "http://127.0.0.1:7041/static/\n",
      "Connecting to meshcat-server at zmq_url=tcp://127.0.0.1:6000...\n",
      "You can open the visualizer by visiting the following URL:\n",
      "http://127.0.0.1:7000/static/\n",
      "Connected to meshcat-server.\n"
     ]
    }
   ],
   "source": [
    "# Loading the updated robot URDF\n",
    "roboDoD.visualiseRobot(\"./test.urdf\")"
   ]
  },
  {
   "cell_type": "code",
   "execution_count": 413,
   "metadata": {},
   "outputs": [
    {
     "data": {
      "text/plain": [
       "array([0.031 , 0.0556, 0.    ])"
      ]
     },
     "execution_count": 413,
     "metadata": {},
     "output_type": "execute_result"
    }
   ],
   "source": [
    "jmod.intB[0]"
   ]
  },
  {
   "cell_type": "code",
   "execution_count": 391,
   "metadata": {},
   "outputs": [
    {
     "data": {
      "text/plain": [
       "{'root_mod': array([[0.  , 0.  , 0.01],\n",
       "        [0.  , 0.  , 1.  ]]),\n",
       " 'jmod': array([[ 3.100000e-02,  1.234568e-17, -4.560000e-02],\n",
       "        [ 1.000000e+00,  0.000000e+00,  0.000000e+00]]),\n",
       " 'l1mod': array([[-4.90000019e-02, -4.06399673e-10,  1.04400000e-01],\n",
       "        [-1.00000000e+00, -1.24977042e-08,  1.24977041e-08]])}"
      ]
     },
     "execution_count": 391,
     "metadata": {},
     "output_type": "execute_result"
    }
   ],
   "source": [
    "roboDoD.tree"
   ]
  },
  {
   "cell_type": "code",
   "execution_count": 375,
   "metadata": {},
   "outputs": [
    {
     "data": {
      "text/plain": [
       "array([[ 3.09999981e-02,  5.93416659e-10,  1.04399999e-01],\n",
       "       [-1.00000000e+00, -1.24977042e-08,  1.24977041e-08]])"
      ]
     },
     "execution_count": 375,
     "metadata": {},
     "output_type": "execute_result"
    }
   ],
   "source": [
    "roboDoD.prev_module"
   ]
  },
  {
   "cell_type": "code",
   "execution_count": 376,
   "metadata": {},
   "outputs": [
    {
     "name": "stdout",
     "output_type": "stream",
     "text": [
      "1.767442269173094e-08\n",
      "-0.9999999999999996\n"
     ]
    }
   ],
   "source": [
    "# Find the axis and angle between the modules\n",
    "# root_mod and jmod, since all the int orientations are unit vectors cross product has to be unit?\n",
    "temp = np.cross(roboDoD.prev_module[1], l1mod.intA[1])\n",
    "sinangle = np.linalg.norm(temp)\n",
    "# rotaxis = temp/sinangle\n",
    "print(sinangle)\n",
    "\n",
    "cosangle = np.dot(roboDoD.prev_module[1], l1mod.intA[1])\n",
    "rotangle = np.arctan2(sinangle, cosangle)\n",
    "print(cosangle)\n",
    "# # Now define the quaternion\n",
    "# r = R.from_quat(np.append(np.cos(rotangle/2), np.sin(rotangle/2)*rotaxis))\n",
    "# r.as_euler('xyz')"
   ]
  },
  {
   "cell_type": "code",
   "execution_count": 377,
   "metadata": {},
   "outputs": [
    {
     "name": "stdout",
     "output_type": "stream",
     "text": [
      "[8.83721125e-09            nan            nan            nan]\n"
     ]
    }
   ],
   "source": [
    "tempq = np.append(np.cos(rotangle/2), rotaxis*np.sin(rotangle/2))\n",
    "print(tempq)"
   ]
  },
  {
   "cell_type": "code",
   "execution_count": 378,
   "metadata": {},
   "outputs": [
    {
     "ename": "ValueError",
     "evalue": "Found zero norm quaternions in `quat`.",
     "output_type": "error",
     "traceback": [
      "\u001b[0;31m---------------------------------------------------------------------------\u001b[0m",
      "\u001b[0;31mValueError\u001b[0m                                Traceback (most recent call last)",
      "\u001b[0;32m/tmp/ipykernel_11588/435359.py\u001b[0m in \u001b[0;36m<module>\u001b[0;34m\u001b[0m\n\u001b[0;32m----> 1\u001b[0;31m \u001b[0mr\u001b[0m \u001b[0;34m=\u001b[0m \u001b[0mR\u001b[0m\u001b[0;34m.\u001b[0m\u001b[0mfrom_quat\u001b[0m\u001b[0;34m(\u001b[0m\u001b[0mtempq\u001b[0m\u001b[0;34m)\u001b[0m\u001b[0;34m\u001b[0m\u001b[0;34m\u001b[0m\u001b[0m\n\u001b[0m\u001b[1;32m      2\u001b[0m \u001b[0mr\u001b[0m\u001b[0;34m.\u001b[0m\u001b[0mas_euler\u001b[0m\u001b[0;34m(\u001b[0m\u001b[0;34m'xyz'\u001b[0m\u001b[0;34m)\u001b[0m\u001b[0;34m\u001b[0m\u001b[0;34m\u001b[0m\u001b[0m\n",
      "\u001b[0;32mrotation.pyx\u001b[0m in \u001b[0;36mscipy.spatial.transform.rotation.Rotation.from_quat\u001b[0;34m()\u001b[0m\n",
      "\u001b[0;32mrotation.pyx\u001b[0m in \u001b[0;36mscipy.spatial.transform.rotation.Rotation.__init__\u001b[0;34m()\u001b[0m\n",
      "\u001b[0;31mValueError\u001b[0m: Found zero norm quaternions in `quat`."
     ]
    }
   ],
   "source": [
    "r = R.from_quat(tempq)\n",
    "r.as_euler('xyz')"
   ]
  },
  {
   "cell_type": "code",
   "execution_count": 348,
   "metadata": {},
   "outputs": [],
   "source": [
    "r = R.from_rotvec(0*np.array([0,0,0]))"
   ]
  },
  {
   "cell_type": "code",
   "execution_count": 349,
   "metadata": {},
   "outputs": [
    {
     "data": {
      "text/plain": [
       "array([0., 0., 0.])"
      ]
     },
     "execution_count": 349,
     "metadata": {},
     "output_type": "execute_result"
    }
   ],
   "source": [
    "r.as_euler('xyz')"
   ]
  },
  {
   "cell_type": "code",
   "execution_count": 334,
   "metadata": {},
   "outputs": [],
   "source": [
    "def foo(x):\n",
    "    return x[0]*x[1]*x[2]\n",
    "\n",
    "def non_lin(x):\n",
    "    return np.linalg.norm(x)\n",
    "\n",
    "from scipy.optimize import minimize, LinearConstraint, NonlinearConstraint\n",
    "lin_constraint = LinearConstraint(l1mod.intA[1], 0, 0)\n",
    "nonlin_constraint = NonlinearConstraint(non_lin, 1, 1)\n",
    "\n",
    "sol = minimize(foo,[1/np.sqrt(3),1/np.sqrt(3),1/np.sqrt(3)], constraints = [lin_constraint, nonlin_constraint])"
   ]
  },
  {
   "cell_type": "code",
   "execution_count": 337,
   "metadata": {},
   "outputs": [
    {
     "data": {
      "text/plain": [
       "array([0.        , 0.70710678, 0.70710679])"
      ]
     },
     "execution_count": 337,
     "metadata": {},
     "output_type": "execute_result"
    }
   ],
   "source": [
    "sol['x']"
   ]
  },
  {
   "cell_type": "code",
   "execution_count": null,
   "metadata": {},
   "outputs": [],
   "source": [
    "# Fix the l1 offset issue\n",
    "# Manipulate robot FK\n",
    "# Manipulate robot IK\n",
    "# Add a taskspace marker"
   ]
  }
 ],
 "metadata": {
  "kernelspec": {
   "display_name": "Python 3 (ipykernel)",
   "language": "python",
   "name": "python3"
  },
  "language_info": {
   "codemirror_mode": {
    "name": "ipython",
    "version": 3
   },
   "file_extension": ".py",
   "mimetype": "text/x-python",
   "name": "python",
   "nbconvert_exporter": "python",
   "pygments_lexer": "ipython3",
   "version": "3.8.11"
  }
 },
 "nbformat": 4,
 "nbformat_minor": 4
}
