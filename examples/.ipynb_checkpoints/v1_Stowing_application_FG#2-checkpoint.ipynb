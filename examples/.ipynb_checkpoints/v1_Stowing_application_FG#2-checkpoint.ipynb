{
 "cells": [
  {
   "cell_type": "code",
   "execution_count": 1,
   "id": "889884fb",
   "metadata": {},
   "outputs": [],
   "source": [
    "from DoD import DoD, Node\n",
    "from pydrake.all import *"
   ]
  },
  {
   "cell_type": "code",
   "execution_count": 2,
   "id": "9eb2834f",
   "metadata": {},
   "outputs": [
    {
     "name": "stderr",
     "output_type": "stream",
     "text": [
      "INFO:drake:Meshcat listening for connections at http://localhost:7000\n"
     ]
    }
   ],
   "source": [
    "meshcat = StartMeshcat()"
   ]
  },
  {
   "cell_type": "code",
   "execution_count": 3,
   "id": "6ec4c156",
   "metadata": {},
   "outputs": [
    {
     "name": "stdout",
     "output_type": "stream",
     "text": [
      "Robot design successfully saved as FG2_stowing_robot.urdf\n",
      "FG2_stowing_robot.urdf\n"
     ]
    },
    {
     "name": "stderr",
     "output_type": "stream",
     "text": [
      "/home/laniakea/git/research/lcl-robots-DoD/src/DoD/DoD.py:400: UserWarning: Gimbal lock detected. Setting third angle to zero since it is not possible to uniquely determine all angles.\n",
      "  current_orientation = r.as_euler('xyz')\n"
     ]
    }
   ],
   "source": [
    "# To construct a robot by hand using the existing modules\n",
    "\n",
    "# Initialise robot\n",
    "robot = DoD.robotDoD('FG2_stowing_robot')\n",
    "# robot.visualiseModule(robot.c90, meshcat)\n",
    "# Archi-1\n",
    "robot.add_root()\n",
    "robot.add_module(robot.base360)\n",
    "robot.add_module(robot.c0)\n",
    "robot.add_module(robot.l150)\n",
    "# robot.add_module(robot.c180)\n",
    "robot.add_module(robot.c0)\n",
    "robot.add_module(robot.j90)\n",
    "robot.add_module(robot.c0)\n",
    "robot.add_module(robot.l100)\n",
    "robot.add_module(robot.c0)\n",
    "robot.add_module(robot.j90)\n",
    "robot.add_module(robot.l50)\n",
    "robot.add_module(robot.j90)\n",
    "robot.add_module(robot.c0)\n",
    "robot.add_module(robot.l50)\n",
    "robot.add_eef()\n",
    "\n",
    "urdf_path = robot.constructURDF()\n",
    "print(urdf_path)\n",
    "robot.visualiseRobot(urdf_path, meshcat)"
   ]
  },
  {
   "cell_type": "code",
   "execution_count": 4,
   "id": "c938eb4f",
   "metadata": {},
   "outputs": [
    {
     "name": "stdout",
     "output_type": "stream",
     "text": [
      "j90\n",
      "c90\n",
      "l50\n",
      "l100\n",
      "l150\n"
     ]
    }
   ],
   "source": [
    "# Declare new modules and how to toggle modules active or inactive\n",
    "\n",
    "# View declared modules which are active\n",
    "# for i in robot.declared_modules:\n",
    "#     print(i.name)\n",
    "    \n",
    "# Declaring custom modules\n",
    "# c180 = robot.robotModule('c180')\n",
    "# # Define the module\n",
    "# c180.intA = np.array([[0,0.035,0.025], [0,0,1]])\n",
    "# c180.intB = np.array([[0,-0.035,0.025], [0,0,1]])\n",
    "# c180.type = 2\n",
    "# c180.mesh_path = \"./meshes/180-connector-2.obj\"\n",
    "# c180.cost = 10\n",
    "# c180.parent_type = conn_com\n",
    "# # Inertial properties about the CoM\n",
    "# c180.mass = 0.423\n",
    "# # Inertia data from CAD in gm*mm^2 -> kg*m^2\n",
    "# c180.inertia = np.round(np.array([\n",
    "#                         [5.240e+05,0.01,0.049],\n",
    "#                         [0.01,1.980e+05,2703.107],\n",
    "#                         [0.049,2703.107,5.217e+05]])*1e-9,6)\n",
    "\n",
    "# Activate the required modules only\n",
    "robot.declared_modules = [robot.j90,\n",
    "                          robot.c90,\n",
    "                          robot.l50, \n",
    "                          robot.l100, \n",
    "                          robot.l150]\n",
    "\n",
    "for i in robot.declared_modules:\n",
    "    print(i.name)"
   ]
  },
  {
   "cell_type": "code",
   "execution_count": 5,
   "id": "e40de9b7",
   "metadata": {},
   "outputs": [
    {
     "name": "stdout",
     "output_type": "stream",
     "text": [
      "Robot design successfully saved as ./node_urdfs/node00.urdf\n"
     ]
    },
    {
     "data": {
      "text/plain": [
       "[<DoD.DoD.robotDoD at 0x7f132849c8e0>]"
      ]
     },
     "execution_count": 5,
     "metadata": {},
     "output_type": "execute_result"
    }
   ],
   "source": [
    "# Now to get compatible modules and child nodes\n",
    "\n",
    "# Initiate the base robot\n",
    "roboDoD = DoD.robotDoD('test')\n",
    "roboDoD.add_root()\n",
    "roboDoD.add_module(roboDoD.base360)\n",
    "\n",
    "# Expanding and inspecting child nodes\n",
    "node = Node.robotNode(roboDoD)\n",
    "compatible_modules = node.get_compatible_modules()\n",
    "# print(len(compatible_modules))\n",
    "\n",
    "# # Some functions need not be used explicitly like \n",
    "# # checking compatible modules. It is automatically \n",
    "# # done within expand_nodes()\n",
    "node.expand_node()\n",
    "node.child_nodes"
   ]
  },
  {
   "cell_type": "code",
   "execution_count": 6,
   "id": "235c9ed6",
   "metadata": {},
   "outputs": [
    {
     "name": "stdout",
     "output_type": "stream",
     "text": [
      "Robot design successfully saved as ./node_urdfs/node00.urdf\n",
      "Last successful robot:  ./node_urdfs/node00.urdf\n",
      "Robot design successfully saved as ./node_urdfs/node10.urdf\n",
      "Last successful robot:  ./node_urdfs/node10.urdf\n",
      "Robot design successfully saved as ./node_urdfs/node20.urdf\n",
      "Robot design successfully saved as ./node_urdfs/node21.urdf\n",
      "Robot design successfully saved as ./node_urdfs/node22.urdf\n",
      "Last successful robot:  ./node_urdfs/node22.urdf\n",
      "Robot design successfully saved as ./node_urdfs/node30.urdf\n",
      "Last successful robot:  ./node_urdfs/node30.urdf\n",
      "Robot design successfully saved as ./node_urdfs/node40.urdf\n",
      "Last successful robot:  ./node_urdfs/node40.urdf\n",
      "Robot design successfully saved as ./node_urdfs/node50.urdf\n",
      "Robot design successfully saved as ./node_urdfs/node51.urdf\n",
      "Robot design successfully saved as ./node_urdfs/node52.urdf\n",
      "Last successful robot:  ./node_urdfs/node51.urdf\n"
     ]
    }
   ],
   "source": [
    "# Now to the complete example of automatically finding robot \n",
    "# architecture using a simple search algorithm\n",
    "\n",
    "# Initiating the base robot structure\n",
    "roboDoD = DoD.robotDoD('test')\n",
    "roboDoD.add_root()\n",
    "roboDoD.add_module(roboDoD.base360)\n",
    "roboDoD.add_module(roboDoD.l150)\n",
    "\n",
    "# Activate only required modules\n",
    "roboDoD.declared_modules = [roboDoD.j90,\n",
    "                          roboDoD.c90,\n",
    "                          roboDoD.l50, \n",
    "                          roboDoD.l100, \n",
    "                          roboDoD.l150]\n",
    "\n",
    "# Initiate the node class\n",
    "node = Node.robotNode(roboDoD)\n",
    "compatible_modules = node.get_compatible_modules()\n",
    "node.expand_node()\n",
    "best_child_idx = node.get_best_child_index()\n",
    "# Run search loop until success\n",
    "end_game = False\n",
    "\n",
    "while not end_game:\n",
    "    # Setup basic diagram and the sphere at the desired location\n",
    "    builder = DiagramBuilder()\n",
    "    # Get path of the best child\n",
    "    urdf_path = node.children_path[best_child_idx]\n",
    "    model_name = node.child_nodes[best_child_idx].robot.name\n",
    "    plant, scene_graph = AddMultibodyPlantSceneGraph(builder, time_step=1e-4)\n",
    "    model = Parser(plant, scene_graph).AddModelFromFile(urdf_path, model_name)\n",
    "    # Weld the robot to the world frame\n",
    "    plant.WeldFrames(plant.world_frame(), plant.get_body(plant.GetBodyIndices(model)[0]).body_frame())\n",
    "    \n",
    "    # Spawn spherical work marker\n",
    "    sphere1 = Parser(plant, scene_graph).AddModelFromFile('./urdfs/helper/sphere.urdf','sphere1')\n",
    "    sphere2 = Parser(plant, scene_graph).AddModelFromFile('./urdfs/helper/sphere.urdf','sphere2')\n",
    "    # We can sample end-points on the surface of the sphere\n",
    "    cart0 = np.array([0.15, 0.1, 0.45])\n",
    "    cartf = np.array([-0.05, 0.35, 0.3])\n",
    "    X_R1 = RigidTransform(cart0)\n",
    "    X_R2 = RigidTransform(cartf)\n",
    "    plant.WeldFrames(plant.world_frame(), plant.get_body(plant.GetBodyIndices(sphere1)[0]).body_frame(), X_R1)\n",
    "    plant.WeldFrames(plant.world_frame(), plant.get_body(plant.GetBodyIndices(sphere2)[0]).body_frame(), X_R2)\n",
    "    plant.Finalize()\n",
    "\n",
    "    # Select the last frame as the eef_frame\n",
    "    gripper_frame = plant.GetBodyByName(\"eef\").body_frame()\n",
    "\n",
    "    meshcat.Delete()\n",
    "    meshcat.DeleteAddedControls()\n",
    "\n",
    "    visualizer = MeshcatVisualizerCpp.AddToBuilder(builder, scene_graph, meshcat)\n",
    "\n",
    "    diagram = builder.Build()\n",
    "    context = diagram.CreateDefaultContext()\n",
    "    plant_context = plant.GetMyMutableContextFromRoot(context)\n",
    "\n",
    "    q0 = plant.GetPositions(plant_context)\n",
    "    diagram.Publish(context)\n",
    "    \n",
    "    # Check design\n",
    "    ik = InverseKinematics(plant, plant_context)\n",
    "    ik.AddPositionConstraint(\n",
    "                gripper_frame, [0, 0, 0], plant.world_frame(), \n",
    "                cart0, cart0)\n",
    "    prog = ik.get_mutable_prog()\n",
    "    q = ik.q()\n",
    "    prog.AddQuadraticErrorCost(np.identity(len(q)), q0, q)\n",
    "    prog.SetInitialGuess(q, q0)\n",
    "    result = Solve(ik.prog())\n",
    "    qr = result.GetSolution(ik.q())\n",
    "    qr = (np.arctan2(np.sin(qr), np.cos(qr)))\n",
    "    # Visualise the best solution\n",
    "    plant.SetPositions(plant.GetMyContextFromRoot(context),model,qr)\n",
    "    diagram.Publish(context)\n",
    "    end_game = result.is_success()\n",
    "    time.sleep(1.3)\n",
    "    # Check for position-2\n",
    "    ik = InverseKinematics(plant, plant_context)\n",
    "    ik.AddPositionConstraint(\n",
    "                gripper_frame, [0, 0, 0], plant.world_frame(), \n",
    "                cartf, cartf)\n",
    "    prog = ik.get_mutable_prog()\n",
    "    q = ik.q()\n",
    "    prog.AddQuadraticErrorCost(np.identity(len(q)), qr, q)\n",
    "    prog.SetInitialGuess(q, qr)\n",
    "    result = Solve(ik.prog())\n",
    "    qr = result.GetSolution(ik.q())\n",
    "    # Visualise the best solution\n",
    "    plant.SetPositions(plant.GetMyContextFromRoot(context),model,qr)\n",
    "    diagram.Publish(context)\n",
    "    end_game = end_game and result.is_success()\n",
    "    time.sleep(1.3)\n",
    "    print('Last successful robot: ', urdf_path)\n",
    "    if end_game:\n",
    "        break\n",
    "    else:\n",
    "        # Update parent_node with the best child\n",
    "        node.parent_node = node.child_nodes[best_child_idx]\n",
    "        # Expand node\n",
    "        node.expand_node()\n",
    "        # Get the best child from the new children\n",
    "        best_child_idx = node.get_best_child_index()\n",
    "        # Use line below instead if you installed the version after FG#2 release v0.1.0\n",
    "#         _, best_child_idx = node.get_best_child()"
   ]
  },
  {
   "cell_type": "code",
   "execution_count": null,
   "id": "acbe469f",
   "metadata": {},
   "outputs": [],
   "source": []
  }
 ],
 "metadata": {
  "kernelspec": {
   "display_name": "Python 3 (ipykernel)",
   "language": "python",
   "name": "python3"
  },
  "language_info": {
   "codemirror_mode": {
    "name": "ipython",
    "version": 3
   },
   "file_extension": ".py",
   "mimetype": "text/x-python",
   "name": "python",
   "nbconvert_exporter": "python",
   "pygments_lexer": "ipython3",
   "version": "3.8.13"
  }
 },
 "nbformat": 4,
 "nbformat_minor": 5
}
