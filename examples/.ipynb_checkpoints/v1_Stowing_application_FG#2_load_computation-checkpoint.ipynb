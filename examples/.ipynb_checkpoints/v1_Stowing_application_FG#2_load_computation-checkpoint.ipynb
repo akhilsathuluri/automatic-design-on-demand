{
 "cells": [
  {
   "cell_type": "code",
   "execution_count": 1,
   "id": "889884fb",
   "metadata": {
    "scrolled": true
   },
   "outputs": [],
   "source": [
    "# Load modules directly from the folder -> Easy to develop\n",
    "import sys\n",
    "sys.path.append(\"../src/DoD\")\n",
    "from DoD import *\n",
    "from Node import *\n",
    "# from DoD import DoD, Node\n",
    "from pydrake.all import *\n",
    "# from manipulation.meshcat_cpp_utils import MeshcatJointSliders\n",
    "from manipulation.scenarios import AddMultibodyTriad\n",
    "from IPython.display import display, SVG, clear_output, HTML\n",
    "import time"
   ]
  },
  {
   "cell_type": "code",
   "execution_count": 2,
   "id": "9eb2834f",
   "metadata": {},
   "outputs": [
    {
     "name": "stderr",
     "output_type": "stream",
     "text": [
      "INFO:drake:Meshcat listening for connections at http://localhost:7002\n"
     ]
    }
   ],
   "source": [
    "meshcat = StartMeshcat()"
   ]
  },
  {
   "cell_type": "code",
   "execution_count": 3,
   "id": "07dc0513",
   "metadata": {},
   "outputs": [],
   "source": [
    "# Routine to visualise the robot in a given setting\n",
    "def publish_node_pose(node_instance, meshcat, t_sleep=0.5):\n",
    "    \"\"\"\n",
    "    Displays the node poses given two points in space and returns the URDF location\n",
    "    Needs modifying in the next code iteration\n",
    "\n",
    "    :param node: The object for the type `node` of which the attribute `current_parent_node` will be displayed\n",
    "    :param meshcat: The meshcat object started\n",
    "    :param t_sleep: Amount of time to wait between the two IK poses\n",
    "    \"\"\"\n",
    "    # Setup basic diagram and the sphere at the desired location\n",
    "    builder = DiagramBuilder()\n",
    "    # Get path of the best child\n",
    "    # urdf_path = node.children_path[best_child_idx]\n",
    "    # model_name = node.child_nodes[best_child_idx].robot.name\n",
    "    # Save the current node URDF and display it\n",
    "\n",
    "    temp_node_instance = copy.deepcopy(node_instance.current_parent_node)\n",
    "    temp_node_instance.add_eef()\n",
    "    urdf_path = temp_node_instance.constructURDF(node_instance.node_path)\n",
    "    model_name = temp_node_instance.name\n",
    "\n",
    "    plant, scene_graph = AddMultibodyPlantSceneGraph(builder, time_step=1e-4)\n",
    "    model = Parser(plant, scene_graph).AddModelFromFile(urdf_path, model_name)\n",
    "    # Weld the robot to the world frame\n",
    "    plant.WeldFrames(plant.world_frame(), plant.get_body(plant.GetBodyIndices(model)[0]).body_frame())\n",
    "\n",
    "    # Spawn spherical work marker\n",
    "    sphere1 = Parser(plant, scene_graph).AddModelFromFile('./urdfs/helper/sphere.urdf','sphere1')\n",
    "    sphere2 = Parser(plant, scene_graph).AddModelFromFile('./urdfs/helper/sphere.urdf','sphere2')\n",
    "    # We can sample end-points on the surface of the sphere\n",
    "    cart0 = np.array([0.15, 0.1, 0.45])\n",
    "    cartf = np.array([-0.05, 0.35, 0.3])\n",
    "    X_R1 = RigidTransform(cart0)\n",
    "    X_R2 = RigidTransform(cartf)\n",
    "    plant.WeldFrames(plant.world_frame(), plant.get_body(plant.GetBodyIndices(sphere1)[0]).body_frame(), X_R1)\n",
    "    plant.WeldFrames(plant.world_frame(), plant.get_body(plant.GetBodyIndices(sphere2)[0]).body_frame(), X_R2)\n",
    "    plant.Finalize()\n",
    "\n",
    "    # Select the last frame as the eef_frame\n",
    "    gripper_frame = plant.GetBodyByName(\"eef\").body_frame()\n",
    "\n",
    "    meshcat.Delete()\n",
    "    meshcat.DeleteAddedControls()\n",
    "\n",
    "    visualizer = MeshcatVisualizerCpp.AddToBuilder(builder, scene_graph, meshcat)\n",
    "\n",
    "    diagram = builder.Build()\n",
    "    context = diagram.CreateDefaultContext()\n",
    "    plant_context = plant.GetMyMutableContextFromRoot(context)\n",
    "\n",
    "    q0 = plant.GetPositions(plant_context)\n",
    "    diagram.Publish(context)\n",
    "\n",
    "    # Check design\n",
    "    ik = InverseKinematics(plant, plant_context)\n",
    "    ik.AddPositionConstraint(\n",
    "                gripper_frame, [0, 0, 0], plant.world_frame(),\n",
    "                cart0, cart0)\n",
    "    prog = ik.get_mutable_prog()\n",
    "    q = ik.q()\n",
    "    prog.AddQuadraticErrorCost(np.identity(len(q)), q0, q)\n",
    "    prog.SetInitialGuess(q, q0)\n",
    "    result = Solve(ik.prog())\n",
    "    qr = result.GetSolution(ik.q())\n",
    "    qr = (np.arctan2(np.sin(qr), np.cos(qr)))\n",
    "    # Visualise the best solution\n",
    "    plant.SetPositions(plant.GetMyContextFromRoot(context),model,qr)\n",
    "    diagram.Publish(context)\n",
    "    end_game = result.is_success()\n",
    "    time.sleep(t_sleep)\n",
    "    # Check for position-2\n",
    "    ik = InverseKinematics(plant, plant_context)\n",
    "    ik.AddPositionConstraint(\n",
    "                gripper_frame, [0, 0, 0], plant.world_frame(),\n",
    "                cartf, cartf)\n",
    "    prog = ik.get_mutable_prog()\n",
    "    q = ik.q()\n",
    "    prog.AddQuadraticErrorCost(np.identity(len(q)), qr, q)\n",
    "    prog.SetInitialGuess(q, qr)\n",
    "    result = Solve(ik.prog())\n",
    "    qr = result.GetSolution(ik.q())\n",
    "    # Visualise the best solution\n",
    "    plant.SetPositions(plant.GetMyContextFromRoot(context),model,qr)\n",
    "    diagram.Publish(context)\n",
    "    return urdf_path\n",
    "\n",
    "\n",
    "# Routine to compute the heuristic cost\n",
    "def compute_heuristic_cost(urdf_path, model_name):\n",
    "    \"\"\"\n",
    "    Returns the heuristic cost of the selected module.\n",
    "    This function needs to be modified according to the task definition and\n",
    "    hence should be overridden for a required problem.\n",
    "\n",
    "    :param urdf_path: The path of the saved node\n",
    "    :param model_name: The name of the node\n",
    "    \"\"\"\n",
    "    builder = DiagramBuilder()\n",
    "    plant, scene_graph = AddMultibodyPlantSceneGraph(builder, time_step=1e-4)\n",
    "    model = Parser(plant, scene_graph).AddModelFromFile(urdf_path, model_name)\n",
    "    # Weld the robot to the world frame\n",
    "    plant.WeldFrames(plant.world_frame(), plant.get_body(plant.GetBodyIndices(model)[0]).body_frame())\n",
    "    # We can sample end-points on the surface of the sphere\n",
    "#         cart0 = np.array([-0.3, 0.4, 0.3])\n",
    "    plant.Finalize()\n",
    "    # Select the last frame as the eef_frame\n",
    "    gripper_frame = plant.GetBodyByName(\"eef\").body_frame()\n",
    "    diagram = builder.Build()\n",
    "    context = diagram.CreateDefaultContext()\n",
    "    plant_context = plant.GetMyMutableContextFromRoot(context)\n",
    "    q0 = plant.GetPositions(plant_context)\n",
    "\n",
    "    # ADD POSITIONS HERE!!!\n",
    "    cart0 = np.array([0.15, 0.1, 0.45])\n",
    "    cartf = np.array([-0.05, 0.35, 0.3])\n",
    "\n",
    "    # Position-1\n",
    "    ik = InverseKinematics(plant, plant_context)\n",
    "    ik.AddPositionConstraint(\n",
    "                gripper_frame, [0, 0, 0], plant.world_frame(),\n",
    "                cart0, cart0)\n",
    "    prog = ik.get_mutable_prog()\n",
    "    q = ik.q()\n",
    "    prog.AddQuadraticErrorCost(np.identity(len(q)), q0, q)\n",
    "    prog.SetInitialGuess(q, q0)\n",
    "    result = Solve(ik.prog())\n",
    "    res1 = result.is_success()\n",
    "    qr = result.GetSolution(ik.q())\n",
    "    # Bring it back to -pi and pi\n",
    "    qr = (np.arctan2(np.sin(qr), np.cos(qr)))\n",
    "    plant.SetPositions(plant.GetMyContextFromRoot(context),model,qr)\n",
    "    eef_pos_realised = plant.GetBodyByName('eef').EvalPoseInWorld(plant_context).translation()\n",
    "    cost1 = np.linalg.norm(eef_pos_realised-cart0)\n",
    "    # Position-2\n",
    "    ik = InverseKinematics(plant, plant_context)\n",
    "    ik.AddPositionConstraint(\n",
    "                gripper_frame, [0, 0, 0], plant.world_frame(),\n",
    "                cartf, cartf)\n",
    "    prog = ik.get_mutable_prog()\n",
    "    q = ik.q()\n",
    "    prog.AddQuadraticErrorCost(np.identity(len(q)), qr, q)\n",
    "    prog.SetInitialGuess(q, qr)\n",
    "    result = Solve(ik.prog())\n",
    "    res2 = result.is_success()\n",
    "    qr = result.GetSolution(ik.q())\n",
    "    plant.SetPositions(plant.GetMyContextFromRoot(context),model,qr)\n",
    "    eef_pos_realised = plant.GetBodyByName('eef').EvalPoseInWorld(plant_context).translation()\n",
    "    cost2 = np.linalg.norm(eef_pos_realised-cart0)\n",
    "    # Total cost\n",
    "    total_cost = cost1+cost2\n",
    "    # Final result\n",
    "    result = res1 and res2\n",
    "    return total_cost, result"
   ]
  },
  {
   "cell_type": "code",
   "execution_count": 4,
   "id": "6ec4c156",
   "metadata": {
    "scrolled": true
   },
   "outputs": [
    {
     "name": "stdout",
     "output_type": "stream",
     "text": [
      "FG2_stowing_robot48390.urdf\n"
     ]
    },
    {
     "name": "stderr",
     "output_type": "stream",
     "text": [
      "/home/laniakea/git/research/lcl-robots-DoD/examples/../src/DoD/DoD.py:426: UserWarning: Gimbal lock detected. Setting third angle to zero since it is not possible to uniquely determine all angles.\n",
      "  current_orientation = self.r.as_euler('xyz')\n"
     ]
    }
   ],
   "source": [
    "# To construct a robot by hand using the existing modules\n",
    "\n",
    "# Initialise robot\n",
    "# robot = DoD.robotDoD('FG2_stowing_robot')\n",
    "robot = robotDoD('FG2_stowing_robot')\n",
    "# robot.visualiseModule(robot.c90, meshcat)\n",
    "# Archi-1\n",
    "robot.add_root()\n",
    "robot.add_module(robot.base360)\n",
    "# robot.add_module(robot.c0)\n",
    "robot.add_module(robot.l150)\n",
    "# robot.add_module(robot.c0)\n",
    "robot.add_module(robot.j90)\n",
    "# robot.add_module(robot.c0)\n",
    "robot.add_module(robot.l100)\n",
    "# robot.add_module(robot.c0)\n",
    "robot.add_module(robot.j90)\n",
    "robot.add_module(robot.c90)\n",
    "robot.add_module(robot.l50)\n",
    "# robot.add_module(robot.c0)\n",
    "robot.add_module(robot.j90)\n",
    "# robot.add_module(robot.c0)\n",
    "robot.add_module(robot.l50)\n",
    "# Add eef with 1kg payload\n",
    "robot.add_eef(eef_load=1)\n",
    "\n",
    "urdf_path = robot.constructURDF()\n",
    "print(urdf_path)\n",
    "robot.visualiseRobot(urdf_path, meshcat)"
   ]
  },
  {
   "cell_type": "code",
   "execution_count": 7,
   "id": "acbe469f",
   "metadata": {},
   "outputs": [
    {
     "name": "stdout",
     "output_type": "stream",
     "text": [
      "[ 1.19759972 -0.57826845 -1.01901481  0.        ]\n",
      "[ 2.72771476 -1.41132267  0.00853188  0.        ]\n"
     ]
    }
   ],
   "source": [
    "meshcat.Delete()\n",
    "\n",
    "# Create a small plant which takes in the reaction forces and gives out the vector value which can be logged\n",
    "class FT_sensor(LeafSystem):\n",
    "    def __init__(self):\n",
    "        LeafSystem.__init__(self)\n",
    "        self.DeclareAbstractInputPort('reaction_forces', AbstractValue.Make([SpatialForce()]))\n",
    "        self.DeclareVectorOutputPort('wrench_vector', BasicVector(66), self.WrenchVector)\n",
    "\n",
    "    def WrenchVector(self, context, output):\n",
    "        temp = self.EvalAbstractInput(context,0).get_value()\n",
    "        wrench_vector = np.array([temp[i].get_coeffs() for i in range(len(temp)-2)])\n",
    "        output.SetFromVector(wrench_vector.flatten())\n",
    "\n",
    "\n",
    "# Now we have to move the robot between the two pre-selected poses\n",
    "# Lets start with loading a given node and computing the cost\n",
    "builder = DiagramBuilder()\n",
    "model_name = 'archi1'\n",
    "urdf_path = './FG2_stowing_robot48390.urdf'\n",
    "plant, scene_graph = AddMultibodyPlantSceneGraph(builder, time_step=1e-4)\n",
    "model = Parser(plant, scene_graph).AddModelFromFile(urdf_path, model_name)\n",
    "# Weld the robot to the world frame\n",
    "plant.WeldFrames(plant.world_frame(), plant.get_body(plant.GetBodyIndices(model)[0]).body_frame())\n",
    "\n",
    "# Define constants\n",
    "na = plant.num_actuators()\n",
    "\n",
    "# Poses\n",
    "cart0 = np.array([0.15, 0.1, 0.45])\n",
    "cartf = np.array([-0.05, 0.35, 0.3])\n",
    "\n",
    "sphere1 = Parser(plant, scene_graph).AddModelFromFile('./urdfs/helper/sphere.urdf','sphere1')\n",
    "X_R = RigidTransform(cart0)\n",
    "plant.WeldFrames(plant.world_frame(), plant.get_body(plant.GetBodyIndices(sphere1)[0]).body_frame(), X_R)\n",
    "\n",
    "sphere2 = Parser(plant, scene_graph).AddModelFromFile('./urdfs/helper/sphere.urdf','sphere2')\n",
    "X_R = RigidTransform(cartf)\n",
    "plant.WeldFrames(plant.world_frame(), plant.get_body(plant.GetBodyIndices(sphere2)[0]).body_frame(), X_R)\n",
    "\n",
    "plant.Finalize()\n",
    "\n",
    "meshcat.Delete()\n",
    "meshcat.DeleteAddedControls()\n",
    "\n",
    "visualizer = MeshcatVisualizer.AddToBuilder(builder, scene_graph, meshcat)\n",
    "\n",
    "# Select the last frame as the eef_frame\n",
    "# gripper_frame = plant.GetBodyByName(\"eef\").body_frame()\n",
    "# for frame in ['eef', 'linkMod_2', 'jointMod_3', 'linkMod_4', 'jointMod_5', 'connMod_6', 'linkMod_7', 'jointMod_8', 'linkMod_9']:\n",
    "#     AddMultibodyTriad(plant.GetBodyByName(frame).body_frame(), scene_graph)\n",
    "\n",
    "# Initialise controller params, for now limited to Kp and Kd search\n",
    "Kp = np.full(na, 50)\n",
    "Ki = np.full(na, 0)\n",
    "Kd = np.full(na, 14.14)\n",
    "\n",
    "iiwa_controller = builder.AddSystem(InverseDynamicsController(plant, Kp, Ki, Kd, False))\n",
    "iiwa_controller.set_name(\"iiwa_controller\");\n",
    "\n",
    "ft_sensor = builder.AddSystem(FT_sensor())\n",
    "# Complete connections\n",
    "builder.Connect(plant.get_state_output_port(model),\n",
    "            iiwa_controller.get_input_port_estimated_state())\n",
    "builder.Connect(iiwa_controller.get_output_port_control(), \n",
    "                plant.get_actuation_input_port())\n",
    "builder.Connect(plant.get_reaction_forces_output_port(), \n",
    "                ft_sensor.get_input_port())\n",
    "\n",
    "# Connecting a data logger\n",
    "# Commanded torque\n",
    "logger1 = LogVectorOutput(iiwa_controller.get_output_port_control(), builder)\n",
    "# Joint state\n",
    "logger2 = LogVectorOutput(plant.get_state_output_port(model), builder)\n",
    "# Reaction forces at each joint\n",
    "logger3 = LogVectorOutput(ft_sensor.get_output_port(), builder)\n",
    "\n",
    "diagram = builder.Build()\n",
    "context = diagram.CreateDefaultContext()\n",
    "plant_context = plant.GetMyMutableContextFromRoot(context)\n",
    "gripper_frame = plant.GetBodyByName(\"eef\").body_frame()\n",
    "q0 = plant.GetPositions(plant_context)\n",
    "\n",
    "ik = InverseKinematics(plant, plant_context)\n",
    "ik.AddPositionConstraint(\n",
    "            gripper_frame, [0, 0, 0], plant.world_frame(),\n",
    "            cart0, cart0)\n",
    "\n",
    "prog = ik.get_mutable_prog()\n",
    "q = ik.q()\n",
    "prog.AddQuadraticErrorCost(np.identity(len(q)), q0, q)\n",
    "prog.SetInitialGuess(q, q0)\n",
    "result = Solve(ik.prog())\n",
    "\n",
    "qi = result.GetSolution(ik.q())\n",
    "qi = (np.arctan2(np.sin(qi), np.cos(qi)))\n",
    "print(qi)\n",
    "# plant.SetPositions(plant_context, qi)\n",
    "# diagram.Publish(context)\n",
    "\n",
    "# Compute IK - pos2\n",
    "ik = InverseKinematics(plant, plant_context)\n",
    "ik.AddPositionConstraint(\n",
    "            gripper_frame, [0, 0, 0], plant.world_frame(),\n",
    "            cartf, cartf)\n",
    "\n",
    "prog = ik.get_mutable_prog()\n",
    "q = ik.q()\n",
    "prog.AddQuadraticErrorCost(np.identity(len(q)), qi, q)\n",
    "prog.SetInitialGuess(q, qi)\n",
    "result = Solve(ik.prog())\n",
    "\n",
    "qd = result.GetSolution(ik.q())\n",
    "qd = (np.arctan2(np.sin(qd), np.cos(qd)))\n",
    "print(qd)\n",
    "# plant.SetPositions(plant_context, qd)\n",
    "# diagram.Publish(context)\n",
    "\n",
    "xd = np.hstack((qd, 0*qd))\n",
    "plant.SetPositions(plant_context, qi)\n",
    "iiwa_controller.GetInputPort('desired_state').FixValue(\n",
    "iiwa_controller.GetMyMutableContextFromRoot(context), xd);\n",
    "# Simulation\n",
    "simulator = Simulator(diagram, context)\n",
    "simulator.AdvanceTo(0);\n",
    "time.sleep(1)\n",
    "simulator.AdvanceTo(1);\n",
    "simulator.set_target_realtime_rate(0.1)\n",
    "# reaction_forces = plant.get_reaction_forces_output_port()\n",
    "\n",
    "log1 = logger1.FindLog(context)\n",
    "log2 = logger2.FindLog(context)\n",
    "log3 = logger3.FindLog(context)"
   ]
  },
  {
   "cell_type": "code",
   "execution_count": 20,
   "id": "acbf3faa",
   "metadata": {},
   "outputs": [
    {
     "data": {
      "text/plain": [
       "array([ 1.19759972, -0.57826845, -1.01901481,  0.        ,  0.        ,\n",
       "        0.        ,  0.        ,  0.        ])"
      ]
     },
     "execution_count": 20,
     "metadata": {},
     "output_type": "execute_result"
    }
   ],
   "source": [
    "state_data[0,:]"
   ]
  },
  {
   "cell_type": "code",
   "execution_count": 19,
   "id": "650d7f06",
   "metadata": {},
   "outputs": [],
   "source": [
    "state_data = log2.data().T\n",
    "# [np.savetxt(\"joint_states_FG2.csv\".format(i), state_data[i], delimiter=\",\") for i in range(len(state_data))]\n",
    "# state_data.tofile('state_data+FG2.csv',sep=',',format='%10.5f')\n",
    "np.savetxt('state_data_FG2.csv', state_data, delimiter=\",\")"
   ]
  },
  {
   "cell_type": "code",
   "execution_count": 28,
   "id": "c3b985b9",
   "metadata": {},
   "outputs": [
    {
     "data": {
      "text/plain": [
       "(101, 8)"
      ]
     },
     "execution_count": 28,
     "metadata": {},
     "output_type": "execute_result"
    }
   ],
   "source": [
    "# sampling the data down\n",
    "state_data[::100].shape"
   ]
  },
  {
   "cell_type": "code",
   "execution_count": 62,
   "id": "57a3f83b",
   "metadata": {},
   "outputs": [],
   "source": [
    "aa = np.random.rand(3,2)"
   ]
  },
  {
   "cell_type": "code",
   "execution_count": 65,
   "id": "c5f94ae7",
   "metadata": {},
   "outputs": [
    {
     "data": {
      "text/plain": [
       "array([[0.10730806, 0.7384753 ],\n",
       "       [0.99075603, 0.63561606],\n",
       "       [0.02808199, 0.20976693]])"
      ]
     },
     "execution_count": 65,
     "metadata": {},
     "output_type": "execute_result"
    }
   ],
   "source": [
    "aa"
   ]
  },
  {
   "cell_type": "code",
   "execution_count": 64,
   "id": "dd553cdf",
   "metadata": {},
   "outputs": [
    {
     "data": {
      "text/plain": [
       "array([[ 1.07308065e-01, -9.92615247e+01],\n",
       "       [ 9.90756025e-01, -9.93643839e+01],\n",
       "       [ 2.80819853e-02, -9.97902331e+01]])"
      ]
     },
     "execution_count": 64,
     "metadata": {},
     "output_type": "execute_result"
    }
   ],
   "source": [
    "aa + np.array([0,-100])"
   ]
  },
  {
   "cell_type": "code",
   "execution_count": 67,
   "id": "4e06e9f2",
   "metadata": {},
   "outputs": [],
   "source": [
    "# downsample data\n",
    "downscale = state_data[::100]\n",
    "# offset to motor zeros\n",
    "offset_array = np.array([0,-1.57,0,0])\n",
    "offset_data = downscale[:,:4]-offset_array\n",
    "# convert radians to steps\n",
    "scale = 4096/(2*np.pi)\n",
    "# steps data\n",
    "step_data = offset_data*scale\n",
    "np.savetxt('step_data_FG2_downsample.csv', step_data, delimiter=\",\")"
   ]
  },
  {
   "cell_type": "code",
   "execution_count": 68,
   "id": "c65ab519",
   "metadata": {},
   "outputs": [
    {
     "data": {
      "text/plain": [
       "array([[ 7.80713639e+02,  6.46508456e+02, -6.64294375e+02,\n",
       "         0.00000000e+00],\n",
       "       [ 7.83071210e+02,  6.45224902e+02, -6.62711151e+02,\n",
       "         4.05299049e-14],\n",
       "       [ 7.89672405e+02,  6.41630955e+02, -6.58278128e+02,\n",
       "         1.40993865e-13],\n",
       "       [ 8.00052777e+02,  6.35979476e+02, -6.51307203e+02,\n",
       "         3.08336979e-13],\n",
       "       [ 8.13475392e+02,  6.28671681e+02, -6.42293263e+02,\n",
       "         4.52809234e-13],\n",
       "       [ 8.29556183e+02,  6.19916672e+02, -6.31494230e+02,\n",
       "         5.80865225e-13],\n",
       "       [ 8.48069250e+02,  6.09837437e+02, -6.19061804e+02,\n",
       "         7.06994962e-13],\n",
       "       [ 8.68477449e+02,  5.98726419e+02, -6.05356706e+02,\n",
       "         8.50983176e-13],\n",
       "       [ 8.90209333e+02,  5.86894735e+02, -5.90762689e+02,\n",
       "         9.96161913e-13],\n",
       "       [ 9.13399398e+02,  5.74269161e+02, -5.75189432e+02,\n",
       "         1.15206799e-12],\n",
       "       [ 9.37317171e+02,  5.61247393e+02, -5.59127484e+02,\n",
       "         1.28798898e-12],\n",
       "       [ 9.62206580e+02,  5.47696629e+02, -5.42413034e+02,\n",
       "         1.34943099e-12],\n",
       "       [ 9.87361436e+02,  5.34001346e+02, -5.25520325e+02,\n",
       "         1.39624159e-12],\n",
       "       [ 1.01310404e+03,  5.19986071e+02, -5.08232915e+02,\n",
       "         1.44545789e-12],\n",
       "       [ 1.03901820e+03,  5.05877394e+02, -4.90830297e+02,\n",
       "         1.44978964e-12],\n",
       "       [ 1.06470128e+03,  4.91894523e+02, -4.73582857e+02,\n",
       "         1.44098464e-12],\n",
       "       [ 1.09029077e+03,  4.77962607e+02, -4.56398269e+02,\n",
       "         1.43728109e-12],\n",
       "       [ 1.11593700e+03,  4.63999803e+02, -4.39175581e+02,\n",
       "         1.40894702e-12],\n",
       "       [ 1.14103613e+03,  4.50334855e+02, -4.22320289e+02,\n",
       "         1.37743405e-12],\n",
       "       [ 1.16601657e+03,  4.36734534e+02, -4.05544711e+02,\n",
       "         1.34840967e-12],\n",
       "       [ 1.19055598e+03,  4.23374321e+02, -3.89065301e+02,\n",
       "         1.33546967e-12],\n",
       "       [ 1.21436032e+03,  4.10414311e+02, -3.73079529e+02,\n",
       "         1.34358091e-12],\n",
       "       [ 1.23763209e+03,  3.97744253e+02, -3.57451402e+02,\n",
       "         1.36100453e-12],\n",
       "       [ 1.26056077e+03,  3.85260988e+02, -3.42053681e+02,\n",
       "         1.38216280e-12],\n",
       "       [ 1.28265815e+03,  3.73230314e+02, -3.27214215e+02,\n",
       "         1.39673889e-12],\n",
       "       [ 1.30434738e+03,  3.61421854e+02, -3.12648844e+02,\n",
       "         1.34539633e-12],\n",
       "       [ 1.32538470e+03,  3.49968314e+02, -2.98521255e+02,\n",
       "         1.31903988e-12],\n",
       "       [ 1.34555762e+03,  3.38985394e+02, -2.84974162e+02,\n",
       "         1.30970501e-12],\n",
       "       [ 1.36526629e+03,  3.28255227e+02, -2.71738832e+02,\n",
       "         1.32203762e-12],\n",
       "       [ 1.38411327e+03,  3.17994192e+02, -2.59082162e+02,\n",
       "         1.31538462e-12],\n",
       "       [ 1.40229923e+03,  3.08093049e+02, -2.46869408e+02,\n",
       "         1.28368490e-12],\n",
       "       [ 1.42000109e+03,  2.98455468e+02, -2.34981748e+02,\n",
       "         1.23478912e-12],\n",
       "       [ 1.43703779e+03,  2.89180026e+02, -2.23540776e+02,\n",
       "         1.18062087e-12],\n",
       "       [ 1.45325706e+03,  2.80349625e+02, -2.12648749e+02,\n",
       "         1.11448916e-12],\n",
       "       [ 1.46899674e+03,  2.71780329e+02, -2.02078787e+02,\n",
       "         1.06348762e-12],\n",
       "       [ 1.48395370e+03,  2.63637173e+02, -1.92034456e+02,\n",
       "         1.01357672e-12],\n",
       "       [ 1.49844331e+03,  2.55748467e+02, -1.82303980e+02,\n",
       "         9.32269436e-13],\n",
       "       [ 1.51218990e+03,  2.48264291e+02, -1.73072479e+02,\n",
       "         8.30718855e-13],\n",
       "       [ 1.52548640e+03,  2.41025155e+02, -1.64143229e+02,\n",
       "         7.36544320e-13],\n",
       "       [ 1.53820706e+03,  2.34099535e+02, -1.55600690e+02,\n",
       "         6.56229836e-13],\n",
       "       [ 1.55024961e+03,  2.27543099e+02, -1.47513528e+02,\n",
       "         5.76621070e-13],\n",
       "       [ 1.56176066e+03,  2.21276038e+02, -1.39783302e+02,\n",
       "         5.06660506e-13],\n",
       "       [ 1.57286552e+03,  2.15230118e+02, -1.32325846e+02,\n",
       "         4.24511025e-13],\n",
       "       [ 1.58335923e+03,  2.09516934e+02, -1.25278810e+02,\n",
       "         3.53554418e-13],\n",
       "       [ 1.59347119e+03,  2.04011590e+02, -1.18488138e+02,\n",
       "         3.07513397e-13],\n",
       "       [ 1.60311042e+03,  1.98763617e+02, -1.12014925e+02,\n",
       "         2.69441447e-13],\n",
       "       [ 1.61220470e+03,  1.93812338e+02, -1.05907675e+02,\n",
       "         2.10725556e-13],\n",
       "       [ 1.62095485e+03,  1.89048413e+02, -1.00031521e+02,\n",
       "         1.19268264e-13],\n",
       "       [ 1.62920252e+03,  1.84558059e+02, -9.44928079e+01,\n",
       "         7.37470891e-14],\n",
       "       [ 1.63705359e+03,  1.80283630e+02, -8.92204307e+01,\n",
       "         4.86342216e-14],\n",
       "       [ 1.64459757e+03,  1.76176397e+02, -8.41542855e+01,\n",
       "         2.82223629e-14],\n",
       "       [ 1.65176921e+03,  1.72271877e+02, -7.93381813e+01,\n",
       "        -1.26952602e-14],\n",
       "       [ 1.65851776e+03,  1.68597704e+02, -7.48062017e+01,\n",
       "        -7.95174411e-14],\n",
       "       [ 1.66499470e+03,  1.65071402e+02, -7.04566172e+01,\n",
       "        -1.41243735e-13],\n",
       "       [ 1.67108504e+03,  1.61755584e+02, -6.63666574e+01,\n",
       "        -1.77634646e-13],\n",
       "       [ 1.67686921e+03,  1.58606460e+02, -6.24823107e+01,\n",
       "        -2.05660037e-13],\n",
       "       [ 1.68241478e+03,  1.55587234e+02, -5.87581888e+01,\n",
       "        -2.20424860e-13],\n",
       "       [ 1.68767533e+03,  1.52723187e+02, -5.52254749e+01,\n",
       "        -2.58858005e-13],\n",
       "       [ 1.69266392e+03,  1.50007201e+02, -5.18753894e+01,\n",
       "        -2.95085341e-13],\n",
       "       [ 1.69734714e+03,  1.47457477e+02, -4.87303835e+01,\n",
       "        -3.26596512e-13],\n",
       "       [ 1.70178798e+03,  1.45039708e+02, -4.57481406e+01,\n",
       "        -3.49960865e-13],\n",
       "       [ 1.70603921e+03,  1.42725175e+02, -4.28932353e+01,\n",
       "        -3.68565982e-13],\n",
       "       [ 1.71002682e+03,  1.40554163e+02, -4.02153592e+01,\n",
       "        -3.53954563e-13],\n",
       "       [ 1.71384212e+03,  1.38476965e+02, -3.76531990e+01,\n",
       "        -3.47195953e-13],\n",
       "       [ 1.71745413e+03,  1.36510447e+02, -3.52275596e+01,\n",
       "        -3.10600030e-13],\n",
       "       [ 1.72083956e+03,  1.34667286e+02, -3.29540773e+01,\n",
       "        -2.73279198e-13],\n",
       "       [ 1.72404481e+03,  1.32922225e+02, -3.08015986e+01,\n",
       "        -2.20086960e-13],\n",
       "       [ 1.72710856e+03,  1.31254198e+02, -2.87441389e+01,\n",
       "        -1.80059855e-13],\n",
       "       [ 1.72997813e+03,  1.29691893e+02, -2.68170835e+01,\n",
       "        -1.62956162e-13],\n",
       "       [ 1.73271981e+03,  1.28199217e+02, -2.49759141e+01,\n",
       "        -1.62084582e-13],\n",
       "       [ 1.73531181e+03,  1.26788030e+02, -2.32352578e+01,\n",
       "        -1.63544698e-13],\n",
       "       [ 1.73773798e+03,  1.25467129e+02, -2.16059674e+01,\n",
       "        -1.88309726e-13],\n",
       "       [ 1.74005458e+03,  1.24205881e+02, -2.00502574e+01,\n",
       "        -1.99824978e-13],\n",
       "       [ 1.74222211e+03,  1.23025794e+02, -1.85946563e+01,\n",
       "        -2.24429525e-13],\n",
       "       [ 1.74427085e+03,  1.21910382e+02, -1.72188305e+01,\n",
       "        -2.41208814e-13],\n",
       "       [ 1.74622595e+03,  1.20845949e+02, -1.59058842e+01,\n",
       "        -2.57320184e-13],\n",
       "       [ 1.74807217e+03,  1.19840792e+02, -1.46660547e+01,\n",
       "        -2.25043923e-13],\n",
       "       [ 1.74979834e+03,  1.18901002e+02, -1.35068520e+01,\n",
       "        -1.90744878e-13],\n",
       "       [ 1.75144474e+03,  1.18004633e+02, -1.24012094e+01,\n",
       "        -1.56473433e-13],\n",
       "       [ 1.75298357e+03,  1.17166838e+02, -1.13678148e+01,\n",
       "        -1.21294142e-13],\n",
       "       [ 1.75445081e+03,  1.16368014e+02, -1.03824900e+01,\n",
       "        -6.11900488e-14],\n",
       "       [ 1.75582174e+03,  1.15621627e+02, -9.46184480e+00,\n",
       "         9.04518505e-15],\n",
       "       [ 1.75712849e+03,  1.14910181e+02, -8.58429789e+00,\n",
       "         7.33717732e-14],\n",
       "       [ 1.75836106e+03,  1.14239120e+02, -7.75656484e+00,\n",
       "         1.39899791e-13],\n",
       "       [ 1.75951221e+03,  1.13612392e+02, -6.98351500e+00,\n",
       "         1.89779639e-13],\n",
       "       [ 1.76059833e+03,  1.13021064e+02, -6.25413078e+00,\n",
       "         2.13402265e-13],\n",
       "       [ 1.76163301e+03,  1.12457744e+02, -5.55929312e+00,\n",
       "         2.33630881e-13],\n",
       "       [ 1.76259893e+03,  1.11931859e+02, -4.91063001e+00,\n",
       "         2.49908876e-13],\n",
       "       [ 1.76351885e+03,  1.11431017e+02, -4.29285643e+00,\n",
       "         2.49014851e-13],\n",
       "       [ 1.76438584e+03,  1.10958998e+02, -3.71063502e+00,\n",
       "         2.89555824e-13],\n",
       "       [ 1.76519489e+03,  1.10518518e+02, -3.16731664e+00,\n",
       "         3.42049659e-13],\n",
       "       [ 1.76596512e+03,  1.10099174e+02, -2.65006869e+00,\n",
       "         4.06048487e-13],\n",
       "       [ 1.76668371e+03,  1.09707946e+02, -2.16750089e+00,\n",
       "         4.86760706e-13],\n",
       "       [ 1.76736102e+03,  1.09339194e+02, -1.71265708e+00,\n",
       "         5.45044174e-13],\n",
       "       [ 1.76800559e+03,  1.08988261e+02, -1.27979237e+00,\n",
       "         6.03510602e-13],\n",
       "       [ 1.76861264e+03,  1.08657764e+02, -8.72134134e-01,\n",
       "         6.76382870e-13],\n",
       "       [ 1.76917872e+03,  1.08349567e+02, -4.91983227e-01,\n",
       "         7.29580942e-13],\n",
       "       [ 1.76971726e+03,  1.08056362e+02, -1.30323080e-01,\n",
       "         7.84323292e-13],\n",
       "       [ 1.77021936e+03,  1.07782999e+02,  2.06860789e-01,\n",
       "         8.77343144e-13],\n",
       "       [ 1.77069230e+03,  1.07525512e+02,  5.24464045e-01,\n",
       "         9.65619311e-13],\n",
       "       [ 1.77114210e+03,  1.07280625e+02,  8.26524323e-01,\n",
       "         1.04061020e-12]])"
      ]
     },
     "execution_count": 68,
     "metadata": {},
     "output_type": "execute_result"
    }
   ],
   "source": [
    "step_data"
   ]
  },
  {
   "cell_type": "code",
   "execution_count": 47,
   "id": "f3396535",
   "metadata": {},
   "outputs": [],
   "source": [
    "import matplotlib.pyplot as plt\n",
    "# ax = fig.add_subplot(111);"
   ]
  },
  {
   "cell_type": "code",
   "execution_count": 55,
   "id": "999fd404",
   "metadata": {},
   "outputs": [
    {
     "data": {
      "text/plain": [
       "array([1.19759972, 1.19760049, 1.19760049, ..., 2.71720808, 2.71721458,\n",
       "       2.71722108])"
      ]
     },
     "execution_count": 55,
     "metadata": {},
     "output_type": "execute_result"
    }
   ],
   "source": [
    "state_data[:,0]"
   ]
  },
  {
   "cell_type": "code",
   "execution_count": 57,
   "id": "546fa8c3",
   "metadata": {},
   "outputs": [
    {
     "data": {
      "image/png": "[encoded data removed]",
      "text/plain": [
       "<Figure size 432x288 with 1 Axes>"
      ]
     },
     "metadata": {
      "needs_background": "light"
     },
     "output_type": "display_data"
    }
   ],
   "source": [
    "[plt.plot(state_data[:,ii]) for ii in range(state_data.shape[1])]\n",
    "plt.show()"
   ]
  },
  {
   "cell_type": "code",
   "execution_count": 60,
   "id": "0d79b5cc",
   "metadata": {},
   "outputs": [
    {
     "data": {
      "image/png": "[encoded data removed]",
      "text/plain": [
       "<Figure size 432x288 with 1 Axes>"
      ]
     },
     "metadata": {
      "needs_background": "light"
     },
     "output_type": "display_data"
    }
   ],
   "source": [
    "[plt.plot(downscale[:,ii]) for ii in range(downscale.shape[1])]\n",
    "plt.show()"
   ]
  },
  {
   "cell_type": "code",
   "execution_count": 33,
   "id": "181c661b",
   "metadata": {},
   "outputs": [],
   "source": [
    "# Now we have all the data, we have to put it into the required joint lists for usage\n",
    "temp_wrench = log3.data()\n",
    "# Reshape into per interface loads\n",
    "wrench = temp_wrench.reshape((11,6,temp_wrench.shape[1]))"
   ]
  },
  {
   "cell_type": "code",
   "execution_count": 34,
   "id": "44c0102b",
   "metadata": {},
   "outputs": [],
   "source": [
    "# Select only the required ones\n",
    "required_wrenches = [wrench[i+1].T for i in range(8)]"
   ]
  },
  {
   "cell_type": "code",
   "execution_count": 38,
   "id": "a5bdae30",
   "metadata": {},
   "outputs": [
    {
     "data": {
      "text/plain": [
       "[<matplotlib.lines.Line2D at 0x7f1cbc944430>]"
      ]
     },
     "execution_count": 38,
     "metadata": {},
     "output_type": "execute_result"
    },
    {
     "data": {
      "image/png": "[encoded data removed]",
      "text/plain": [
       "<Figure size 432x288 with 1 Axes>"
      ]
     },
     "metadata": {
      "needs_background": "light"
     },
     "output_type": "display_data"
    }
   ],
   "source": [
    "plt.plot(required_wrenches[1][:,3])\n",
    "plt.plot(required_wrenches[0][:,3])"
   ]
  },
  {
   "cell_type": "code",
   "execution_count": 39,
   "id": "30ff81b8",
   "metadata": {},
   "outputs": [
    {
     "data": {
      "text/plain": [
       "[25.447175486839477,\n",
       " 25.447175486839477,\n",
       " 25.85499205036605,\n",
       " 25.465150340865844,\n",
       " 16.254152016671345,\n",
       " 13.3258559245958,\n",
       " 12.769145640931246,\n",
       " 10.72045179704569]"
      ]
     },
     "execution_count": 39,
     "metadata": {},
     "output_type": "execute_result"
    }
   ],
   "source": [
    "# Get max values for each of the applied wrench\n",
    "[np.max(required_wrenches[i]) for i in range(8)]"
   ]
  },
  {
   "cell_type": "code",
   "execution_count": null,
   "id": "f8673f23",
   "metadata": {},
   "outputs": [],
   "source": [
    "# [11.293139895688741,\n",
    "#  9.65486989568874,\n",
    "#  11.30068730927156,\n",
    "#  10.910845599771356,\n",
    "#  6.095191114915376,\n",
    "#  3.1668950228398294,\n",
    "#  2.6101847391752773,\n",
    "#  0.5614908952897243]"
   ]
  },
  {
   "cell_type": "code",
   "execution_count": 41,
   "id": "15afec6c",
   "metadata": {},
   "outputs": [
    {
     "data": {
      "text/plain": [
       "[None, None, None, None, None, None, None, None]"
      ]
     },
     "execution_count": 41,
     "metadata": {},
     "output_type": "execute_result"
    }
   ],
   "source": [
    "# Save the required wrenches to csv\n",
    "[np.savetxt(\"interface_wrench_{}_1kg_payload.csv\".format(i), required_wrenches[i], delimiter=\",\") for i in range(len(required_wrenches))]"
   ]
  },
  {
   "cell_type": "code",
   "execution_count": 13,
   "id": "49c003b8",
   "metadata": {},
   "outputs": [],
   "source": [
    "# Plot the computational graph\n",
    "# SVG(pydot.graph_from_dot_data(diagram.GetGraphvizString())[0].create_svg())"
   ]
  },
  {
   "cell_type": "code",
   "execution_count": 14,
   "id": "988eaf4f",
   "metadata": {},
   "outputs": [
    {
     "data": {
      "text/plain": [
       "[<WeldJoint_[float] name='joint_1_fixed' index=0 model_instance=2>,\n",
       " <RevoluteJoint_[float] name='joint_2_revolute' index=1 model_instance=2>,\n",
       " <WeldJoint_[float] name='joint_3_fixed' index=2 model_instance=2>,\n",
       " <RevoluteJoint_[float] name='joint_4_revolute' index=3 model_instance=2>,\n",
       " <WeldJoint_[float] name='joint_5_fixed' index=4 model_instance=2>,\n",
       " <RevoluteJoint_[float] name='joint_6_revolute' index=5 model_instance=2>,\n",
       " <WeldJoint_[float] name='joint_7_fixed' index=6 model_instance=2>,\n",
       " <WeldJoint_[float] name='joint_8_fixed' index=7 model_instance=2>,\n",
       " <RevoluteJoint_[float] name='joint_9_revolute' index=8 model_instance=2>,\n",
       " <WeldJoint_[float] name='eef_joint' index=9 model_instance=2>,\n",
       " <WeldJoint_[float] name='WorldBody_welds_to_root_mod' index=10 model_instance=2>]"
      ]
     },
     "execution_count": 14,
     "metadata": {},
     "output_type": "execute_result"
    }
   ],
   "source": [
    "num_joints = plant.num_joints()\n",
    "# Now we know the order of the indices of the joints\n",
    "# We can map these indices to spatial forces obtained\n",
    "([plant.get_joint(plant.GetJointIndices(model)[i]) for i in range(num_joints-2)])\n",
    "# plant.GetJointIndices(model)\n",
    "# plant.GetJointByName(\"joint_9_revolute\")\n",
    "\n",
    "# Sphere has joint indices 11 and 12\n",
    "# plant.GetJointIndices(sphere1)\n",
    "# plant.GetJointIndices(sphere2)\n",
    "\n",
    "# len(reaction_forces.Eval(plant_context))"
   ]
  },
  {
   "cell_type": "code",
   "execution_count": null,
   "id": "4238e034",
   "metadata": {},
   "outputs": [],
   "source": [
    "# So we need all the loads from index 1 to 8"
   ]
  },
  {
   "cell_type": "code",
   "execution_count": 64,
   "id": "43f13537",
   "metadata": {},
   "outputs": [
    {
     "name": "stdout",
     "output_type": "stream",
     "text": [
      "0\n",
      "1\n",
      "2\n",
      "3\n",
      "4\n",
      "5\n",
      "6\n",
      "7\n"
     ]
    },
    {
     "data": {
      "text/plain": [
       "[None, None, None, None, None, None, None, None]"
      ]
     },
     "execution_count": 64,
     "metadata": {},
     "output_type": "execute_result"
    }
   ],
   "source": [
    "[print(i) for i in range(8)]"
   ]
  },
  {
   "cell_type": "code",
   "execution_count": 61,
   "id": "85970631",
   "metadata": {},
   "outputs": [
    {
     "name": "stdout",
     "output_type": "stream",
     "text": [
      "RigidTransform(\n",
      "  R=RotationMatrix([\n",
      "    [2.0038218377957018e-17, 0.0707372016677029, 0.9974949866040544],\n",
      "    [-1.0, 2.83276944882399e-16, 0.0],\n",
      "    [-2.82567332340706e-16, -0.9974949866040544, 0.0707372016677029],\n",
      "  ]),\n",
      "  p=[0.14918726634993146, -0.306, 0.28513978763467596],\n",
      ")\n",
      "gripper position (m): [0.15 -0.31 0.29]\n",
      "gripper roll-pitch-yaw (rad):[-1.50 0.00 -1.57]\n"
     ]
    }
   ],
   "source": [
    "class PrintPose(LeafSystem):\n",
    "    def __init__(self, body_index):\n",
    "        LeafSystem.__init__(self)\n",
    "        self._body_index = body_index\n",
    "        self.DeclareAbstractInputPort(\"body_poses\",\n",
    "                                    AbstractValue.Make([RigidTransform()]))\n",
    "        self.DeclareForcedPublishEvent(self.Publish)\n",
    "\n",
    "    def Publish(self, context):\n",
    "        pose = self.get_input_port().Eval(context)[self._body_index]\n",
    "        print(pose)\n",
    "        print(\"gripper position (m): \" + np.array2string(\n",
    "            pose.translation(), formatter={\n",
    "                'float': lambda x: \"{:3.2f}\".format(x)}))\n",
    "        print(\"gripper roll-pitch-yaw (rad):\" + np.array2string(\n",
    "            RollPitchYaw(pose.rotation()).vector(),\n",
    "                         formatter={'float': lambda x: \"{:3.2f}\".format(x)}))\n",
    "        clear_output(wait=True)\n",
    "\n",
    "\n",
    "def gripper_forward_kinematics_example(name):\n",
    "    builder = DiagramBuilder()\n",
    "\n",
    "    plant, scene_graph = AddMultibodyPlantSceneGraph(builder, time_step=0)\n",
    "    model = Parser(plant, scene_graph).AddModelFromFile('./'+name+'.urdf','puma')\n",
    "    plant.WeldFrames(plant.world_frame(), plant.get_body(plant.GetBodyIndices(model)[0]).body_frame())\n",
    "    plant.Finalize()\n",
    "\n",
    "    meshcat.Delete()\n",
    "    meshcat.DeleteAddedControls()\n",
    "    visualizer = MeshcatVisualizer.AddToBuilder(\n",
    "        builder, scene_graph.get_query_output_port(), meshcat)\n",
    "\n",
    "    end_frame = \"eef\"\n",
    "    gripper = plant.GetBodyByName(end_frame).body_frame()\n",
    "    print_pose = builder.AddSystem(PrintPose(gripper.index()))\n",
    "    builder.Connect(plant.get_body_poses_output_port(),\n",
    "                    print_pose.get_input_port())\n",
    "\n",
    "#     default_interactive_timeout = None if running_as_notebook else 1.0\n",
    "    default_interactive_timeout = 1.0\n",
    "    sliders = builder.AddSystem(JointSliders(meshcat, plant))\n",
    "    diagram = builder.Build()\n",
    "#     sliders.Run(diagram, default_interactive_timeout)\n",
    "    sliders.Run(diagram)\n",
    "    meshcat.DeleteAddedControls()\n",
    "\n",
    "gripper_forward_kinematics_example(\"FG2_stowing_robot48390\")"
   ]
  },
  {
   "cell_type": "code",
   "execution_count": null,
   "id": "001088b9",
   "metadata": {},
   "outputs": [],
   "source": []
  }
 ],
 "metadata": {
  "kernelspec": {
   "display_name": "Python 3 (ipykernel)",
   "language": "python",
   "name": "python3"
  },
  "language_info": {
   "codemirror_mode": {
    "name": "ipython",
    "version": 3
   },
   "file_extension": ".py",
   "mimetype": "text/x-python",
   "name": "python",
   "nbconvert_exporter": "python",
   "pygments_lexer": "ipython3",
   "version": "3.8.13"
  }
 },
 "nbformat": 4,
 "nbformat_minor": 5
}
