{
 "cells": [
  {
   "cell_type": "code",
   "execution_count": 1,
   "id": "889884fb",
   "metadata": {},
   "outputs": [],
   "source": [
    "import sys\n",
    "sys.path.append('../src/DoD')\n",
    "import DoD\n",
    "import Node\n",
    "\n",
    "# from DoD import DoD, Node\n",
    "from pydrake.all import *"
   ]
  },
  {
   "cell_type": "code",
   "execution_count": 2,
   "id": "9eb2834f",
   "metadata": {},
   "outputs": [
    {
     "name": "stderr",
     "output_type": "stream",
     "text": [
      "INFO:drake:Meshcat listening for connections at http://localhost:7001\n"
     ]
    }
   ],
   "source": [
    "meshcat = StartMeshcat()"
   ]
  },
  {
   "cell_type": "code",
   "execution_count": 3,
   "id": "6ec4c156",
   "metadata": {},
   "outputs": [
    {
     "name": "stdout",
     "output_type": "stream",
     "text": [
      "FG2_stowing_robot14222.urdf\n"
     ]
    },
    {
     "name": "stderr",
     "output_type": "stream",
     "text": [
      "/home/laniakea/git/research/lcl-robots-DoD/examples/../src/DoD/DoD.py:426: UserWarning: Gimbal lock detected. Setting third angle to zero since it is not possible to uniquely determine all angles.\n",
      "  current_orientation = self.r.as_euler('xyz')\n",
      "/home/laniakea/git/research/lcl-robots-DoD/examples/../src/DoD/DoD.py:323: UserWarning: Gimbal lock detected. Setting third angle to zero since it is not possible to uniquely determine all angles.\n",
      "  orieef = self.r.as_euler('xyz')\n"
     ]
    }
   ],
   "source": [
    "# To construct a robot by hand using the existing modules\n",
    "\n",
    "# Initialise robot\n",
    "robot = DoD.robotDoD('FG2_stowing_robot')\n",
    "# robot.visualiseModule(robot.c90, meshcat)\n",
    "# Archi-1\n",
    "robot.add_root()\n",
    "robot.add_module(robot.base360)\n",
    "robot.add_module(robot.c0)\n",
    "robot.add_module(robot.l150)\n",
    "# robot.add_module(robot.c180)\n",
    "robot.add_module(robot.c0)\n",
    "robot.add_module(robot.j90)\n",
    "robot.add_module(robot.c0)\n",
    "robot.add_module(robot.l100)\n",
    "robot.add_module(robot.c0)\n",
    "robot.add_module(robot.j90)\n",
    "robot.add_module(robot.l50)\n",
    "robot.add_module(robot.j90)\n",
    "robot.add_module(robot.c0)\n",
    "robot.add_module(robot.l50)\n",
    "robot.add_eef()\n",
    "\n",
    "urdf_path = robot.constructURDF()\n",
    "print(urdf_path)\n",
    "robot.visualiseRobot(urdf_path, meshcat)"
   ]
  },
  {
   "cell_type": "code",
   "execution_count": 4,
   "id": "c938eb4f",
   "metadata": {},
   "outputs": [
    {
     "name": "stdout",
     "output_type": "stream",
     "text": [
      "j90\n",
      "c90\n",
      "l50\n",
      "l100\n",
      "l150\n"
     ]
    }
   ],
   "source": [
    "# Declare new modules and how to toggle modules active or inactive\n",
    "\n",
    "# View declared modules which are active\n",
    "# for i in robot.declared_modules:\n",
    "#     print(i.name)\n",
    "    \n",
    "# Declaring custom modules\n",
    "# c180 = robot.robotModule('c180')\n",
    "# # Define the module\n",
    "# c180.intA = np.array([[0,0.035,0.025], [0,0,1]])\n",
    "# c180.intB = np.array([[0,-0.035,0.025], [0,0,1]])\n",
    "# c180.type = 2\n",
    "# c180.mesh_path = \"./meshes/180-connector-2.obj\"\n",
    "# c180.cost = 10\n",
    "# c180.parent_type = conn_com\n",
    "# # Inertial properties about the CoM\n",
    "# c180.mass = 0.423\n",
    "# # Inertia data from CAD in gm*mm^2 -> kg*m^2\n",
    "# c180.inertia = np.round(np.array([\n",
    "#                         [5.240e+05,0.01,0.049],\n",
    "#                         [0.01,1.980e+05,2703.107],\n",
    "#                         [0.049,2703.107,5.217e+05]])*1e-9,6)\n",
    "\n",
    "# Activate the required modules only\n",
    "robot.declared_modules = [robot.j90,\n",
    "                          robot.c90,\n",
    "                          robot.l50, \n",
    "                          robot.l100, \n",
    "                          robot.l150]\n",
    "\n",
    "for i in robot.declared_modules:\n",
    "    print(i.name)"
   ]
  },
  {
   "cell_type": "code",
   "execution_count": 5,
   "id": "e40de9b7",
   "metadata": {},
   "outputs": [
    {
     "data": {
      "text/plain": [
       "[<DoD.robotDoD at 0x7f7158203160>,\n",
       " <DoD.robotDoD at 0x7f71582039d0>,\n",
       " <DoD.robotDoD at 0x7f7158210be0>,\n",
       " <DoD.robotDoD at 0x7f71581997f0>,\n",
       " <DoD.robotDoD at 0x7f71581a11c0>]"
      ]
     },
     "execution_count": 5,
     "metadata": {},
     "output_type": "execute_result"
    }
   ],
   "source": [
    "# Now to get compatible modules and child nodes\n",
    "\n",
    "# Initiate the base robot\n",
    "roboDoD = DoD.robotDoD('test')\n",
    "roboDoD.add_root()\n",
    "roboDoD.add_module(roboDoD.base360)\n",
    "\n",
    "# Expanding and inspecting child nodes\n",
    "node = Node.robotNode(roboDoD)\n",
    "compatible_modules = node.get_compatible_modules()\n",
    "# print(len(compatible_modules))\n",
    "\n",
    "# # Some functions need not be used explicitly like \n",
    "# # checking compatible modules. It is automatically \n",
    "# # done within expand_nodes()\n",
    "node.expand_node()\n",
    "node.child_nodes"
   ]
  },
  {
   "cell_type": "code",
   "execution_count": 7,
   "id": "235c9ed6",
   "metadata": {},
   "outputs": [
    {
     "ename": "AttributeError",
     "evalue": "'robotNode' object has no attribute 'compute_heuristic_cost'",
     "output_type": "error",
     "traceback": [
      "\u001b[0;31m---------------------------------------------------------------------------\u001b[0m",
      "\u001b[0;31mAttributeError\u001b[0m                            Traceback (most recent call last)",
      "Input \u001b[0;32mIn [7]\u001b[0m, in \u001b[0;36m<cell line: 21>\u001b[0;34m()\u001b[0m\n\u001b[1;32m     19\u001b[0m compatible_modules \u001b[38;5;241m=\u001b[39m node\u001b[38;5;241m.\u001b[39mget_compatible_modules()\n\u001b[1;32m     20\u001b[0m node\u001b[38;5;241m.\u001b[39mexpand_node()\n\u001b[0;32m---> 21\u001b[0m best_child_idx \u001b[38;5;241m=\u001b[39m \u001b[43mnode\u001b[49m\u001b[38;5;241;43m.\u001b[39;49m\u001b[43mget_best_child_index\u001b[49m\u001b[43m(\u001b[49m\u001b[43m)\u001b[49m\n\u001b[1;32m     22\u001b[0m \u001b[38;5;66;03m# Run search loop until success\u001b[39;00m\n\u001b[1;32m     23\u001b[0m end_game \u001b[38;5;241m=\u001b[39m \u001b[38;5;28;01mFalse\u001b[39;00m\n",
      "File \u001b[0;32m~/git/research/lcl-robots-DoD/examples/../src/DoD/Node.py:169\u001b[0m, in \u001b[0;36mrobotNode.get_best_child_index\u001b[0;34m(self)\u001b[0m\n\u001b[1;32m    165\u001b[0m         \u001b[38;5;28mself\u001b[39m\u001b[38;5;241m.\u001b[39mchildren_cost \u001b[38;5;241m=\u001b[39m []\n\u001b[1;32m    166\u001b[0m         \u001b[38;5;28;01mfor\u001b[39;00m ii \u001b[38;5;129;01min\u001b[39;00m \u001b[38;5;28mrange\u001b[39m(\u001b[38;5;28mself\u001b[39m\u001b[38;5;241m.\u001b[39mnum_child_nodes):\n\u001b[1;32m    167\u001b[0m             \u001b[38;5;28mself\u001b[39m\u001b[38;5;241m.\u001b[39mchildren_cost\u001b[38;5;241m.\u001b[39mappend(\n\u001b[1;32m    168\u001b[0m \u001b[38;5;66;03m#                 self.compute_heuristic_cost(self.children_path[ii], self.child_nodes[ii].name)+self.compute_path_cost(self.child_nodes[ii]))\u001b[39;00m\n\u001b[0;32m--> 169\u001b[0m             \u001b[38;5;28;43mself\u001b[39;49m\u001b[38;5;241;43m.\u001b[39;49m\u001b[43mcompute_heuristic_cost\u001b[49m(\u001b[38;5;28mself\u001b[39m\u001b[38;5;241m.\u001b[39mchildren_path[ii], \u001b[38;5;28mself\u001b[39m\u001b[38;5;241m.\u001b[39mchild_nodes[ii]\u001b[38;5;241m.\u001b[39mname)\u001b[38;5;241m+\u001b[39m\n\u001b[1;32m    170\u001b[0m             \u001b[38;5;28mself\u001b[39m\u001b[38;5;241m.\u001b[39mcompute_path_cost(\u001b[38;5;28mself\u001b[39m\u001b[38;5;241m.\u001b[39mchild_nodes[ii])\n\u001b[1;32m    171\u001b[0m             )\n\u001b[1;32m    172\u001b[0m         \u001b[38;5;66;03m# print(self.children_cost)\u001b[39;00m\n\u001b[1;32m    173\u001b[0m         \u001b[38;5;66;03m# Get the best child index\u001b[39;00m\n\u001b[1;32m    174\u001b[0m         best_child_index \u001b[38;5;241m=\u001b[39m \u001b[38;5;28mself\u001b[39m\u001b[38;5;241m.\u001b[39mchildren_cost\u001b[38;5;241m.\u001b[39mindex(np\u001b[38;5;241m.\u001b[39mmin(\u001b[38;5;28mself\u001b[39m\u001b[38;5;241m.\u001b[39mchildren_cost))\n",
      "\u001b[0;31mAttributeError\u001b[0m: 'robotNode' object has no attribute 'compute_heuristic_cost'"
     ]
    }
   ],
   "source": [
    "# Now to the complete example of automatically finding robot \n",
    "# architecture using a simple search algorithm\n",
    "\n",
    "# Initiating the base robot structure\n",
    "roboDoD = DoD.robotDoD('test')\n",
    "roboDoD.add_root()\n",
    "roboDoD.add_module(roboDoD.base360)\n",
    "roboDoD.add_module(roboDoD.l150)\n",
    "\n",
    "# Activate only required modules\n",
    "roboDoD.declared_modules = [roboDoD.j90,\n",
    "                          roboDoD.c90,\n",
    "                          roboDoD.l50, \n",
    "                          roboDoD.l100, \n",
    "                          roboDoD.l150]\n",
    "\n",
    "# Initiate the node class\n",
    "node = Node.robotNode(roboDoD)\n",
    "compatible_modules = node.get_compatible_modules()\n",
    "node.expand_node()\n",
    "best_child_idx = node.get_best_child_index()\n",
    "# Run search loop until success\n",
    "end_game = False\n",
    "\n",
    "while not end_game:\n",
    "    # Setup basic diagram and the sphere at the desired location\n",
    "    builder = DiagramBuilder()\n",
    "    # Get path of the best child\n",
    "    urdf_path = node.children_path[best_child_idx]\n",
    "    model_name = node.child_nodes[best_child_idx].robot.name\n",
    "    plant, scene_graph = AddMultibodyPlantSceneGraph(builder, time_step=1e-4)\n",
    "    model = Parser(plant, scene_graph).AddModelFromFile(urdf_path, model_name)\n",
    "    # Weld the robot to the world frame\n",
    "    plant.WeldFrames(plant.world_frame(), plant.get_body(plant.GetBodyIndices(model)[0]).body_frame())\n",
    "    \n",
    "    # Spawn spherical work marker\n",
    "    sphere1 = Parser(plant, scene_graph).AddModelFromFile('./urdfs/helper/sphere.urdf','sphere1')\n",
    "    sphere2 = Parser(plant, scene_graph).AddModelFromFile('./urdfs/helper/sphere.urdf','sphere2')\n",
    "    # We can sample end-points on the surface of the sphere\n",
    "    cart0 = np.array([0.15, 0.1, 0.45])\n",
    "    cartf = np.array([-0.05, 0.35, 0.3])\n",
    "    X_R1 = RigidTransform(cart0)\n",
    "    X_R2 = RigidTransform(cartf)\n",
    "    plant.WeldFrames(plant.world_frame(), plant.get_body(plant.GetBodyIndices(sphere1)[0]).body_frame(), X_R1)\n",
    "    plant.WeldFrames(plant.world_frame(), plant.get_body(plant.GetBodyIndices(sphere2)[0]).body_frame(), X_R2)\n",
    "    plant.Finalize()\n",
    "\n",
    "    # Select the last frame as the eef_frame\n",
    "    gripper_frame = plant.GetBodyByName(\"eef\").body_frame()\n",
    "\n",
    "    meshcat.Delete()\n",
    "    meshcat.DeleteAddedControls()\n",
    "\n",
    "    visualizer = MeshcatVisualizerCpp.AddToBuilder(builder, scene_graph, meshcat)\n",
    "\n",
    "    diagram = builder.Build()\n",
    "    context = diagram.CreateDefaultContext()\n",
    "    plant_context = plant.GetMyMutableContextFromRoot(context)\n",
    "\n",
    "    q0 = plant.GetPositions(plant_context)\n",
    "    diagram.Publish(context)\n",
    "    \n",
    "    # Check design\n",
    "    ik = InverseKinematics(plant, plant_context)\n",
    "    ik.AddPositionConstraint(\n",
    "                gripper_frame, [0, 0, 0], plant.world_frame(), \n",
    "                cart0, cart0)\n",
    "    prog = ik.get_mutable_prog()\n",
    "    q = ik.q()\n",
    "    prog.AddQuadraticErrorCost(np.identity(len(q)), q0, q)\n",
    "    prog.SetInitialGuess(q, q0)\n",
    "    result = Solve(ik.prog())\n",
    "    qr = result.GetSolution(ik.q())\n",
    "    qr = (np.arctan2(np.sin(qr), np.cos(qr)))\n",
    "    # Visualise the best solution\n",
    "    plant.SetPositions(plant.GetMyContextFromRoot(context),model,qr)\n",
    "    diagram.Publish(context)\n",
    "    end_game = result.is_success()\n",
    "    time.sleep(1.3)\n",
    "    # Check for position-2\n",
    "    ik = InverseKinematics(plant, plant_context)\n",
    "    ik.AddPositionConstraint(\n",
    "                gripper_frame, [0, 0, 0], plant.world_frame(), \n",
    "                cartf, cartf)\n",
    "    prog = ik.get_mutable_prog()\n",
    "    q = ik.q()\n",
    "    prog.AddQuadraticErrorCost(np.identity(len(q)), qr, q)\n",
    "    prog.SetInitialGuess(q, qr)\n",
    "    result = Solve(ik.prog())\n",
    "    qr = result.GetSolution(ik.q())\n",
    "    # Visualise the best solution\n",
    "    plant.SetPositions(plant.GetMyContextFromRoot(context),model,qr)\n",
    "    diagram.Publish(context)\n",
    "    end_game = end_game and result.is_success()\n",
    "    time.sleep(1.3)\n",
    "    print('Last successful robot: ', urdf_path)\n",
    "    if end_game:\n",
    "        break\n",
    "    else:\n",
    "        # Update parent_node with the best child\n",
    "        node.parent_node = node.child_nodes[best_child_idx]\n",
    "        # Expand node\n",
    "        node.expand_node()\n",
    "        # Get the best child from the new children\n",
    "        best_child_idx = node.get_best_child_index()\n",
    "        # Use line below instead if you installed the version after FG#2 release v0.1.0\n",
    "#         _, best_child_idx = node.get_best_child()"
   ]
  },
  {
   "cell_type": "code",
   "execution_count": null,
   "id": "acbe469f",
   "metadata": {},
   "outputs": [],
   "source": []
  }
 ],
 "metadata": {
  "kernelspec": {
   "display_name": "Python 3 (ipykernel)",
   "language": "python",
   "name": "python3"
  },
  "language_info": {
   "codemirror_mode": {
    "name": "ipython",
    "version": 3
   },
   "file_extension": ".py",
   "mimetype": "text/x-python",
   "name": "python",
   "nbconvert_exporter": "python",
   "pygments_lexer": "ipython3",
   "version": "3.8.13"
  }
 },
 "nbformat": 4,
 "nbformat_minor": 5
}
