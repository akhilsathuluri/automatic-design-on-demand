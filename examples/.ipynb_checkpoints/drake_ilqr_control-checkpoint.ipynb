{
 "cells": [
  {
   "cell_type": "code",
   "execution_count": 1,
   "id": "3af47a05",
   "metadata": {},
   "outputs": [],
   "source": [
    "# Load modules directly from the folder -> Easy to develop\n",
    "import sys, os\n",
    "sys.path.append(\"../src/DoD\")\n",
    "from DoD import *\n",
    "from Node import *\n",
    "import time\n",
    "import numpy as np\n",
    "import matplotlib.pyplot as plt\n",
    "\n",
    "from pydrake.all import *\n",
    "from manipulation.scenarios import AddMultibodyTriad\n",
    "from IPython.display import display, SVG, clear_output, HTML\n",
    "from joblib import Parallel, delayed"
   ]
  },
  {
   "cell_type": "code",
   "execution_count": 2,
   "id": "a297a5dd",
   "metadata": {},
   "outputs": [
    {
     "name": "stderr",
     "output_type": "stream",
     "text": [
      "INFO:drake:Meshcat listening for connections at http://localhost:7000\n"
     ]
    }
   ],
   "source": [
    "meshcat = StartMeshcat()"
   ]
  },
  {
   "cell_type": "code",
   "execution_count": 5,
   "id": "42602d3d",
   "metadata": {},
   "outputs": [],
   "source": [
    "# reconstructing the first lcl robot\n",
    "# roboDoD = robotDoD('greedy_robot')\n",
    "# roboDoD.add_root()\n",
    "# roboDoD.add_module(roboDoD.base360)\n",
    "# roboDoD.add_module(roboDoD.l150)\n",
    "# roboDoD.add_module(roboDoD.j90)\n",
    "# roboDoD.add_module(roboDoD.l100)\n",
    "# roboDoD.add_module(roboDoD.j90)\n",
    "# roboDoD.add_module(roboDoD.c90)\n",
    "# roboDoD.add_module(roboDoD.l50)\n",
    "# roboDoD.add_module(roboDoD.j90)\n",
    "# roboDoD.add_module(roboDoD.l50)\n",
    "# roboDoD.add_module(roboDoD.eef1l)\n",
    "# roboDoD.add_eef()\n",
    "# roboDoD.constructURDF()\n",
    "\n",
    "# visualise the robot\n",
    "# roboDoD.visualiseRobot('./greedy_robot.urdf', meshcat, frames=True)"
   ]
  },
  {
   "cell_type": "code",
   "execution_count": 6,
   "id": "6794f0c8",
   "metadata": {},
   "outputs": [],
   "source": [
    "from ilqr import IterativeLinearQuadraticRegulator"
   ]
  },
  {
   "cell_type": "code",
   "execution_count": 29,
   "id": "f50efd0d",
   "metadata": {},
   "outputs": [],
   "source": [
    "####################################\n",
    "# Parameters\n",
    "####################################\n",
    "\n",
    "T = 1        # total simulation time (S)\n",
    "dt = 1e-2      # simulation timestep\n",
    "\n",
    "# Solver method\n",
    "# must be \"ilqr\" or \"sqp\"\n",
    "method = \"ilqr\"\n",
    "MPC = True      # MPC only works with ilqr for nows"
   ]
  },
  {
   "cell_type": "code",
   "execution_count": 40,
   "id": "60d349bc",
   "metadata": {},
   "outputs": [],
   "source": [
    "# Initial state\n",
    "x0 = np.array([0,0,0,0,0,0,0,0])\n",
    "\n",
    "# Target state\n",
    "x_nom = np.array([np.pi/2,np.pi/3,-np.pi/4,-np.pi/8,0,0,0,0])\n",
    "\n",
    "# Quadratic cost int_{0^T} (x'Qx + u'Ru) + x_T*Qf*x_T\n",
    "Q = 0.01*np.diag([0,0,0,0,1,1,1,1])\n",
    "R = 0.01*np.eye(4)\n",
    "Qf = 100*np.diag([1,1,1,1,1,1,1,1])\n",
    "\n",
    "####################################\n",
    "# Tools for system setup\n",
    "####################################\n",
    "\n",
    "def create_system_model(plant):\n",
    "    urdf = './greedy_robot.urdf'\n",
    "    robot = Parser(plant=plant).AddModelFromFile(urdf)\n",
    "    plant.WeldFrames(plant.world_frame(), plant.get_body(plant.GetBodyIndices(robot)[0]).body_frame())\n",
    "    plant.Finalize()\n",
    "    return plant\n",
    "\n",
    "####################################\n",
    "# Create system diagram\n",
    "####################################\n",
    "builder = DiagramBuilder()\n",
    "plant, scene_graph = AddMultibodyPlantSceneGraph(builder, dt)\n",
    "plant = create_system_model(plant)\n",
    "assert plant.geometry_source_is_registered()\n",
    "\n",
    "controller = builder.AddSystem(ConstantVectorSource(np.zeros(4)))\n",
    "builder.Connect(\n",
    "        controller.get_output_port(),\n",
    "        plant.get_actuation_input_port())\n",
    "\n",
    "DrakeVisualizer().AddToBuilder(builder, scene_graph)\n",
    "ConnectContactResultsToDrakeVisualizer(builder, plant, scene_graph)\n",
    "visualizer = MeshcatVisualizer.AddToBuilder(builder, scene_graph, meshcat)\n",
    "\n",
    "diagram = builder.Build()\n",
    "diagram_context = diagram.CreateDefaultContext()\n",
    "plant_context = diagram.GetMutableSubsystemContext(\n",
    "        plant, diagram_context)"
   ]
  },
  {
   "cell_type": "code",
   "execution_count": 41,
   "id": "c1a678bc",
   "metadata": {},
   "outputs": [
    {
     "name": "stdout",
     "output_type": "stream",
     "text": [
      "Solved in 9.852991104125977 seconds using SQP via SNOPT/fortran\n",
      "Optimal cost: 0.04952575313101641\n"
     ]
    }
   ],
   "source": [
    "#####################################\n",
    "# Solve Trajectory Optimization\n",
    "#####################################\n",
    "\n",
    "# System model for the trajectory optimizer\n",
    "plant_ = MultibodyPlant(dt)\n",
    "plant_ = create_system_model(plant_)\n",
    "input_port_index = plant_.get_actuation_input_port().get_index()\n",
    "\n",
    "#-----------------------------------------\n",
    "# DDP method\n",
    "#-----------------------------------------\n",
    "\n",
    "def solve_ilqr(solver, x0, u_guess):\n",
    "    \"\"\"\n",
    "    Convienience function for solving the optimization\n",
    "    problem from the given initial state with the given\n",
    "    guess of control inputs.\n",
    "    \"\"\"\n",
    "    solver.SetInitialState(x0)\n",
    "    solver.SetInitialGuess(u_guess)\n",
    "\n",
    "    states, inputs, solve_time, optimal_cost = solver.Solve()\n",
    "    return states, inputs, solve_time, optimal_cost\n",
    "\n",
    "#-----------------------------------------\n",
    "# Direct Transcription method\n",
    "#-----------------------------------------\n",
    "\n",
    "context_ = plant_.CreateDefaultContext()\n",
    "\n",
    "# Set up the solver object\n",
    "trajopt = DirectTranscription(\n",
    "        plant_, context_, \n",
    "        input_port_index=input_port_index,\n",
    "        num_time_samples=int(T/dt))\n",
    "\n",
    "# Add constraints\n",
    "x = trajopt.state()\n",
    "u = trajopt.input()\n",
    "x_init = trajopt.initial_state()\n",
    "\n",
    "trajopt.prog().AddConstraint(eq( x_init, x0 ))\n",
    "x_err = x - x_nom\n",
    "trajopt.AddRunningCost(x_err.T@Q@x_err + u.T@R@u)\n",
    "trajopt.AddFinalCost(x_err.T@Qf@x_err)\n",
    "\n",
    "# Solve the optimization problem\n",
    "st = time.time()\n",
    "res = Solve(trajopt.prog())\n",
    "solve_time = time.time() - st\n",
    "assert res.is_success(), \"trajectory optimizer failed\"\n",
    "solver_name = res.get_solver_id().name()\n",
    "optimal_cost = res.get_optimal_cost()\n",
    "print(f\"Solved in {solve_time} seconds using SQP via {solver_name}\")\n",
    "print(f\"Optimal cost: {optimal_cost}\")\n",
    "\n",
    "# Extract the solution\n",
    "timesteps = trajopt.GetSampleTimes(res)\n",
    "states = trajopt.GetStateSamples(res)\n",
    "inputs = trajopt.GetInputSamples(res)"
   ]
  },
  {
   "cell_type": "code",
   "execution_count": 42,
   "id": "03e4d266",
   "metadata": {},
   "outputs": [],
   "source": [
    "plant.SetPositionsAndVelocities(plant_context, np.array([1,2,3,4,0,0,0,0]))\n",
    "diagram.ForcedPublish(diagram_context)"
   ]
  },
  {
   "cell_type": "code",
   "execution_count": 43,
   "id": "de13d6e9",
   "metadata": {},
   "outputs": [
    {
     "ename": "KeyboardInterrupt",
     "evalue": "",
     "output_type": "error",
     "traceback": [
      "\u001b[0;31m---------------------------------------------------------------------------\u001b[0m",
      "\u001b[0;31mKeyboardInterrupt\u001b[0m                         Traceback (most recent call last)",
      "Input \u001b[0;32mIn [43]\u001b[0m, in \u001b[0;36m<cell line: 21>\u001b[0;34m()\u001b[0m\n\u001b[1;32m     18\u001b[0m             time\u001b[38;5;241m.\u001b[39msleep(dt\u001b[38;5;241m-\u001b[39m\u001b[38;5;241m3e-4\u001b[39m)\n\u001b[1;32m     19\u001b[0m         time\u001b[38;5;241m.\u001b[39msleep(\u001b[38;5;241m1\u001b[39m)\n\u001b[0;32m---> 21\u001b[0m \u001b[43mplayback\u001b[49m\u001b[43m(\u001b[49m\u001b[43mstates\u001b[49m\u001b[43m,\u001b[49m\u001b[43mtimesteps\u001b[49m\u001b[43m)\u001b[49m\n",
      "Input \u001b[0;32mIn [43]\u001b[0m, in \u001b[0;36mplayback\u001b[0;34m(states, timesteps)\u001b[0m\n\u001b[1;32m     14\u001b[0m     diagram_context\u001b[38;5;241m.\u001b[39mSetTime(t)\n\u001b[1;32m     15\u001b[0m     plant\u001b[38;5;241m.\u001b[39mSetPositionsAndVelocities(plant_context, x)\n\u001b[0;32m---> 16\u001b[0m     \u001b[43mdiagram\u001b[49m\u001b[38;5;241;43m.\u001b[39;49m\u001b[43mForcedPublish\u001b[49m\u001b[43m(\u001b[49m\u001b[43mdiagram_context\u001b[49m\u001b[43m)\u001b[49m\n\u001b[1;32m     18\u001b[0m     time\u001b[38;5;241m.\u001b[39msleep(dt\u001b[38;5;241m-\u001b[39m\u001b[38;5;241m3e-4\u001b[39m)\n\u001b[1;32m     19\u001b[0m time\u001b[38;5;241m.\u001b[39msleep(\u001b[38;5;241m1\u001b[39m)\n",
      "\u001b[0;31mKeyboardInterrupt\u001b[0m: "
     ]
    }
   ],
   "source": [
    "def playback(states, timesteps):\n",
    "    \"\"\"\n",
    "    Convienience function for visualising the given trajectory.\n",
    "    Relies on diagram, diagram_context, plant, and plant_context\n",
    "    being defined outside of the scope of this function and connected\n",
    "    to the Drake visualizer.\n",
    "    \"\"\"\n",
    "    while True:\n",
    "        # Just keep playing back the trajectory\n",
    "        for i in range(len(timesteps)):\n",
    "            t = timesteps[i]\n",
    "            x = states[:,i]\n",
    "\n",
    "            diagram_context.SetTime(t)\n",
    "            plant.SetPositionsAndVelocities(plant_context, x)\n",
    "            diagram.ForcedPublish(diagram_context)\n",
    "\n",
    "            time.sleep(dt-3e-4)\n",
    "        time.sleep(1)\n",
    "\n",
    "playback(states,timesteps)"
   ]
  }
 ],
 "metadata": {
  "kernelspec": {
   "display_name": "Python 3 (ipykernel)",
   "language": "python",
   "name": "python3"
  },
  "language_info": {
   "codemirror_mode": {
    "name": "ipython",
    "version": 3
   },
   "file_extension": ".py",
   "mimetype": "text/x-python",
   "name": "python",
   "nbconvert_exporter": "python",
   "pygments_lexer": "ipython3",
   "version": "3.8.13"
  }
 },
 "nbformat": 4,
 "nbformat_minor": 5
}
